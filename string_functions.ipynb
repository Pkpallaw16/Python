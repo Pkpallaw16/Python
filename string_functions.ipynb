{
  "nbformat": 4,
  "nbformat_minor": 0,
  "metadata": {
    "colab": {
      "name": "string_functions.ipynb",
      "provenance": [],
      "authorship_tag": "ABX9TyNJAGdfbcdiUXaiwojYzXI1",
      "include_colab_link": true
    },
    "kernelspec": {
      "name": "python3",
      "display_name": "Python 3"
    }
  },
  "cells": [
    {
      "cell_type": "markdown",
      "metadata": {
        "id": "view-in-github",
        "colab_type": "text"
      },
      "source": [
        "<a href=\"https://colab.research.google.com/github/Pkpallaw16/Python/blob/main/string_functions.ipynb\" target=\"_parent\"><img src=\"https://colab.research.google.com/assets/colab-badge.svg\" alt=\"Open In Colab\"/></a>"
      ]
    },
    {
      "cell_type": "code",
      "metadata": {
        "colab": {
          "base_uri": "https://localhost:8080/"
        },
        "id": "A9XDWzq9eKED",
        "outputId": "a3b65b7c-b6c2-4166-a14d-dc5380faac00"
      },
      "source": [
        "#Accessing string characters in Python\n",
        "str = 'programiz'\n",
        "print('str = ', str)\n",
        "\n",
        "#first character\n",
        "print('str[0] = ', str[0])\n",
        "\n",
        "#last character\n",
        "print('str[-1] = ', str[-1])\n",
        "print('str[0] = ', str[8])\n",
        "\n",
        "#slicing 2nd to 5th character\n",
        "print('str[1:5] = ', str[0:5])\n",
        "print('str[5:] = ', str[5:])\n",
        "print('str[:5] = ', str[:5])\n",
        "\n",
        "#slicing 6th to 2nd last character\n",
        "print('str[5:-2] = ', str[3:-2])"
      ],
      "execution_count": null,
      "outputs": [
        {
          "output_type": "stream",
          "text": [
            "str =  programiz\n",
            "str[0] =  p\n",
            "str[-1] =  z\n",
            "str[0] =  z\n",
            "str[1:5] =  progr\n",
            "str[5:] =  amiz\n",
            "str[:5] =  progr\n",
            "str[5:-2] =  am\n"
          ],
          "name": "stdout"
        }
      ]
    },
    {
      "cell_type": "code",
      "metadata": {
        "colab": {
          "base_uri": "https://localhost:8080/"
        },
        "id": "iUHu5v2IcxOM",
        "outputId": "8ab64644-3b38-4cd1-b18e-748b440f749a"
      },
      "source": [
        "str1 = 'Hello'\n",
        "str2 ='World!'\n",
        "\n",
        "# using +\n",
        "print('str1 + str2 = ', str1 +\" \"+ str2)\n",
        "\n",
        "# using *\n",
        "print('str1 * 5 =', str1 * 5)"
      ],
      "execution_count": null,
      "outputs": [
        {
          "output_type": "stream",
          "text": [
            "str1 + str2 =  Hello World!\n",
            "str1 * 5 = HelloHelloHelloHelloHello\n"
          ],
          "name": "stdout"
        }
      ]
    },
    {
      "cell_type": "code",
      "metadata": {
        "colab": {
          "base_uri": "https://localhost:8080/"
        },
        "id": "i7RNEpl6XzaZ",
        "outputId": "1bb6aa15-9aba-4631-9b13-5856961dcac5"
      },
      "source": [
        "str=\"PrOgRaMiZ\"\n",
        "print(str[0].lower())\n",
        "print(str.upper())\n"
      ],
      "execution_count": null,
      "outputs": [
        {
          "output_type": "stream",
          "text": [
            "p\n",
            "PROGRAMIZ\n"
          ],
          "name": "stdout"
        }
      ]
    },
    {
      "cell_type": "code",
      "metadata": {
        "colab": {
          "base_uri": "https://localhost:8080/"
        },
        "id": "_nJgKtQCZIUz",
        "outputId": "bce7c0da-44f3-43f0-fd0f-97809c299a76"
      },
      "source": [
        "str1= \"This will split all words into a list\"\n",
        "print(str1.split())\n",
        "print('$'.join(['This', 'will', 'join', 'all', 'words', 'into', 'a', 'string']))\n"
      ],
      "execution_count": null,
      "outputs": [
        {
          "output_type": "stream",
          "text": [
            "['This', 'will', 'split', 'all', 'words', 'into', 'a', 'list']\n",
            "This$will$join$all$words$into$a$string\n"
          ],
          "name": "stdout"
        }
      ]
    },
    {
      "cell_type": "code",
      "metadata": {
        "colab": {
          "base_uri": "https://localhost:8080/"
        },
        "id": "XO83-Z_SZLvp",
        "outputId": "2f1d6973-8d41-47d3-bf44-116c4e371503"
      },
      "source": [
        "str3='Happy New Year'\n",
        "print(str3.find('New'))\n",
        "str4='Happy New Year'\n",
        "print(str4.replace('Happy','good'))"
      ],
      "execution_count": null,
      "outputs": [
        {
          "output_type": "stream",
          "text": [
            "6\n",
            "good New Year\n"
          ],
          "name": "stdout"
        }
      ]
    },
    {
      "cell_type": "code",
      "metadata": {
        "colab": {
          "base_uri": "https://localhost:8080/"
        },
        "id": "7TsOarq-Z0lD",
        "outputId": "73ce96da-fb48-4e43-be9d-5e7491febfc1"
      },
      "source": [
        "\n",
        "#The format() method formats the specified value(s) and insert them inside the string's placeholder.\n",
        "#The placeholder is defined using curly brackets: {}\n",
        "print('\\n--- Default Order ---')\n",
        "print(\"{}, {} and {}\".format('John','Bill','Sean'))\n"
      ],
      "execution_count": null,
      "outputs": [
        {
          "output_type": "stream",
          "text": [
            "\n",
            "--- Default Order ---\n",
            "John, Bill and Sean\n"
          ],
          "name": "stdout"
        }
      ]
    },
    {
      "cell_type": "code",
      "metadata": {
        "colab": {
          "base_uri": "https://localhost:8080/"
        },
        "id": "f9z8IDa1abZc",
        "outputId": "5fe17220-0102-4415-b403-15a72487ac70"
      },
      "source": [
        "print('\\n--- Positional Order ---')\n",
        "print(\"{1}, {0} and {2}\".format('John','Bill','Sean'))"
      ],
      "execution_count": null,
      "outputs": [
        {
          "output_type": "stream",
          "text": [
            "\n",
            "--- Positional Order ---\n",
            "Bill, John and Sean\n"
          ],
          "name": "stdout"
        }
      ]
    },
    {
      "cell_type": "code",
      "metadata": {
        "id": "0FtVpctcB157"
      },
      "source": [
        ""
      ],
      "execution_count": null,
      "outputs": []
    },
    {
      "cell_type": "code",
      "metadata": {
        "colab": {
          "base_uri": "https://localhost:8080/"
        },
        "id": "2D2GJtZyarAO",
        "outputId": "ad1034fc-ecfa-4c03-d675-78a54bef0c43"
      },
      "source": [
        "print('\\n--- Keyword Order ---')\n",
        "x=8\n",
        "y=9\n",
        "z=8\n",
        "print(\"the value of x,y,z is {},{},{}\".format(x,y,z))\n",
        "print(\"{s}, {b} and {j}\".format(j='John',b='Bill',s='Sean'))"
      ],
      "execution_count": null,
      "outputs": [
        {
          "output_type": "stream",
          "text": [
            "\n",
            "--- Keyword Order ---\n",
            "the value of x,y,z is 8,9,8\n",
            "Sean, Bill and John\n"
          ],
          "name": "stdout"
        }
      ]
    },
    {
      "cell_type": "code",
      "metadata": {
        "colab": {
          "base_uri": "https://localhost:8080/"
        },
        "id": "YC1PLvjUhQX-",
        "outputId": "79aa7b1b-24b3-4b2f-80c1-cc94cbb3ae2a"
      },
      "source": [
        "s = 'My name is {name} and I am a {job_title}'\n",
        "\n",
        "my_dict = {'name': 'Pallaw', 'job_title': 'Software Engineer'}\n",
        "\n",
        "print(s.format_map(my_dict))\n",
        "print(s.format(**my_dict))"
      ],
      "execution_count": null,
      "outputs": [
        {
          "output_type": "stream",
          "text": [
            "My name is Pallaw and I am a Software Engineer\n",
            "My name is Pallaw and I am a Software Engineer\n"
          ],
          "name": "stdout"
        }
      ]
    },
    {
      "cell_type": "markdown",
      "metadata": {
        "id": "aDadw30Gbuit"
      },
      "source": [
        "Built-in functions to Work with Python\n",
        "Various built-in functions that work with sequence work with strings as well.\n",
        "\n",
        "Some of the commonly used ones are enumerate() and len(). The enumerate() function returns an enumerate object. It contains the index and value of all the items in the string as pairs. This can be useful for iteration.\n",
        "\n",
        "Similarly, len() returns the length (number of characters) of the string."
      ]
    },
    {
      "cell_type": "code",
      "metadata": {
        "colab": {
          "base_uri": "https://localhost:8080/"
        },
        "id": "mCbBrisEbxt0",
        "outputId": "37d6621d-4e67-4dbe-e91f-2c38b7d58a0e"
      },
      "source": [
        "str = 'cold'\n",
        "\n",
        "# enumerate()\n",
        "list_enumerate = list(enumerate(str))\n",
        "print('list(enumerate(str) = ', list_enumerate)\n",
        "\n",
        "#character count\n",
        "print('len(str) = ', len(str))"
      ],
      "execution_count": null,
      "outputs": [
        {
          "output_type": "stream",
          "text": [
            "list(enumerate(str) =  [(0, 'c'), (1, 'o'), (2, 'l'), (3, 'd')]\n",
            "len(str) =  4\n"
          ],
          "name": "stdout"
        }
      ]
    },
    {
      "cell_type": "code",
      "metadata": {
        "id": "KfvYxpER0lJ_"
      },
      "source": [
        ""
      ],
      "execution_count": null,
      "outputs": []
    },
    {
      "cell_type": "code",
      "metadata": {
        "colab": {
          "base_uri": "https://localhost:8080/"
        },
        "id": "GvMHXibVitj2",
        "outputId": "19fd37cd-7cc4-4e2f-eef3-a11bd963d1ee"
      },
      "source": [
        "fruit1 = 'Apple'\n",
        "\n",
        "print(fruit1 == 'Apple')\n",
        "print(fruit1 != 'Apple')\n",
        "print(fruit1 < 'Apple')\n",
        "print(fruit1 > 'Apple')\n",
        "print(fruit1 <= 'Apple')\n",
        "print(fruit1 >= 'Apple')\n"
      ],
      "execution_count": null,
      "outputs": [
        {
          "output_type": "stream",
          "text": [
            "True\n",
            "False\n",
            "False\n",
            "False\n",
            "True\n",
            "True\n"
          ],
          "name": "stdout"
        }
      ]
    },
    {
      "cell_type": "code",
      "metadata": {
        "colab": {
          "base_uri": "https://localhost:8080/"
        },
        "id": "pstm7dbQjcCp",
        "outputId": "babe2f31-ef3e-41c7-cddb-5349722da439"
      },
      "source": [
        "s1 = 'Apple'\n",
        "\n",
        "s2 = 'Apple'\n",
        "# case sensitive equals check\n",
        "if s1 == s2:\n",
        "    print('s1 and s2 are equal.')\n",
        "\n",
        "if s1.__eq__(s2):\n",
        "    print('s1 and s2 are equal.')"
      ],
      "execution_count": null,
      "outputs": [
        {
          "output_type": "stream",
          "text": [
            "s1 and s2 are equal.\n",
            "s1 and s2 are equal.\n"
          ],
          "name": "stdout"
        }
      ]
    },
    {
      "cell_type": "code",
      "metadata": {
        "colab": {
          "base_uri": "https://localhost:8080/"
        },
        "id": "zOJpEgWTj-wl",
        "outputId": "f322f980-3efe-4bae-e3e8-b9772054fe53"
      },
      "source": [
        "#str.count(sub, start, end)\n",
        "s = 'I like Python programming. Python is Awesome!'\n",
        "\n",
        "print('Number of occurrence of \"Python\" in String =',s.count(\"Python\"))\n",
        "\n",
        "print('Number of occurrence of \"Python\" in String between index 0 to 20 =', s.count(\"Python\", 0, 20))"
      ],
      "execution_count": null,
      "outputs": [
        {
          "output_type": "stream",
          "text": [
            "Number of occurrence of \"Python\" in String = 2\n",
            "Number of occurrence of \"Python\" in String between index 0 to 20 = 1\n"
          ],
          "name": "stdout"
        }
      ]
    },
    {
      "cell_type": "code",
      "metadata": {
        "colab": {
          "base_uri": "https://localhost:8080/"
        },
        "id": "lLhSQYbakmrU",
        "outputId": "95ee5976-07e7-4cb7-d660-6a6c4e7f5ba1"
      },
      "source": [
        "#str.replace(old, new, count)\n",
        "s = 'Java is Nice'\n",
        "\n",
        "# simple string replace example\n",
        "str_new = s.replace('Java', 'Python')\n",
        "print(str_new)\n",
        "\n",
        "# replace character in string\n",
        "s = 'dododo'\n",
        "str_new = s.replace('d', 'c')\n",
        "print(str_new)\n",
        "\n",
        "s = 'dododo'\n",
        "str_new = s.replace('d', 'c', 2)\n",
        "print(str_new)"
      ],
      "execution_count": null,
      "outputs": [
        {
          "output_type": "stream",
          "text": [
            "Python is Nice\n",
            "cococo\n",
            "cocodo\n"
          ],
          "name": "stdout"
        }
      ]
    },
    {
      "cell_type": "code",
      "metadata": {
        "colab": {
          "base_uri": "https://localhost:8080/"
        },
        "id": "px28PKrhlUbA",
        "outputId": "179d7245-b9f2-44e3-c2de-f2276e5e252b"
      },
      "source": [
        "s = 'abc'\n",
        "\n",
        "print('s contains a =', s.__contains__('a'))\n",
        "print('s contains A =', s.__contains__('A'))\n",
        "print('s contains X =', s.__contains__('X'))"
      ],
      "execution_count": null,
      "outputs": [
        {
          "output_type": "stream",
          "text": [
            "s contains a = True\n",
            "s contains A = False\n",
            "s contains X = False\n"
          ],
          "name": "stdout"
        }
      ]
    }
  ]
}