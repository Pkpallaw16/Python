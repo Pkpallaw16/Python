{
  "nbformat": 4,
  "nbformat_minor": 0,
  "metadata": {
    "kernelspec": {
      "display_name": "Python 3",
      "language": "python",
      "name": "python3"
    },
    "language_info": {
      "codemirror_mode": {
        "name": "ipython",
        "version": 3
      },
      "file_extension": ".py",
      "mimetype": "text/x-python",
      "name": "python",
      "nbconvert_exporter": "python",
      "pygments_lexer": "ipython3",
      "version": "3.6.4"
    },
    "colab": {
      "name": "1. NumPy.ipynb",
      "provenance": [],
      "include_colab_link": true
    }
  },
  "cells": [
    {
      "cell_type": "markdown",
      "metadata": {
        "id": "view-in-github",
        "colab_type": "text"
      },
      "source": [
        "<a href=\"https://colab.research.google.com/github/Pkpallaw16/Python/blob/main/1_NumPy.ipynb\" target=\"_parent\"><img src=\"https://colab.research.google.com/assets/colab-badge.svg\" alt=\"Open In Colab\"/></a>"
      ]
    },
    {
      "cell_type": "markdown",
      "metadata": {
        "id": "obtt1_MpnV3C"
      },
      "source": [
        "### Initialization"
      ]
    },
    {
      "cell_type": "code",
      "metadata": {
        "id": "8nxTFGTZnV3F"
      },
      "source": [
        "import numpy as np"
      ],
      "execution_count": null,
      "outputs": []
    },
    {
      "cell_type": "code",
      "metadata": {
        "id": "XpY3TjLdnV3G"
      },
      "source": [
        "a = np.zeros((3,3,3))"
      ],
      "execution_count": null,
      "outputs": []
    },
    {
      "cell_type": "code",
      "metadata": {
        "id": "eySOlZjQnV3H",
        "outputId": "02e1f751-8c84-49d3-bf17-1d78d2dc8fde"
      },
      "source": [
        "a"
      ],
      "execution_count": null,
      "outputs": [
        {
          "output_type": "execute_result",
          "data": {
            "text/plain": [
              "array([[[0., 0., 0.],\n",
              "        [0., 0., 0.],\n",
              "        [0., 0., 0.]],\n",
              "\n",
              "       [[0., 0., 0.],\n",
              "        [0., 0., 0.],\n",
              "        [0., 0., 0.]],\n",
              "\n",
              "       [[0., 0., 0.],\n",
              "        [0., 0., 0.],\n",
              "        [0., 0., 0.]]])"
            ]
          },
          "metadata": {
            "tags": []
          },
          "execution_count": 6
        }
      ]
    },
    {
      "cell_type": "code",
      "metadata": {
        "id": "Xb7oj6yRnV3J",
        "outputId": "6f25c977-50b0-4360-cee5-3b99729c5ba4"
      },
      "source": [
        "np.ones((2,2,4), dtype=int)"
      ],
      "execution_count": null,
      "outputs": [
        {
          "output_type": "execute_result",
          "data": {
            "text/plain": [
              "array([[[1, 1, 1, 1],\n",
              "        [1, 1, 1, 1]],\n",
              "\n",
              "       [[1, 1, 1, 1],\n",
              "        [1, 1, 1, 1]]])"
            ]
          },
          "metadata": {
            "tags": []
          },
          "execution_count": 10
        }
      ]
    },
    {
      "cell_type": "code",
      "metadata": {
        "id": "WfRxPGinnV3J",
        "outputId": "b748b8b7-fbed-449a-d66b-0c33faee4e60"
      },
      "source": [
        "np.full((2,2),\"hellottwyyw\", dtype='<U7')"
      ],
      "execution_count": null,
      "outputs": [
        {
          "output_type": "execute_result",
          "data": {
            "text/plain": [
              "array([['hellott', 'hellott'],\n",
              "       ['hellott', 'hellott']], dtype='<U7')"
            ]
          },
          "metadata": {
            "tags": []
          },
          "execution_count": 12
        }
      ]
    },
    {
      "cell_type": "code",
      "metadata": {
        "id": "TNzndtZ5nV3K",
        "outputId": "09367f7b-c1d5-4dde-caa7-5c55894d3efc"
      },
      "source": [
        "np.random.rand(10)"
      ],
      "execution_count": null,
      "outputs": [
        {
          "output_type": "execute_result",
          "data": {
            "text/plain": [
              "array([0.12520064, 0.07562049, 0.12900815, 0.55747886, 0.11532656,\n",
              "       0.53774122, 0.06926235, 0.29796341, 0.09515193, 0.05531125])"
            ]
          },
          "metadata": {
            "tags": []
          },
          "execution_count": 13
        }
      ]
    },
    {
      "cell_type": "code",
      "metadata": {
        "id": "a6zFKbE8nV3L"
      },
      "source": [
        "data = np.random.randint(5,10,(10,10))"
      ],
      "execution_count": null,
      "outputs": []
    },
    {
      "cell_type": "markdown",
      "metadata": {
        "id": "QdWnkqcPnV3M"
      },
      "source": [
        "### Access of NumPy "
      ]
    },
    {
      "cell_type": "code",
      "metadata": {
        "id": "2lME53KHnV3N",
        "outputId": "36106995-90ad-4d7a-ff57-2be5cfe9b7ea"
      },
      "source": [
        "data[4:8]"
      ],
      "execution_count": null,
      "outputs": [
        {
          "output_type": "execute_result",
          "data": {
            "text/plain": [
              "array([[6, 6, 7, 7, 5, 6, 9, 9, 8, 7],\n",
              "       [8, 5, 9, 5, 7, 8, 5, 9, 6, 8],\n",
              "       [7, 7, 6, 6, 5, 9, 6, 6, 5, 9],\n",
              "       [5, 6, 9, 6, 8, 9, 9, 6, 9, 8]])"
            ]
          },
          "metadata": {
            "tags": []
          },
          "execution_count": 20
        }
      ]
    },
    {
      "cell_type": "code",
      "metadata": {
        "id": "NL0hJXd1nV3O",
        "outputId": "5796d203-d30d-4df8-cb7b-928414e53dea"
      },
      "source": [
        "data[4:8,4:6]"
      ],
      "execution_count": null,
      "outputs": [
        {
          "output_type": "execute_result",
          "data": {
            "text/plain": [
              "array([[5, 6],\n",
              "       [7, 8],\n",
              "       [5, 9],\n",
              "       [8, 9]])"
            ]
          },
          "metadata": {
            "tags": []
          },
          "execution_count": 22
        }
      ]
    },
    {
      "cell_type": "code",
      "metadata": {
        "id": "uK_39ESlnV3O",
        "outputId": "845ce147-86c5-4b1b-bcae-cdb641322e87"
      },
      "source": [
        "data[4:6,4:6]"
      ],
      "execution_count": null,
      "outputs": [
        {
          "output_type": "execute_result",
          "data": {
            "text/plain": [
              "array([[5, 6],\n",
              "       [7, 8]])"
            ]
          },
          "metadata": {
            "tags": []
          },
          "execution_count": 28
        }
      ]
    },
    {
      "cell_type": "markdown",
      "metadata": {
        "id": "b1AhVaibnV3P"
      },
      "source": [
        "### Combine Data"
      ]
    },
    {
      "cell_type": "code",
      "metadata": {
        "id": "3dtcfTPOnV3P"
      },
      "source": [
        "data1 = np.random.randint(5,15,size=(5,3))"
      ],
      "execution_count": null,
      "outputs": []
    },
    {
      "cell_type": "code",
      "metadata": {
        "id": "zEoSwoPmnV3Q"
      },
      "source": [
        "data2 = np.random.randint(5,15,size=(5,3))"
      ],
      "execution_count": null,
      "outputs": []
    },
    {
      "cell_type": "code",
      "metadata": {
        "id": "12Y6wInqnV3Q",
        "outputId": "c875181e-c160-4d0d-fa1e-2ec0600e6844"
      },
      "source": [
        "np.hstack([data1,data2])"
      ],
      "execution_count": null,
      "outputs": [
        {
          "output_type": "execute_result",
          "data": {
            "text/plain": [
              "array([[ 8, 10, 14,  6, 13,  6],\n",
              "       [ 6, 10, 14, 10, 14, 13],\n",
              "       [12,  5, 13,  5,  8, 13],\n",
              "       [ 5, 14, 10, 12,  9,  6],\n",
              "       [ 9,  7, 14, 13,  9,  8]])"
            ]
          },
          "metadata": {
            "tags": []
          },
          "execution_count": 32
        }
      ]
    },
    {
      "cell_type": "code",
      "metadata": {
        "id": "yqzor-m7nV3R",
        "outputId": "1439c8aa-733e-40af-d484-2439c89876b7"
      },
      "source": [
        "np.vstack([data1, data2])"
      ],
      "execution_count": null,
      "outputs": [
        {
          "output_type": "execute_result",
          "data": {
            "text/plain": [
              "array([[ 8, 10, 14],\n",
              "       [ 6, 10, 14],\n",
              "       [12,  5, 13],\n",
              "       [ 5, 14, 10],\n",
              "       [ 9,  7, 14],\n",
              "       [ 6, 13,  6],\n",
              "       [10, 14, 13],\n",
              "       [ 5,  8, 13],\n",
              "       [12,  9,  6],\n",
              "       [13,  9,  8]])"
            ]
          },
          "metadata": {
            "tags": []
          },
          "execution_count": 33
        }
      ]
    },
    {
      "cell_type": "code",
      "metadata": {
        "id": "1qTS5QXjnV3R",
        "outputId": "afb37515-7eaf-49d2-aaf4-0033674386af"
      },
      "source": [
        "np.concatenate([data1, data2], axis=1)"
      ],
      "execution_count": null,
      "outputs": [
        {
          "output_type": "execute_result",
          "data": {
            "text/plain": [
              "array([[ 8, 10, 14,  6, 13,  6],\n",
              "       [ 6, 10, 14, 10, 14, 13],\n",
              "       [12,  5, 13,  5,  8, 13],\n",
              "       [ 5, 14, 10, 12,  9,  6],\n",
              "       [ 9,  7, 14, 13,  9,  8]])"
            ]
          },
          "metadata": {
            "tags": []
          },
          "execution_count": 34
        }
      ]
    },
    {
      "cell_type": "code",
      "metadata": {
        "id": "xfLN0PKvnV3S"
      },
      "source": [
        "data1 = np.random.randint(5,15,size=(5,3,2))"
      ],
      "execution_count": null,
      "outputs": []
    },
    {
      "cell_type": "code",
      "metadata": {
        "id": "ymToCmSWnV3S"
      },
      "source": [
        "data2 = np.random.randint(5,15,size=(5,3,2))"
      ],
      "execution_count": null,
      "outputs": []
    },
    {
      "cell_type": "code",
      "metadata": {
        "id": "hEISWiBAnV3S",
        "outputId": "733a64e5-ca8e-4449-d23a-3cb609ad68c9"
      },
      "source": [
        "np.concatenate([data1, data2], axis=2)"
      ],
      "execution_count": null,
      "outputs": [
        {
          "output_type": "execute_result",
          "data": {
            "text/plain": [
              "array([[[ 5, 14, 14, 14],\n",
              "        [ 8,  9, 10,  8],\n",
              "        [12,  9, 14,  5]],\n",
              "\n",
              "       [[ 6, 11,  6, 12],\n",
              "        [ 9,  6,  5, 10],\n",
              "        [10,  6,  9,  8]],\n",
              "\n",
              "       [[11, 13,  8,  5],\n",
              "        [13, 14, 12,  6],\n",
              "        [ 7,  9, 14,  6]],\n",
              "\n",
              "       [[13,  9,  5, 11],\n",
              "        [ 5, 10,  5,  7],\n",
              "        [ 6,  5, 14,  6]],\n",
              "\n",
              "       [[ 5, 14, 11,  8],\n",
              "        [ 5,  5,  6,  9],\n",
              "        [ 7, 11, 11, 11]]])"
            ]
          },
          "metadata": {
            "tags": []
          },
          "execution_count": 41
        }
      ]
    },
    {
      "cell_type": "markdown",
      "metadata": {
        "id": "Y-YcOMeBnV3T"
      },
      "source": [
        "### Splitting Data"
      ]
    },
    {
      "cell_type": "code",
      "metadata": {
        "id": "QfByjeCznV3T"
      },
      "source": [
        "a1,a2 = np.hsplit(data,[5])"
      ],
      "execution_count": null,
      "outputs": []
    },
    {
      "cell_type": "code",
      "metadata": {
        "id": "d9b-9jKxnV3T",
        "outputId": "a2278a3c-ee11-4fdc-dbde-938b79001c7b"
      },
      "source": [
        "a1"
      ],
      "execution_count": null,
      "outputs": [
        {
          "output_type": "execute_result",
          "data": {
            "text/plain": [
              "array([[9, 6, 5, 7, 9],\n",
              "       [8, 9, 9, 6, 9],\n",
              "       [9, 9, 8, 6, 7],\n",
              "       [5, 5, 5, 6, 5],\n",
              "       [6, 6, 7, 7, 5],\n",
              "       [8, 5, 9, 5, 7],\n",
              "       [7, 7, 6, 6, 5],\n",
              "       [5, 6, 9, 6, 8],\n",
              "       [6, 9, 6, 6, 7],\n",
              "       [5, 7, 5, 5, 6]])"
            ]
          },
          "metadata": {
            "tags": []
          },
          "execution_count": 45
        }
      ]
    },
    {
      "cell_type": "code",
      "metadata": {
        "id": "aChoHGo2nV3U"
      },
      "source": [
        "b1,b2,b3 = np.vsplit(data,[5,7])"
      ],
      "execution_count": null,
      "outputs": []
    },
    {
      "cell_type": "code",
      "metadata": {
        "id": "Leku8mHknV3U",
        "outputId": "a5868382-189b-4b0f-b21f-50715aab64d0"
      },
      "source": [
        "b1"
      ],
      "execution_count": null,
      "outputs": [
        {
          "output_type": "execute_result",
          "data": {
            "text/plain": [
              "array([[9, 6, 5, 7, 9, 6, 5, 5, 5, 6],\n",
              "       [8, 9, 9, 6, 9, 7, 5, 6, 7, 8],\n",
              "       [9, 9, 8, 6, 7, 7, 6, 6, 9, 5],\n",
              "       [5, 5, 5, 6, 5, 9, 9, 9, 8, 9],\n",
              "       [6, 6, 7, 7, 5, 6, 9, 9, 8, 7]])"
            ]
          },
          "metadata": {
            "tags": []
          },
          "execution_count": 48
        }
      ]
    },
    {
      "cell_type": "code",
      "metadata": {
        "id": "7p5jA76mnV3U",
        "outputId": "80c7a158-3e17-4e22-cb63-0ea2448e6cf4"
      },
      "source": [
        "b2"
      ],
      "execution_count": null,
      "outputs": [
        {
          "output_type": "execute_result",
          "data": {
            "text/plain": [
              "array([[8, 5, 9, 5, 7, 8, 5, 9, 6, 8],\n",
              "       [7, 7, 6, 6, 5, 9, 6, 6, 5, 9]])"
            ]
          },
          "metadata": {
            "tags": []
          },
          "execution_count": 49
        }
      ]
    },
    {
      "cell_type": "code",
      "metadata": {
        "id": "b1Q0JX4snV3V",
        "outputId": "2ef4276c-1898-490c-f3dd-6c857cc8bafb"
      },
      "source": [
        "b3"
      ],
      "execution_count": null,
      "outputs": [
        {
          "output_type": "execute_result",
          "data": {
            "text/plain": [
              "array([[5, 6, 9, 6, 8, 9, 9, 6, 9, 8],\n",
              "       [6, 9, 6, 6, 7, 7, 5, 8, 5, 8],\n",
              "       [5, 7, 5, 5, 6, 5, 6, 6, 5, 6]])"
            ]
          },
          "metadata": {
            "tags": []
          },
          "execution_count": 50
        }
      ]
    },
    {
      "cell_type": "markdown",
      "metadata": {
        "id": "dY1rXN5dnV3V"
      },
      "source": [
        "### Shape, Dimension"
      ]
    },
    {
      "cell_type": "code",
      "metadata": {
        "id": "Z3XuBJEfnV3V",
        "outputId": "9598b148-4b4c-46ab-dc56-cec8c4f98e14"
      },
      "source": [
        "data.shape"
      ],
      "execution_count": null,
      "outputs": [
        {
          "output_type": "execute_result",
          "data": {
            "text/plain": [
              "(10, 10)"
            ]
          },
          "metadata": {
            "tags": []
          },
          "execution_count": 52
        }
      ]
    },
    {
      "cell_type": "code",
      "metadata": {
        "id": "DKYOb4vonV3W",
        "outputId": "a4053048-e27f-4fed-bb68-d2e8b7be95c3"
      },
      "source": [
        "data.ndim"
      ],
      "execution_count": null,
      "outputs": [
        {
          "output_type": "execute_result",
          "data": {
            "text/plain": [
              "2"
            ]
          },
          "metadata": {
            "tags": []
          },
          "execution_count": 53
        }
      ]
    },
    {
      "cell_type": "code",
      "metadata": {
        "id": "9V9fJJT8nV3W",
        "outputId": "3b599c7e-0c9a-4a0e-df5b-de420089bafc"
      },
      "source": [
        "data.size"
      ],
      "execution_count": null,
      "outputs": [
        {
          "output_type": "execute_result",
          "data": {
            "text/plain": [
              "100"
            ]
          },
          "metadata": {
            "tags": []
          },
          "execution_count": 54
        }
      ]
    },
    {
      "cell_type": "code",
      "metadata": {
        "id": "z5siDmDVnV3W",
        "outputId": "6f39b931-ea87-463b-8883-552add599f5e"
      },
      "source": [
        "data.reshape(2,50)"
      ],
      "execution_count": null,
      "outputs": [
        {
          "output_type": "execute_result",
          "data": {
            "text/plain": [
              "array([[9, 6, 5, 7, 9, 6, 5, 5, 5, 6, 8, 9, 9, 6, 9, 7, 5, 6, 7, 8, 9, 9,\n",
              "        8, 6, 7, 7, 6, 6, 9, 5, 5, 5, 5, 6, 5, 9, 9, 9, 8, 9, 6, 6, 7, 7,\n",
              "        5, 6, 9, 9, 8, 7],\n",
              "       [8, 5, 9, 5, 7, 8, 5, 9, 6, 8, 7, 7, 6, 6, 5, 9, 6, 6, 5, 9, 5, 6,\n",
              "        9, 6, 8, 9, 9, 6, 9, 8, 6, 9, 6, 6, 7, 7, 5, 8, 5, 8, 5, 7, 5, 5,\n",
              "        6, 5, 6, 6, 5, 6]])"
            ]
          },
          "metadata": {
            "tags": []
          },
          "execution_count": 56
        }
      ]
    },
    {
      "cell_type": "code",
      "metadata": {
        "id": "EItBTu-5nV3X"
      },
      "source": [
        "d = np.array([1,2,3,4,5,6,7,9])"
      ],
      "execution_count": null,
      "outputs": []
    },
    {
      "cell_type": "code",
      "metadata": {
        "id": "MjbxqpcjnV3X",
        "outputId": "9d87631e-ab2a-465c-d8a4-f0015b020e1f"
      },
      "source": [
        "d.ndim"
      ],
      "execution_count": null,
      "outputs": [
        {
          "output_type": "execute_result",
          "data": {
            "text/plain": [
              "1"
            ]
          },
          "metadata": {
            "tags": []
          },
          "execution_count": 59
        }
      ]
    },
    {
      "cell_type": "code",
      "metadata": {
        "id": "zFcG8sAvnV3X",
        "outputId": "e4debbef-4ca2-4deb-b352-d256fa6a7829"
      },
      "source": [
        "d.shape"
      ],
      "execution_count": null,
      "outputs": [
        {
          "output_type": "execute_result",
          "data": {
            "text/plain": [
              "(8,)"
            ]
          },
          "metadata": {
            "tags": []
          },
          "execution_count": 60
        }
      ]
    },
    {
      "cell_type": "code",
      "metadata": {
        "id": "8iTADCr9nV3X",
        "outputId": "8e99d543-c249-44c1-bc32-e22326bee9c0"
      },
      "source": [
        "d.size"
      ],
      "execution_count": null,
      "outputs": [
        {
          "output_type": "execute_result",
          "data": {
            "text/plain": [
              "8"
            ]
          },
          "metadata": {
            "tags": []
          },
          "execution_count": 61
        }
      ]
    },
    {
      "cell_type": "code",
      "metadata": {
        "id": "_F3qsIjLnV3Y",
        "outputId": "f85a9944-a6b4-4cdb-beb6-d9fb9dd11049"
      },
      "source": [
        "d.reshape(8,1)"
      ],
      "execution_count": null,
      "outputs": [
        {
          "output_type": "execute_result",
          "data": {
            "text/plain": [
              "array([[1],\n",
              "       [2],\n",
              "       [3],\n",
              "       [4],\n",
              "       [5],\n",
              "       [6],\n",
              "       [7],\n",
              "       [9]])"
            ]
          },
          "metadata": {
            "tags": []
          },
          "execution_count": 62
        }
      ]
    },
    {
      "cell_type": "code",
      "metadata": {
        "id": "asw1V53bnV3Y",
        "outputId": "128d0ded-5900-4604-a3ed-19cf438c0f72"
      },
      "source": [
        "data.reshape(-1,20)"
      ],
      "execution_count": null,
      "outputs": [
        {
          "output_type": "execute_result",
          "data": {
            "text/plain": [
              "array([[9, 6, 5, 7, 9, 6, 5, 5, 5, 6, 8, 9, 9, 6, 9, 7, 5, 6, 7, 8],\n",
              "       [9, 9, 8, 6, 7, 7, 6, 6, 9, 5, 5, 5, 5, 6, 5, 9, 9, 9, 8, 9],\n",
              "       [6, 6, 7, 7, 5, 6, 9, 9, 8, 7, 8, 5, 9, 5, 7, 8, 5, 9, 6, 8],\n",
              "       [7, 7, 6, 6, 5, 9, 6, 6, 5, 9, 5, 6, 9, 6, 8, 9, 9, 6, 9, 8],\n",
              "       [6, 9, 6, 6, 7, 7, 5, 8, 5, 8, 5, 7, 5, 5, 6, 5, 6, 6, 5, 6]])"
            ]
          },
          "metadata": {
            "tags": []
          },
          "execution_count": 65
        }
      ]
    },
    {
      "cell_type": "markdown",
      "metadata": {
        "id": "uF2MOcZTnV3Y"
      },
      "source": [
        "### Utility Function"
      ]
    },
    {
      "cell_type": "code",
      "metadata": {
        "id": "CQk2oQmgnV3Z",
        "outputId": "a5d30277-2a7d-4a02-9427-8c5b3d051114"
      },
      "source": [
        "np.sum(data)"
      ],
      "execution_count": null,
      "outputs": [
        {
          "output_type": "execute_result",
          "data": {
            "text/plain": [
              "683"
            ]
          },
          "metadata": {
            "tags": []
          },
          "execution_count": 68
        }
      ]
    },
    {
      "cell_type": "code",
      "metadata": {
        "id": "rWV4OTBNnV3Z",
        "outputId": "a3ea0fe8-f975-4b4a-ff77-ae34bd05704c"
      },
      "source": [
        "np.sum(data, axis=1)"
      ],
      "execution_count": null,
      "outputs": [
        {
          "output_type": "execute_result",
          "data": {
            "text/plain": [
              "array([63, 74, 72, 70, 70, 70, 66, 75, 67, 56])"
            ]
          },
          "metadata": {
            "tags": []
          },
          "execution_count": 72
        }
      ]
    },
    {
      "cell_type": "code",
      "metadata": {
        "id": "uUVGj0kpnV3Z",
        "outputId": "4250d3b5-9798-40c2-8268-ab3f7e18f4a1"
      },
      "source": [
        "data"
      ],
      "execution_count": null,
      "outputs": [
        {
          "output_type": "execute_result",
          "data": {
            "text/plain": [
              "array([[9, 6, 5, 7, 9, 6, 5, 5, 5, 6],\n",
              "       [8, 9, 9, 6, 9, 7, 5, 6, 7, 8],\n",
              "       [9, 9, 8, 6, 7, 7, 6, 6, 9, 5],\n",
              "       [5, 5, 5, 6, 5, 9, 9, 9, 8, 9],\n",
              "       [6, 6, 7, 7, 5, 6, 9, 9, 8, 7],\n",
              "       [8, 5, 9, 5, 7, 8, 5, 9, 6, 8],\n",
              "       [7, 7, 6, 6, 5, 9, 6, 6, 5, 9],\n",
              "       [5, 6, 9, 6, 8, 9, 9, 6, 9, 8],\n",
              "       [6, 9, 6, 6, 7, 7, 5, 8, 5, 8],\n",
              "       [5, 7, 5, 5, 6, 5, 6, 6, 5, 6]])"
            ]
          },
          "metadata": {
            "tags": []
          },
          "execution_count": 71
        }
      ]
    },
    {
      "cell_type": "code",
      "metadata": {
        "id": "ZIhaLOwrnV3Z",
        "outputId": "11e65ea4-2aeb-4e1e-e2b2-de6fcb5c146c"
      },
      "source": [
        "np.sin(data)"
      ],
      "execution_count": null,
      "outputs": [
        {
          "output_type": "execute_result",
          "data": {
            "text/plain": [
              "array([[ 0.41211849, -0.2794155 , -0.95892427,  0.6569866 ,  0.41211849,\n",
              "        -0.2794155 , -0.95892427, -0.95892427, -0.95892427, -0.2794155 ],\n",
              "       [ 0.98935825,  0.41211849,  0.41211849, -0.2794155 ,  0.41211849,\n",
              "         0.6569866 , -0.95892427, -0.2794155 ,  0.6569866 ,  0.98935825],\n",
              "       [ 0.41211849,  0.41211849,  0.98935825, -0.2794155 ,  0.6569866 ,\n",
              "         0.6569866 , -0.2794155 , -0.2794155 ,  0.41211849, -0.95892427],\n",
              "       [-0.95892427, -0.95892427, -0.95892427, -0.2794155 , -0.95892427,\n",
              "         0.41211849,  0.41211849,  0.41211849,  0.98935825,  0.41211849],\n",
              "       [-0.2794155 , -0.2794155 ,  0.6569866 ,  0.6569866 , -0.95892427,\n",
              "        -0.2794155 ,  0.41211849,  0.41211849,  0.98935825,  0.6569866 ],\n",
              "       [ 0.98935825, -0.95892427,  0.41211849, -0.95892427,  0.6569866 ,\n",
              "         0.98935825, -0.95892427,  0.41211849, -0.2794155 ,  0.98935825],\n",
              "       [ 0.6569866 ,  0.6569866 , -0.2794155 , -0.2794155 , -0.95892427,\n",
              "         0.41211849, -0.2794155 , -0.2794155 , -0.95892427,  0.41211849],\n",
              "       [-0.95892427, -0.2794155 ,  0.41211849, -0.2794155 ,  0.98935825,\n",
              "         0.41211849,  0.41211849, -0.2794155 ,  0.41211849,  0.98935825],\n",
              "       [-0.2794155 ,  0.41211849, -0.2794155 , -0.2794155 ,  0.6569866 ,\n",
              "         0.6569866 , -0.95892427,  0.98935825, -0.95892427,  0.98935825],\n",
              "       [-0.95892427,  0.6569866 , -0.95892427, -0.95892427, -0.2794155 ,\n",
              "        -0.95892427, -0.2794155 , -0.2794155 , -0.95892427, -0.2794155 ]])"
            ]
          },
          "metadata": {
            "tags": []
          },
          "execution_count": 73
        }
      ]
    },
    {
      "cell_type": "code",
      "metadata": {
        "id": "oglm0L8jnV3a",
        "outputId": "da148d5d-9225-4e85-cdba-665093a32d67"
      },
      "source": [
        "data.T"
      ],
      "execution_count": null,
      "outputs": [
        {
          "output_type": "execute_result",
          "data": {
            "text/plain": [
              "array([[9, 8, 9, 5, 6, 8, 7, 5, 6, 5],\n",
              "       [6, 9, 9, 5, 6, 5, 7, 6, 9, 7],\n",
              "       [5, 9, 8, 5, 7, 9, 6, 9, 6, 5],\n",
              "       [7, 6, 6, 6, 7, 5, 6, 6, 6, 5],\n",
              "       [9, 9, 7, 5, 5, 7, 5, 8, 7, 6],\n",
              "       [6, 7, 7, 9, 6, 8, 9, 9, 7, 5],\n",
              "       [5, 5, 6, 9, 9, 5, 6, 9, 5, 6],\n",
              "       [5, 6, 6, 9, 9, 9, 6, 6, 8, 6],\n",
              "       [5, 7, 9, 8, 8, 6, 5, 9, 5, 5],\n",
              "       [6, 8, 5, 9, 7, 8, 9, 8, 8, 6]])"
            ]
          },
          "metadata": {
            "tags": []
          },
          "execution_count": 75
        }
      ]
    },
    {
      "cell_type": "code",
      "metadata": {
        "id": "MKKlnBn2nV3a",
        "outputId": "87074afb-ff32-4ae9-f2b4-47074e53757b"
      },
      "source": [
        "data.mean(axis=1)"
      ],
      "execution_count": null,
      "outputs": [
        {
          "output_type": "execute_result",
          "data": {
            "text/plain": [
              "array([6.3, 7.4, 7.2, 7. , 7. , 7. , 6.6, 7.5, 6.7, 5.6])"
            ]
          },
          "metadata": {
            "tags": []
          },
          "execution_count": 76
        }
      ]
    },
    {
      "cell_type": "code",
      "metadata": {
        "id": "Y4EIwrcYnV3a",
        "outputId": "c57d7586-a13f-4993-a84e-abcf10978239"
      },
      "source": [
        "data.std(axis=1)"
      ],
      "execution_count": null,
      "outputs": [
        {
          "output_type": "execute_result",
          "data": {
            "text/plain": [
              "array([1.48660687, 1.356466  , 1.4       , 1.84390889, 1.26491106,\n",
              "       1.54919334, 1.356466  , 1.5       , 1.26885775, 0.66332496])"
            ]
          },
          "metadata": {
            "tags": []
          },
          "execution_count": 77
        }
      ]
    },
    {
      "cell_type": "markdown",
      "metadata": {
        "id": "JL4ycFGhnV3b"
      },
      "source": [
        "### Broadcasting"
      ]
    },
    {
      "cell_type": "code",
      "metadata": {
        "id": "__CpCjMYnV3b"
      },
      "source": [
        "v = np.array([1,2,3,4,5])"
      ],
      "execution_count": null,
      "outputs": []
    },
    {
      "cell_type": "code",
      "metadata": {
        "id": "w7m6Oq5PnV3b"
      },
      "source": [
        "s = 10"
      ],
      "execution_count": null,
      "outputs": []
    },
    {
      "cell_type": "code",
      "metadata": {
        "id": "1wSUiCMjnV3b",
        "outputId": "090e2aa3-4819-4efe-e7ee-059c6fdf1dac"
      },
      "source": [
        "v + s"
      ],
      "execution_count": null,
      "outputs": [
        {
          "output_type": "execute_result",
          "data": {
            "text/plain": [
              "array([11, 12, 13, 14, 15])"
            ]
          },
          "metadata": {
            "tags": []
          },
          "execution_count": 80
        }
      ]
    },
    {
      "cell_type": "code",
      "metadata": {
        "id": "GJC_cz-4nV3b"
      },
      "source": [
        "t = [10,11]"
      ],
      "execution_count": null,
      "outputs": []
    },
    {
      "cell_type": "code",
      "metadata": {
        "id": "r1P9rStznV3c"
      },
      "source": [
        "#v + t"
      ],
      "execution_count": null,
      "outputs": []
    },
    {
      "cell_type": "code",
      "metadata": {
        "id": "O2DX8BUGnV3c"
      },
      "source": [
        "a = np.array([[1],[2],[3],[4],[5]])"
      ],
      "execution_count": null,
      "outputs": []
    },
    {
      "cell_type": "code",
      "metadata": {
        "id": "u6ByOPVFnV3c",
        "outputId": "89ec3eda-e2c9-41d2-e117-e4cb802f9738"
      },
      "source": [
        "a.shape"
      ],
      "execution_count": null,
      "outputs": [
        {
          "output_type": "execute_result",
          "data": {
            "text/plain": [
              "(5, 1)"
            ]
          },
          "metadata": {
            "tags": []
          },
          "execution_count": 86
        }
      ]
    },
    {
      "cell_type": "code",
      "metadata": {
        "id": "VEfswYOwnV3c",
        "outputId": "89f007c7-55cf-4c59-ca36-0804d9b95629"
      },
      "source": [
        "a + v"
      ],
      "execution_count": null,
      "outputs": [
        {
          "output_type": "execute_result",
          "data": {
            "text/plain": [
              "array([[ 2,  3,  4,  5,  6],\n",
              "       [ 3,  4,  5,  6,  7],\n",
              "       [ 4,  5,  6,  7,  8],\n",
              "       [ 5,  6,  7,  8,  9],\n",
              "       [ 6,  7,  8,  9, 10]])"
            ]
          },
          "metadata": {
            "tags": []
          },
          "execution_count": 87
        }
      ]
    },
    {
      "cell_type": "code",
      "metadata": {
        "id": "3Ghr5Y3anV3d"
      },
      "source": [
        "a = np.random.randint(1,5,size=(10,2))"
      ],
      "execution_count": null,
      "outputs": []
    },
    {
      "cell_type": "code",
      "metadata": {
        "id": "bSCEN9RlnV3d"
      },
      "source": [
        "b = np.random.randint(1,5,size=(5,2))"
      ],
      "execution_count": null,
      "outputs": []
    },
    {
      "cell_type": "code",
      "metadata": {
        "id": "KZMuDnyanV3d",
        "outputId": "0b78056f-b9fc-4bf2-8758-aa1a97c27e92"
      },
      "source": [
        "a.reshape(1,10,2)"
      ],
      "execution_count": null,
      "outputs": [
        {
          "output_type": "execute_result",
          "data": {
            "text/plain": [
              "array([[[3, 2],\n",
              "        [4, 2],\n",
              "        [3, 4],\n",
              "        [3, 3],\n",
              "        [3, 1],\n",
              "        [1, 3],\n",
              "        [2, 2],\n",
              "        [1, 1],\n",
              "        [4, 3],\n",
              "        [2, 2]]])"
            ]
          },
          "metadata": {
            "tags": []
          },
          "execution_count": 94
        }
      ]
    },
    {
      "cell_type": "code",
      "metadata": {
        "id": "UEWxUn8inV3d",
        "outputId": "b16e7554-6652-4f2d-d0e2-cb4c477bae8a"
      },
      "source": [
        "b.reshape(5,1,2) - a.reshape(1,10,2)"
      ],
      "execution_count": null,
      "outputs": [
        {
          "output_type": "execute_result",
          "data": {
            "text/plain": [
              "array([[[-1,  2],\n",
              "        [-2,  2],\n",
              "        [-1,  0],\n",
              "        [-1,  1],\n",
              "        [-1,  3],\n",
              "        [ 1,  1],\n",
              "        [ 0,  2],\n",
              "        [ 1,  3],\n",
              "        [-2,  1],\n",
              "        [ 0,  2]],\n",
              "\n",
              "       [[-2,  2],\n",
              "        [-3,  2],\n",
              "        [-2,  0],\n",
              "        [-2,  1],\n",
              "        [-2,  3],\n",
              "        [ 0,  1],\n",
              "        [-1,  2],\n",
              "        [ 0,  3],\n",
              "        [-3,  1],\n",
              "        [-1,  2]],\n",
              "\n",
              "       [[-1,  2],\n",
              "        [-2,  2],\n",
              "        [-1,  0],\n",
              "        [-1,  1],\n",
              "        [-1,  3],\n",
              "        [ 1,  1],\n",
              "        [ 0,  2],\n",
              "        [ 1,  3],\n",
              "        [-2,  1],\n",
              "        [ 0,  2]],\n",
              "\n",
              "       [[ 1,  0],\n",
              "        [ 0,  0],\n",
              "        [ 1, -2],\n",
              "        [ 1, -1],\n",
              "        [ 1,  1],\n",
              "        [ 3, -1],\n",
              "        [ 2,  0],\n",
              "        [ 3,  1],\n",
              "        [ 0, -1],\n",
              "        [ 2,  0]],\n",
              "\n",
              "       [[ 0,  2],\n",
              "        [-1,  2],\n",
              "        [ 0,  0],\n",
              "        [ 0,  1],\n",
              "        [ 0,  3],\n",
              "        [ 2,  1],\n",
              "        [ 1,  2],\n",
              "        [ 2,  3],\n",
              "        [-1,  1],\n",
              "        [ 1,  2]]])"
            ]
          },
          "metadata": {
            "tags": []
          },
          "execution_count": 95
        }
      ]
    },
    {
      "cell_type": "code",
      "metadata": {
        "id": "jcGm0YGRnV3e"
      },
      "source": [
        "a = np.random.randint(1,5,size=(10,2))\n",
        "b = np.random.randint(1,5,size=(5,3))"
      ],
      "execution_count": null,
      "outputs": []
    },
    {
      "cell_type": "code",
      "metadata": {
        "id": "_ULytYHWnV3e",
        "outputId": "3c479551-3959-4ec3-be52-3cca655e4f3f"
      },
      "source": [
        "a.shape"
      ],
      "execution_count": null,
      "outputs": [
        {
          "output_type": "execute_result",
          "data": {
            "text/plain": [
              "(10, 2)"
            ]
          },
          "metadata": {
            "tags": []
          },
          "execution_count": 97
        }
      ]
    },
    {
      "cell_type": "code",
      "metadata": {
        "id": "rzQyiLs4nV3e",
        "outputId": "03951a92-ad2e-445d-8c09-1e2a9907d67c"
      },
      "source": [
        "b.shape"
      ],
      "execution_count": null,
      "outputs": [
        {
          "output_type": "execute_result",
          "data": {
            "text/plain": [
              "(5, 3)"
            ]
          },
          "metadata": {
            "tags": []
          },
          "execution_count": 98
        }
      ]
    },
    {
      "cell_type": "code",
      "metadata": {
        "id": "85khaCvQnV3f",
        "outputId": "650f3eed-0132-4176-d73f-54687f82d7f1"
      },
      "source": [
        "a.reshape(1,10,1,2) - b.reshape(5,1,3,1)"
      ],
      "execution_count": null,
      "outputs": [
        {
          "output_type": "execute_result",
          "data": {
            "text/plain": [
              "array([[[[-3, -1],\n",
              "         [ 0,  2],\n",
              "         [-1,  1]],\n",
              "\n",
              "        [[-2,  0],\n",
              "         [ 1,  3],\n",
              "         [ 0,  2]],\n",
              "\n",
              "        [[ 0, -2],\n",
              "         [ 3,  1],\n",
              "         [ 2,  0]],\n",
              "\n",
              "        [[ 0,  0],\n",
              "         [ 3,  3],\n",
              "         [ 2,  2]],\n",
              "\n",
              "        [[-1, -3],\n",
              "         [ 2,  0],\n",
              "         [ 1, -1]],\n",
              "\n",
              "        [[-2, -2],\n",
              "         [ 1,  1],\n",
              "         [ 0,  0]],\n",
              "\n",
              "        [[ 0,  0],\n",
              "         [ 3,  3],\n",
              "         [ 2,  2]],\n",
              "\n",
              "        [[-3,  0],\n",
              "         [ 0,  3],\n",
              "         [-1,  2]],\n",
              "\n",
              "        [[-1, -3],\n",
              "         [ 2,  0],\n",
              "         [ 1, -1]],\n",
              "\n",
              "        [[-2, -3],\n",
              "         [ 1,  0],\n",
              "         [ 0, -1]]],\n",
              "\n",
              "\n",
              "       [[[ 0,  2],\n",
              "         [-2,  0],\n",
              "         [ 0,  2]],\n",
              "\n",
              "        [[ 1,  3],\n",
              "         [-1,  1],\n",
              "         [ 1,  3]],\n",
              "\n",
              "        [[ 3,  1],\n",
              "         [ 1, -1],\n",
              "         [ 3,  1]],\n",
              "\n",
              "        [[ 3,  3],\n",
              "         [ 1,  1],\n",
              "         [ 3,  3]],\n",
              "\n",
              "        [[ 2,  0],\n",
              "         [ 0, -2],\n",
              "         [ 2,  0]],\n",
              "\n",
              "        [[ 1,  1],\n",
              "         [-1, -1],\n",
              "         [ 1,  1]],\n",
              "\n",
              "        [[ 3,  3],\n",
              "         [ 1,  1],\n",
              "         [ 3,  3]],\n",
              "\n",
              "        [[ 0,  3],\n",
              "         [-2,  1],\n",
              "         [ 0,  3]],\n",
              "\n",
              "        [[ 2,  0],\n",
              "         [ 0, -2],\n",
              "         [ 2,  0]],\n",
              "\n",
              "        [[ 1,  0],\n",
              "         [-1, -2],\n",
              "         [ 1,  0]]],\n",
              "\n",
              "\n",
              "       [[[-3, -1],\n",
              "         [-2,  0],\n",
              "         [-2,  0]],\n",
              "\n",
              "        [[-2,  0],\n",
              "         [-1,  1],\n",
              "         [-1,  1]],\n",
              "\n",
              "        [[ 0, -2],\n",
              "         [ 1, -1],\n",
              "         [ 1, -1]],\n",
              "\n",
              "        [[ 0,  0],\n",
              "         [ 1,  1],\n",
              "         [ 1,  1]],\n",
              "\n",
              "        [[-1, -3],\n",
              "         [ 0, -2],\n",
              "         [ 0, -2]],\n",
              "\n",
              "        [[-2, -2],\n",
              "         [-1, -1],\n",
              "         [-1, -1]],\n",
              "\n",
              "        [[ 0,  0],\n",
              "         [ 1,  1],\n",
              "         [ 1,  1]],\n",
              "\n",
              "        [[-3,  0],\n",
              "         [-2,  1],\n",
              "         [-2,  1]],\n",
              "\n",
              "        [[-1, -3],\n",
              "         [ 0, -2],\n",
              "         [ 0, -2]],\n",
              "\n",
              "        [[-2, -3],\n",
              "         [-1, -2],\n",
              "         [-1, -2]]],\n",
              "\n",
              "\n",
              "       [[[-1,  1],\n",
              "         [ 0,  2],\n",
              "         [ 0,  2]],\n",
              "\n",
              "        [[ 0,  2],\n",
              "         [ 1,  3],\n",
              "         [ 1,  3]],\n",
              "\n",
              "        [[ 2,  0],\n",
              "         [ 3,  1],\n",
              "         [ 3,  1]],\n",
              "\n",
              "        [[ 2,  2],\n",
              "         [ 3,  3],\n",
              "         [ 3,  3]],\n",
              "\n",
              "        [[ 1, -1],\n",
              "         [ 2,  0],\n",
              "         [ 2,  0]],\n",
              "\n",
              "        [[ 0,  0],\n",
              "         [ 1,  1],\n",
              "         [ 1,  1]],\n",
              "\n",
              "        [[ 2,  2],\n",
              "         [ 3,  3],\n",
              "         [ 3,  3]],\n",
              "\n",
              "        [[-1,  2],\n",
              "         [ 0,  3],\n",
              "         [ 0,  3]],\n",
              "\n",
              "        [[ 1, -1],\n",
              "         [ 2,  0],\n",
              "         [ 2,  0]],\n",
              "\n",
              "        [[ 0, -1],\n",
              "         [ 1,  0],\n",
              "         [ 1,  0]]],\n",
              "\n",
              "\n",
              "       [[[-1,  1],\n",
              "         [ 0,  2],\n",
              "         [ 0,  2]],\n",
              "\n",
              "        [[ 0,  2],\n",
              "         [ 1,  3],\n",
              "         [ 1,  3]],\n",
              "\n",
              "        [[ 2,  0],\n",
              "         [ 3,  1],\n",
              "         [ 3,  1]],\n",
              "\n",
              "        [[ 2,  2],\n",
              "         [ 3,  3],\n",
              "         [ 3,  3]],\n",
              "\n",
              "        [[ 1, -1],\n",
              "         [ 2,  0],\n",
              "         [ 2,  0]],\n",
              "\n",
              "        [[ 0,  0],\n",
              "         [ 1,  1],\n",
              "         [ 1,  1]],\n",
              "\n",
              "        [[ 2,  2],\n",
              "         [ 3,  3],\n",
              "         [ 3,  3]],\n",
              "\n",
              "        [[-1,  2],\n",
              "         [ 0,  3],\n",
              "         [ 0,  3]],\n",
              "\n",
              "        [[ 1, -1],\n",
              "         [ 2,  0],\n",
              "         [ 2,  0]],\n",
              "\n",
              "        [[ 0, -1],\n",
              "         [ 1,  0],\n",
              "         [ 1,  0]]]])"
            ]
          },
          "metadata": {
            "tags": []
          },
          "execution_count": 99
        }
      ]
    },
    {
      "cell_type": "code",
      "metadata": {
        "id": "tGcRA0awnV3f"
      },
      "source": [
        ""
      ],
      "execution_count": null,
      "outputs": []
    }
  ]
}