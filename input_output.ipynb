{
  "nbformat": 4,
  "nbformat_minor": 0,
  "metadata": {
    "colab": {
      "name": "input/output.ipynb",
      "provenance": [],
      "authorship_tag": "ABX9TyPqH/XXsxy1tow0SHvOd52R",
      "include_colab_link": true
    },
    "kernelspec": {
      "name": "python3",
      "display_name": "Python 3"
    },
    "language_info": {
      "name": "python"
    }
  },
  "cells": [
    {
      "cell_type": "markdown",
      "metadata": {
        "id": "view-in-github",
        "colab_type": "text"
      },
      "source": [
        "<a href=\"https://colab.research.google.com/github/Pkpallaw16/Python/blob/main/input_output.ipynb\" target=\"_parent\"><img src=\"https://colab.research.google.com/assets/colab-badge.svg\" alt=\"Open In Colab\"/></a>"
      ]
    },
    {
      "cell_type": "code",
      "metadata": {
        "colab": {
          "base_uri": "https://localhost:8080/"
        },
        "id": "-dSqVlKNmfXg",
        "outputId": "adc343b6-7a59-4ce3-a087-53b5f99d9078"
      },
      "source": [
        "# Python program showing how to\n",
        "# multiple input using split\n",
        "\n",
        "# taking two inputs at a time\n",
        "x, y = input(\"Enter a two value: \").split()\n",
        "print(\"Number of boys: \", x)\n",
        "print(\"Number of girls: \", y)\n",
        "print()\n",
        "\n"
      ],
      "execution_count": null,
      "outputs": [
        {
          "output_type": "stream",
          "text": [
            "Enter a two value: ram shayam\n",
            "Number of boys:  ram\n",
            "Number of girls:  shayam\n",
            "\n"
          ],
          "name": "stdout"
        }
      ]
    },
    {
      "cell_type": "code",
      "metadata": {
        "colab": {
          "base_uri": "https://localhost:8080/"
        },
        "id": "i4iAXHY1aA6S",
        "outputId": "66ac57cd-3d00-478d-eec5-08a127a078e6"
      },
      "source": [
        "# taking three inputs at a time\n",
        "x, y, z = input(\"Enter a three value: \").split()\n",
        "print(\"Total number of students: \", x)\n",
        "print(\"Number of boys is : \", y)\n",
        "print(\"Number of girls is : \", z)\n",
        "print()\n",
        "\n"
      ],
      "execution_count": null,
      "outputs": [
        {
          "output_type": "stream",
          "text": [
            "Enter a three value: ram   shayam mohan\n",
            "Total number of students:  ram\n",
            "Number of boys is :  shayam\n",
            "Number of girls is :  mohan\n",
            "\n"
          ],
          "name": "stdout"
        }
      ]
    },
    {
      "cell_type": "code",
      "metadata": {
        "colab": {
          "base_uri": "https://localhost:8080/"
        },
        "id": "sGpuqb9UaSsg",
        "outputId": "0b6de0e7-c7a6-45d7-cca4-0fc4f7074b73"
      },
      "source": [
        "# taking two inputs at a time\n",
        "a, b = input(\"Enter a two value: \").split()\n",
        "print(\"First number is {} and second number is {}\".format(a, b))\n",
        "print()\n",
        "\n",
        "\n"
      ],
      "execution_count": null,
      "outputs": [
        {
          "output_type": "stream",
          "text": [
            "Enter a two value: 4 5\n",
            "First number is 4 and second number is 5\n",
            "\n"
          ],
          "name": "stdout"
        }
      ]
    },
    {
      "cell_type": "code",
      "metadata": {
        "colab": {
          "base_uri": "https://localhost:8080/"
        },
        "id": "w0lp93ntbNtv",
        "outputId": "86d94ad3-a934-4474-afc1-bd562502495f"
      },
      "source": [
        "# taking multiple inputs at a time\n",
        "# and type casting using list() function\n",
        "x = list(map(int, input(\"Enter a multiple value: \").split()))\n",
        "print(\"List of students: \", x)"
      ],
      "execution_count": null,
      "outputs": [
        {
          "output_type": "stream",
          "text": [
            "Enter a multiple value: 3 5 6 7 8 9\n",
            "List of students:  [3, 5, 6, 7, 8, 9]\n"
          ],
          "name": "stdout"
        }
      ]
    },
    {
      "cell_type": "code",
      "metadata": {
        "id": "VQPV1KF3nlaz",
        "colab": {
          "base_uri": "https://localhost:8080/"
        },
        "outputId": "587fb9a0-77a4-4815-f30e-7f31c11a10e8"
      },
      "source": [
        "# Python program showing\n",
        "# how to take multiple input\n",
        "# using List comprehension\n",
        "\n",
        "# taking two input at a time\n",
        "x, y = [int(x) for x in input(\"Enter two value: \").split(\",\")]\n",
        "print(\"First Number is: \", x,type(x))\n",
        "print(\"Second Number is: \", y)\n",
        "print()\n",
        "\n",
        "\n"
      ],
      "execution_count": null,
      "outputs": [
        {
          "output_type": "stream",
          "text": [
            "Enter two value: 3,5\n",
            "First Number is:  3 <class 'int'>\n",
            "Second Number is:  5\n",
            "\n"
          ],
          "name": "stdout"
        }
      ]
    },
    {
      "cell_type": "code",
      "metadata": {
        "colab": {
          "base_uri": "https://localhost:8080/"
        },
        "id": "p1Nnn56hcHo9",
        "outputId": "57faad07-bbb0-4ce2-840b-95ba10ad55d7"
      },
      "source": [
        "# taking three input at a time\n",
        "x, y, z = [int(x) for x in input(\"Enter three value: \").split()]\n",
        "print(\"First Number is: \", x)\n",
        "print(\"Second Number is: \", y)\n",
        "print(\"Third Number is: \", z)\n",
        "print()\n",
        "\n"
      ],
      "execution_count": null,
      "outputs": [
        {
          "output_type": "stream",
          "text": [
            "Enter three value: 4 5 6\n",
            "First Number is:  4\n",
            "Second Number is:  5\n",
            "Third Number is:  6\n",
            "\n"
          ],
          "name": "stdout"
        }
      ]
    },
    {
      "cell_type": "code",
      "metadata": {
        "colab": {
          "base_uri": "https://localhost:8080/"
        },
        "id": "dSiXNV0tcaGx",
        "outputId": "9d616702-6de6-4228-a6b7-8757fd5a5e29"
      },
      "source": [
        "# taking two inputs at a time\n",
        "x, y = [int(x) for x in input(\"Enter two value: \").split()]\n",
        "print(\"First number is {} and second number is {}\".format(x, y))\n",
        "print(\"First number is \"+ str(x)+\" and second number is \"+ str(y))\n",
        "print()\n",
        "\n"
      ],
      "execution_count": null,
      "outputs": [
        {
          "output_type": "stream",
          "text": [
            "Enter two value: 4 5\n",
            "First number is 4 and second number is 5\n",
            "First number is 4 and second number is 5\n",
            "\n"
          ],
          "name": "stdout"
        }
      ]
    },
    {
      "cell_type": "code",
      "metadata": {
        "colab": {
          "base_uri": "https://localhost:8080/"
        },
        "id": "jRf2ISNCcoaw",
        "outputId": "ad3915b8-4810-421e-c629-97ff7d64697a"
      },
      "source": [
        "# taking multiple inputs at a time\n",
        "x = [int(x) for x in input(\"Enter multiple value: \").split()]\n",
        "print(\"Number of list is: \", x)"
      ],
      "execution_count": null,
      "outputs": [
        {
          "output_type": "stream",
          "text": [
            "Enter multiple value: 4 5 2 3 5 \n",
            "Number of list is:  [4, 5, 2, 3, 5]\n"
          ],
          "name": "stdout"
        }
      ]
    },
    {
      "cell_type": "code",
      "metadata": {
        "id": "tyUdxN3FnyEV"
      },
      "source": [
        "# taking multiple inputs at a time separated by comma\n",
        "x = [int(x) for x in input(\"Enter multiple value: \").split(\",\")]\n",
        "print(\"Number of list is: \", x)\n"
      ],
      "execution_count": null,
      "outputs": []
    },
    {
      "cell_type": "code",
      "metadata": {
        "id": "SjUgLNsvn-gA",
        "colab": {
          "base_uri": "https://localhost:8080/"
        },
        "outputId": "b80a51f5-59e9-45d3-c43a-b9b9a76198ae"
      },
      "source": [
        "# Python 3 code for printing\n",
        "# on the same line printing\n",
        "# geeks and geeksforgeeks\n",
        "# in the same line\n",
        "\n",
        "print(\"abc\", end =\" \")\n",
        "print(\"xyz\")\n",
        "\n",
        "# array\n",
        "a = [1, 2, 3, 4]\n",
        "\n",
        "# printing a element in same\n",
        "# line\n",
        "for i in range(4):\n",
        "\tprint(a[i], end =\" \")\n",
        "# This Python program must be run with\n",
        "# Python 3 as it won't work with 2.7.\n",
        "\n",
        "# ends the output with '@'\n",
        "print(\"Python\" , end = '@')\n",
        "print(\"pqr\")\n"
      ],
      "execution_count": null,
      "outputs": [
        {
          "output_type": "stream",
          "text": [
            "abc xyz\n",
            "1 2 3 4 Python@pqr\n"
          ],
          "name": "stdout"
        }
      ]
    },
    {
      "cell_type": "code",
      "metadata": {
        "id": "wv_sJKfVoWrd",
        "colab": {
          "base_uri": "https://localhost:8080/"
        },
        "outputId": "83407ab6-fe73-42a5-c134-a4cf04e92334"
      },
      "source": [
        "#\\n provides new line after printing the year\n",
        "print('09','12','2016', sep='-', end='\\n')\n",
        "\n",
        "print('prtk','agarwal', sep='', end='@')\n",
        "print('abc')\n"
      ],
      "execution_count": 1,
      "outputs": [
        {
          "output_type": "stream",
          "text": [
            "09-12-2016\n",
            "prtkagarwal@abc\n"
          ],
          "name": "stdout"
        }
      ]
    },
    {
      "cell_type": "code",
      "metadata": {
        "id": "O2zfCx5d0QqV",
        "colab": {
          "base_uri": "https://localhost:8080/"
        },
        "outputId": "2fb01e99-bcd5-4dbd-f5c5-c69d6f96d4b3"
      },
      "source": [
        "# Python program showing\n",
        "# use of format() method\n",
        "\n",
        "# using format() method\n",
        "print('I love {} for \"{}!\"'.format('abc', 'abc'))\n",
        "\n",
        "# using format() method and refering\n",
        "# a position of the object\n",
        "print('{0} and {1}'.format('abc', 'prtk'))\n",
        "\n",
        "print('{1} and {0}'.format('abc', 'prtk'))\n",
        "\n",
        "\n",
        "# the above formatting can also be done by using f-Strings\n",
        "# Although, this features work only with python 3.6 or above.\n",
        "\n"
      ],
      "execution_count": 2,
      "outputs": [
        {
          "output_type": "stream",
          "text": [
            "I love abc for \"abc!\"\n",
            "abc and prtk\n",
            "prtk and abc\n"
          ],
          "name": "stdout"
        }
      ]
    },
    {
      "cell_type": "code",
      "metadata": {
        "id": "f_W1xSCg0qKV",
        "colab": {
          "base_uri": "https://localhost:8080/"
        },
        "outputId": "7c373513-2797-4489-ba42-5addce8283e6"
      },
      "source": [
        "# Python program to\n",
        "# show format () is\n",
        "# used in dictionary\n",
        "\n",
        "tab = {'abc': 4127, 'for': 4098, 'abc': 8637678}\n",
        "\n",
        "# using format() in dictionary\n",
        "print('abc: {0[abc]:d}; For: {0[for]:d}; '\n",
        "\t'abc: {0[abc]:d}'.format(tab))\n",
        "\n",
        "data = dict(fun =\"abcForabc\", adj =\"Portal\")\n",
        "\n",
        "# using format() in dictionary\n",
        "print(\"I love {fun} computer {adj}\".format(**data))\n"
      ],
      "execution_count": 4,
      "outputs": [
        {
          "output_type": "stream",
          "text": [
            "abc: 8637678; For: 4098; abc: 8637678\n",
            "I love abcForabc computer Portal\n"
          ],
          "name": "stdout"
        }
      ]
    },
    {
      "cell_type": "code",
      "metadata": {
        "id": "47VYeTb5Lc6g"
      },
      "source": [
        "str =\"ret\"\n",
        "print('Largest string is ' +str+ ' and its length is '+str(a))"
      ],
      "execution_count": null,
      "outputs": []
    }
  ]
}