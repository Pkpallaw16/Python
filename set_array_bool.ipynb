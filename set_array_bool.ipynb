{
  "nbformat": 4,
  "nbformat_minor": 0,
  "metadata": {
    "colab": {
      "name": "set_array_bool.ipynb",
      "provenance": [],
      "authorship_tag": "ABX9TyOOn13h+FGy7a7tl6GcbJzD",
      "include_colab_link": true
    },
    "kernelspec": {
      "name": "python3",
      "display_name": "Python 3"
    }
  },
  "cells": [
    {
      "cell_type": "markdown",
      "metadata": {
        "id": "view-in-github",
        "colab_type": "text"
      },
      "source": [
        "<a href=\"https://colab.research.google.com/github/Pkpallaw16/Python/blob/main/set_array_bool.ipynb\" target=\"_parent\"><img src=\"https://colab.research.google.com/assets/colab-badge.svg\" alt=\"Open In Colab\"/></a>"
      ]
    },
    {
      "cell_type": "code",
      "metadata": {
        "colab": {
          "base_uri": "https://localhost:8080/"
        },
        "id": "IDwI6uTPMprr",
        "outputId": "9e296569-da99-4822-b67d-62d54c4c7718"
      },
      "source": [
        "#To create an array of numeric values, we need to import the array module. For example:\n",
        "\n",
        "import array as arr\n",
        "a = arr.array('I', [1, 3, 4])\n",
        "print(a)"
      ],
      "execution_count": null,
      "outputs": [
        {
          "output_type": "stream",
          "text": [
            "array('I', [1, 3, 4])\n"
          ],
          "name": "stdout"
        }
      ]
    },
    {
      "cell_type": "code",
      "metadata": {
        "id": "_Xqzh3xr2hgx",
        "colab": {
          "base_uri": "https://localhost:8080/",
          "height": 197
        },
        "outputId": "6b79ba38-2671-4209-de89-1e835fdec96d"
      },
      "source": [
        "#Python Lists Vs Arrays\n",
        "#In Python, we can treat lists as arrays. However, we cannot constrain the type of elements stored in a list. For example:\n",
        "\n",
        "# elements of different types\n",
        "a = [1, 3.5, \"Hello\"] \n",
        "#If you create arrays using the array module, all elements of the array must be of the same numeric type.\n",
        "\n",
        "import array as arr\n",
        "# Error\n",
        "a = arr.array('d', [1, 3.5, \"Hello\"])"
      ],
      "execution_count": null,
      "outputs": [
        {
          "output_type": "error",
          "ename": "TypeError",
          "evalue": "ignored",
          "traceback": [
            "\u001b[0;31m---------------------------------------------------------------------------\u001b[0m",
            "\u001b[0;31mTypeError\u001b[0m                                 Traceback (most recent call last)",
            "\u001b[0;32m<ipython-input-5-1c5f66049e81>\u001b[0m in \u001b[0;36m<module>\u001b[0;34m()\u001b[0m\n\u001b[1;32m      8\u001b[0m \u001b[0;32mimport\u001b[0m \u001b[0marray\u001b[0m \u001b[0;32mas\u001b[0m \u001b[0marr\u001b[0m\u001b[0;34m\u001b[0m\u001b[0;34m\u001b[0m\u001b[0m\n\u001b[1;32m      9\u001b[0m \u001b[0;31m# Error\u001b[0m\u001b[0;34m\u001b[0m\u001b[0;34m\u001b[0m\u001b[0;34m\u001b[0m\u001b[0m\n\u001b[0;32m---> 10\u001b[0;31m \u001b[0ma\u001b[0m \u001b[0;34m=\u001b[0m \u001b[0marr\u001b[0m\u001b[0;34m.\u001b[0m\u001b[0marray\u001b[0m\u001b[0;34m(\u001b[0m\u001b[0;34m'd'\u001b[0m\u001b[0;34m,\u001b[0m \u001b[0;34m[\u001b[0m\u001b[0;36m1\u001b[0m\u001b[0;34m,\u001b[0m \u001b[0;36m3.5\u001b[0m\u001b[0;34m,\u001b[0m \u001b[0;34m\"Hello\"\u001b[0m\u001b[0;34m]\u001b[0m\u001b[0;34m)\u001b[0m\u001b[0;34m\u001b[0m\u001b[0;34m\u001b[0m\u001b[0m\n\u001b[0m",
            "\u001b[0;31mTypeError\u001b[0m: must be real number, not str"
          ]
        }
      ]
    },
    {
      "cell_type": "code",
      "metadata": {
        "colab": {
          "base_uri": "https://localhost:8080/"
        },
        "id": "SUtYNM6NlNjf",
        "outputId": "33e223fd-c5f7-4b95-e7de-ad7eddd90c5a"
      },
      "source": [
        "import array as arr\n",
        "a = arr.array('i', [2, 4, 6, 8])\n",
        "\n",
        "print(\"First element:\", a[0])\n",
        "print(\"Second element:\", a[1])\n",
        "print(\"Last element:\", a[-1])"
      ],
      "execution_count": null,
      "outputs": [
        {
          "output_type": "stream",
          "text": [
            "First element: 2\n",
            "Second element: 4\n",
            "Last element: 8\n"
          ],
          "name": "stdout"
        }
      ]
    },
    {
      "cell_type": "code",
      "metadata": {
        "colab": {
          "base_uri": "https://localhost:8080/"
        },
        "id": "Mr5h7-BV1lRT",
        "outputId": "e1f18615-4fe5-494c-b7cf-0a55af7cb5e0"
      },
      "source": [
        "import array as arr\n",
        "\n",
        "numbers_list = [2, 5, 62, 5, 42, 52, 48, 5]\n",
        "numbers_array = arr.array('i', numbers_list)\n",
        "\n",
        "print(numbers_array[2:5]) # 3rd to 5th\n",
        "print(numbers_array[:-5]) # beginning to 4th\n",
        "print(numbers_array[5:])  # 6th to end\n",
        "print(numbers_array[:])   # beginning to end"
      ],
      "execution_count": null,
      "outputs": [
        {
          "output_type": "stream",
          "text": [
            "array('i', [62, 5, 42])\n",
            "array('i', [2, 5, 62])\n",
            "array('i', [52, 48, 5])\n",
            "array('i', [2, 5, 62, 5, 42, 52, 48, 5])\n"
          ],
          "name": "stdout"
        }
      ]
    },
    {
      "cell_type": "code",
      "metadata": {
        "colab": {
          "base_uri": "https://localhost:8080/"
        },
        "id": "N6xyPL5_1wO4",
        "outputId": "4b325539-2b61-4b08-8afa-51742c8e53a1"
      },
      "source": [
        "import array as arr\n",
        "\n",
        "numbers = arr.array('i', [1, 2, 3, 5, 7, 10])\n",
        "\n",
        "# changing first element\n",
        "numbers[0] = 0    \n",
        "print(numbers)     # Output: array('i', [0, 2, 3, 5, 7, 10])\n",
        "\n",
        "# changing 3rd to 5th element\n",
        "numbers[2:5] = arr.array('i', [4, 6, 8])   \n",
        "print(numbers)     # Output: array('i', [0, 2, 4, 6, 8, 10])"
      ],
      "execution_count": null,
      "outputs": [
        {
          "output_type": "stream",
          "text": [
            "array('i', [0, 2, 3, 5, 7, 10])\n",
            "array('i', [0, 2, 4, 6, 8, 10])\n"
          ],
          "name": "stdout"
        }
      ]
    },
    {
      "cell_type": "code",
      "metadata": {
        "colab": {
          "base_uri": "https://localhost:8080/"
        },
        "id": "mskwN8hV15bR",
        "outputId": "35dfd151-33dd-42b7-c61c-acd160c4044f"
      },
      "source": [
        "import array as arr\n",
        "\n",
        "numbers = arr.array('i', [1, 2, 3])\n",
        "\n",
        "numbers.append(4)\n",
        "print(numbers)     # Output: array('i', [1, 2, 3, 4])\n",
        "\n",
        "# extend() appends iterable to the end of the array\n",
        "numbers.extend([5, 6, 7])\n",
        "print(numbers)     # Output: array('i', [1, 2, 3, 4, 5, 6, 7])"
      ],
      "execution_count": null,
      "outputs": [
        {
          "output_type": "stream",
          "text": [
            "array('i', [1, 2, 3, 4])\n",
            "array('i', [1, 2, 3, 4, 5, 6, 7])\n"
          ],
          "name": "stdout"
        }
      ]
    },
    {
      "cell_type": "code",
      "metadata": {
        "id": "rPd5BWti1_aF",
        "colab": {
          "base_uri": "https://localhost:8080/"
        },
        "outputId": "396d254b-3a43-41a5-93b5-dd69555996a3"
      },
      "source": [
        "import array as arr\n",
        "\n",
        "odd = arr.array('i', [1, 3, 5])\n",
        "even = arr.array('i', [2, 4, 6])\n",
        "\n",
        "numbers = arr.array('i')   # creating empty array of integer\n",
        "print(numbers)\n",
        "numbers = odd + even\n",
        "\n",
        "print(numbers)"
      ],
      "execution_count": null,
      "outputs": [
        {
          "output_type": "stream",
          "text": [
            "array('i')\n",
            "array('i', [1, 3, 5, 2, 4, 6])\n"
          ],
          "name": "stdout"
        }
      ]
    },
    {
      "cell_type": "code",
      "metadata": {
        "id": "XJ5TutvH2JEp",
        "colab": {
          "base_uri": "https://localhost:8080/",
          "height": 214
        },
        "outputId": "f948903f-2d34-4fe1-99e8-6e9db060e004"
      },
      "source": [
        "import array as arr\n",
        "\n",
        "number = arr.array('i', [1, 2, 3, 3, 4])\n",
        "\n",
        "del number[2]  # removing third element\n",
        "print(number)  # Output: array('i', [1, 2, 3, 4])\n",
        "\n",
        "del number  # deleting entire array\n",
        "print(number)  # Error: array is not defined"
      ],
      "execution_count": null,
      "outputs": [
        {
          "output_type": "stream",
          "text": [
            "array('i', [1, 2, 3, 4])\n"
          ],
          "name": "stdout"
        },
        {
          "output_type": "error",
          "ename": "NameError",
          "evalue": "ignored",
          "traceback": [
            "\u001b[0;31m---------------------------------------------------------------------------\u001b[0m",
            "\u001b[0;31mNameError\u001b[0m                                 Traceback (most recent call last)",
            "\u001b[0;32m<ipython-input-7-29ff0d4486d9>\u001b[0m in \u001b[0;36m<module>\u001b[0;34m()\u001b[0m\n\u001b[1;32m      7\u001b[0m \u001b[0;34m\u001b[0m\u001b[0m\n\u001b[1;32m      8\u001b[0m \u001b[0;32mdel\u001b[0m \u001b[0mnumber\u001b[0m  \u001b[0;31m# deleting entire array\u001b[0m\u001b[0;34m\u001b[0m\u001b[0;34m\u001b[0m\u001b[0m\n\u001b[0;32m----> 9\u001b[0;31m \u001b[0mprint\u001b[0m\u001b[0;34m(\u001b[0m\u001b[0mnumber\u001b[0m\u001b[0;34m)\u001b[0m  \u001b[0;31m# Error: array is not defined\u001b[0m\u001b[0;34m\u001b[0m\u001b[0;34m\u001b[0m\u001b[0m\n\u001b[0m",
            "\u001b[0;31mNameError\u001b[0m: name 'number' is not defined"
          ]
        }
      ]
    },
    {
      "cell_type": "code",
      "metadata": {
        "id": "CbO7mdHr2SC3",
        "colab": {
          "base_uri": "https://localhost:8080/"
        },
        "outputId": "99da5c4b-fce0-49ed-e783-5d6a86c25047"
      },
      "source": [
        "import array as arr\n",
        "\n",
        "numbers = arr.array('i', [10, 11, 12, 12, 13])\n",
        "\n",
        "numbers.remove(12)\n",
        "print(numbers)   # Output: array('i', [10, 11, 12, 13])\n",
        "\n",
        "print(numbers.pop(1))   # Output: 12\n",
        "print(numbers)   # Output: array('i', [10, 11, 13])"
      ],
      "execution_count": null,
      "outputs": [
        {
          "output_type": "stream",
          "text": [
            "array('i', [10, 11, 12, 13])\n",
            "11\n",
            "array('i', [10, 12, 13])\n"
          ],
          "name": "stdout"
        }
      ]
    },
    {
      "cell_type": "code",
      "metadata": {
        "colab": {
          "base_uri": "https://localhost:8080/"
        },
        "id": "14_pXyme6J8v",
        "outputId": "8b194ad0-4eed-4d10-ef60-a8c0b10cb529"
      },
      "source": [
        "# Different types of sets in Python\n",
        "# set of integers\n",
        "my_set = {1, 2, 3,3,5,5}\n",
        "list=[1, 2, 3,3,5,5]\n",
        "print(my_set)\n",
        "print(list)\n",
        "\n",
        "# set of mixed datatypes\n",
        "my_set = {1.0, \"Hello\", (1, 2, 3)}\n",
        "print(my_set)"
      ],
      "execution_count": null,
      "outputs": [
        {
          "output_type": "stream",
          "text": [
            "{1, 2, 3, 5}\n",
            "[1, 2, 3, 3, 5, 5]\n",
            "{1.0, 'Hello', (1, 2, 3)}\n"
          ],
          "name": "stdout"
        }
      ]
    },
    {
      "cell_type": "code",
      "metadata": {
        "id": "QM-UClAw6gVV",
        "colab": {
          "base_uri": "https://localhost:8080/",
          "height": 231
        },
        "outputId": "6db45ecc-95dc-45a6-961e-6698cc9ea0c3"
      },
      "source": [
        "# set cannot have duplicates\n",
        "# Output: {1, 2, 3, 4}\n",
        "my_set = {1, 2, 3, 4, 3, 2}\n",
        "print(my_set)\n",
        "\n",
        "# we can make set from a list\n",
        "# Output: {1, 2, 3}\n",
        "my_set = set([1, 2, 3, 2])\n",
        "print(my_set)\n",
        "\n",
        "# set cannot have mutable items\n",
        "# here [3, 4] is a mutable list\n",
        "# this will cause an error.\n",
        "\n",
        "my_set = {1, 2, [3, 4]}"
      ],
      "execution_count": null,
      "outputs": [
        {
          "output_type": "stream",
          "text": [
            "{1, 2, 3, 4}\n",
            "{1, 2, 3}\n"
          ],
          "name": "stdout"
        },
        {
          "output_type": "error",
          "ename": "TypeError",
          "evalue": "ignored",
          "traceback": [
            "\u001b[0;31m---------------------------------------------------------------------------\u001b[0m",
            "\u001b[0;31mTypeError\u001b[0m                                 Traceback (most recent call last)",
            "\u001b[0;32m<ipython-input-11-40880666f5f2>\u001b[0m in \u001b[0;36m<module>\u001b[0;34m()\u001b[0m\n\u001b[1;32m     13\u001b[0m \u001b[0;31m# this will cause an error.\u001b[0m\u001b[0;34m\u001b[0m\u001b[0;34m\u001b[0m\u001b[0;34m\u001b[0m\u001b[0m\n\u001b[1;32m     14\u001b[0m \u001b[0;34m\u001b[0m\u001b[0m\n\u001b[0;32m---> 15\u001b[0;31m \u001b[0mmy_set\u001b[0m \u001b[0;34m=\u001b[0m \u001b[0;34m{\u001b[0m\u001b[0;36m1\u001b[0m\u001b[0;34m,\u001b[0m \u001b[0;36m2\u001b[0m\u001b[0;34m,\u001b[0m \u001b[0;34m[\u001b[0m\u001b[0;36m3\u001b[0m\u001b[0;34m,\u001b[0m \u001b[0;36m4\u001b[0m\u001b[0;34m]\u001b[0m\u001b[0;34m}\u001b[0m\u001b[0;34m\u001b[0m\u001b[0;34m\u001b[0m\u001b[0m\n\u001b[0m",
            "\u001b[0;31mTypeError\u001b[0m: unhashable type: 'list'"
          ]
        }
      ]
    },
    {
      "cell_type": "code",
      "metadata": {
        "colab": {
          "base_uri": "https://localhost:8080/"
        },
        "id": "a9su1L9a6sxI",
        "outputId": "59ee4149-a2f6-4c8f-e158-d3da3021aac2"
      },
      "source": [
        "# Distinguish set and dictionary while creating empty set\n",
        "\n",
        "# initialize a with {}\n",
        "a = {}\n",
        "list=[]\n",
        "\n",
        "# check data type of a\n",
        "print(type(a))\n",
        "\n",
        "# initialize a with set()\n",
        "a = set()\n",
        "\n",
        "# check data type of a\n",
        "print(type(a))"
      ],
      "execution_count": null,
      "outputs": [
        {
          "output_type": "stream",
          "text": [
            "<class 'dict'>\n",
            "<class 'set'>\n"
          ],
          "name": "stdout"
        }
      ]
    },
    {
      "cell_type": "code",
      "metadata": {
        "id": "3NR7hNJD67Md"
      },
      "source": [
        "# initialize my_set\n",
        "my_set = {1, 3}\n",
        "print(my_set)\n",
        "\n",
        "# my_set[0]\n",
        "# if you uncomment the above line\n",
        "# you will get an error\n",
        "# TypeError: 'set' object does not support indexing\n",
        "\n",
        "# add an element\n",
        "# Output: {1, 2, 3}\n",
        "my_set.add(2)\n",
        "my_set.add(3)\n",
        "print(my_set)\n",
        "\n",
        "# add multiple elements\n",
        "# Output: {1, 2, 3, 4}\n",
        "my_set.update([2, 3, 4])\n",
        "print(my_set)\n",
        "\n",
        "# add list and set\n",
        "# Output: {1, 2, 3, 4, 5, 6, 8}\n",
        "my_set.update([4, 5], {1, 6, 8})\n",
        "print(my_set)"
      ],
      "execution_count": null,
      "outputs": []
    },
    {
      "cell_type": "code",
      "metadata": {
        "id": "PXcreaSs7Jph"
      },
      "source": [
        "# Difference between discard() and remove()\n",
        "\n",
        "# initialize my_set\n",
        "my_set = {1, 3, 4, 5, 6}\n",
        "print(my_set)\n",
        "\n",
        "# discard an element\n",
        "# Output: {1, 3, 5, 6}\n",
        "my_set.discard(4)\n",
        "print(my_set)\n",
        "\n",
        "# remove an element\n",
        "# Output: {1, 3, 5}\n",
        "my_set.remove(6)\n",
        "print(my_set)\n",
        "\n",
        "# discard an element\n",
        "# not present in my_set\n",
        "# Output: {1, 3, 5}\n",
        "my_set.discard(2)\n",
        "print(my_set)\n",
        "\n",
        "# remove an element\n",
        "# not present in my_set\n",
        "# you will get an error.\n",
        "# Output: KeyError\n",
        "\n",
        "my_set.remove(2)"
      ],
      "execution_count": null,
      "outputs": []
    },
    {
      "cell_type": "code",
      "metadata": {
        "id": "w46IhuDi7LXU"
      },
      "source": [
        "# initialize my_set\n",
        "# Output: set of unique elements\n",
        "my_set = set(\"HelloWorld\")\n",
        "print(my_set)\n",
        "\n",
        "# pop an element\n",
        "# Output: random element\n",
        "print(my_set.pop())\n",
        "\n",
        "# pop another element\n",
        "my_set.pop()\n",
        "print(my_set)\n",
        "\n",
        "# clear my_set\n",
        "# Output: set()\n",
        "my_set.clear()\n",
        "print(my_set)\n",
        "\n",
        "print(my_set)"
      ],
      "execution_count": null,
      "outputs": []
    },
    {
      "cell_type": "code",
      "metadata": {
        "id": "qOZostsl7rr-"
      },
      "source": [
        "# Set union method\n",
        "# initialize A and B\n",
        "A = {1, 2, 3, 4, 5}\n",
        "B = {4, 5, 6, 7, 8}\n",
        "\n",
        "# use | operator\n",
        "# Output: {1, 2, 3, 4, 5, 6, 7, 8}\n",
        "print(A | B)\n",
        "print(A.union(B))"
      ],
      "execution_count": null,
      "outputs": []
    },
    {
      "cell_type": "code",
      "metadata": {
        "id": "R6MxTRpy8D5l"
      },
      "source": [
        "# Intersection of sets\n",
        "# initialize A and B\n",
        "A = {1, 2, 3, 4, 5}\n",
        "B = {4, 5, 6, 7, 8}\n",
        "\n",
        "# use & operator\n",
        "# Output: {4, 5}\n",
        "print(A & B)\n",
        "print(A.intersection(B))"
      ],
      "execution_count": null,
      "outputs": []
    },
    {
      "cell_type": "code",
      "metadata": {
        "id": "QUXBwh5v8Q5R"
      },
      "source": [
        "# Difference of two sets\n",
        "# initialize A and B\n",
        "A = {1, 2, 3, 4, 5}\n",
        "B = {4, 5, 6, 7, 8}\n",
        "\n",
        "# use - operator on A\n",
        "# Output: {1, 2, 3}\n",
        "print(A - B)\n",
        "print(A.difference(B))"
      ],
      "execution_count": null,
      "outputs": []
    },
    {
      "cell_type": "code",
      "metadata": {
        "id": "OAlnwb6A8i2j"
      },
      "source": [
        "# in keyword in a set\n",
        "# initialize my_set\n",
        "my_set = set(\"apple\")\n",
        "print(my_set)\n",
        "\n",
        "# check if 'a' is present\n",
        "# Output: True\n",
        "print('a' in my_set)\n",
        "\n",
        "# check if 'p' is present\n",
        "# Output: False\n",
        "print('p' not in my_set)"
      ],
      "execution_count": null,
      "outputs": []
    },
    {
      "cell_type": "code",
      "metadata": {
        "id": "njzwqt-uDhnM",
        "colab": {
          "base_uri": "https://localhost:8080/",
          "height": 214
        },
        "outputId": "9219723f-3e32-450c-b0a0-eb130af26455"
      },
      "source": [
        "# Frozensets\n",
        "# initialize A and B\n",
        "A = frozenset([1, 2, 3, 4,4,5,5])\n",
        "print(A)\n",
        "B = frozenset([3, 4, 5, 6])\n",
        "A.add(7)"
      ],
      "execution_count": null,
      "outputs": [
        {
          "output_type": "stream",
          "text": [
            "frozenset({1, 2, 3, 4, 5})\n"
          ],
          "name": "stdout"
        },
        {
          "output_type": "error",
          "ename": "AttributeError",
          "evalue": "ignored",
          "traceback": [
            "\u001b[0;31m---------------------------------------------------------------------------\u001b[0m",
            "\u001b[0;31mAttributeError\u001b[0m                            Traceback (most recent call last)",
            "\u001b[0;32m<ipython-input-1-4cc589784842>\u001b[0m in \u001b[0;36m<module>\u001b[0;34m()\u001b[0m\n\u001b[1;32m      4\u001b[0m \u001b[0mprint\u001b[0m\u001b[0;34m(\u001b[0m\u001b[0mA\u001b[0m\u001b[0;34m)\u001b[0m\u001b[0;34m\u001b[0m\u001b[0;34m\u001b[0m\u001b[0m\n\u001b[1;32m      5\u001b[0m \u001b[0mB\u001b[0m \u001b[0;34m=\u001b[0m \u001b[0mfrozenset\u001b[0m\u001b[0;34m(\u001b[0m\u001b[0;34m[\u001b[0m\u001b[0;36m3\u001b[0m\u001b[0;34m,\u001b[0m \u001b[0;36m4\u001b[0m\u001b[0;34m,\u001b[0m \u001b[0;36m5\u001b[0m\u001b[0;34m,\u001b[0m \u001b[0;36m6\u001b[0m\u001b[0;34m]\u001b[0m\u001b[0;34m)\u001b[0m\u001b[0;34m\u001b[0m\u001b[0;34m\u001b[0m\u001b[0m\n\u001b[0;32m----> 6\u001b[0;31m \u001b[0mA\u001b[0m\u001b[0;34m.\u001b[0m\u001b[0madd\u001b[0m\u001b[0;34m(\u001b[0m\u001b[0;36m7\u001b[0m\u001b[0;34m)\u001b[0m\u001b[0;34m\u001b[0m\u001b[0;34m\u001b[0m\u001b[0m\n\u001b[0m",
            "\u001b[0;31mAttributeError\u001b[0m: 'frozenset' object has no attribute 'add'"
          ]
        }
      ]
    },
    {
      "cell_type": "code",
      "metadata": {
        "id": "dLqpEDpgKTW5"
      },
      "source": [
        "# Check true\n",
        "a = True\n",
        "print(type(a))\n",
        "print(bool(a))\n",
        "# Check false\n",
        "a = False\n",
        "print(bool(a))\n",
        "# Check 0\n",
        "a = 0\n",
        "print(bool(a))\n",
        "# Check 1\n",
        "a = 1.0\n",
        "print(bool(a))\n",
        "# Check Equality\n",
        "a = 5\n",
        "b = 10\n",
        "print(bool( a==b))\n",
        "# Check None\n",
        "a = None\n",
        "print(bool(a))\n",
        "# Check an empty sequence\n",
        "a = (1,2)\n",
        "print(bool(a))\n",
        "# Check an emtpty mapping\n",
        "a = {}\n",
        "print(bool(a))\n",
        "# Check a non empty string\n",
        "a = 'abc'\n",
        "print(bool(a))"
      ],
      "execution_count": null,
      "outputs": []
    },
    {
      "cell_type": "code",
      "metadata": {
        "id": "S64GwPCj7tKs"
      },
      "source": [
        "#You can evaluate any expression in Python, and get one of two answers, True or False.\n",
        "\n",
        "#When you compare two values, the expression is evaluated and Python returns the Boolean answer:\n",
        "\n",
        "#Example\n",
        "a=10 > 9\n",
        "print(type(a))\n",
        "print(a)\n",
        "print(10 == 9)\n",
        "print(10 < 9)"
      ],
      "execution_count": null,
      "outputs": []
    },
    {
      "cell_type": "code",
      "metadata": {
        "id": "C3yS-0sqls-4"
      },
      "source": [
        ""
      ],
      "execution_count": null,
      "outputs": []
    }
  ]
}