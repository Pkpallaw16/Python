{
  "nbformat": 4,
  "nbformat_minor": 0,
  "metadata": {
    "colab": {
      "name": "Function.ipynb",
      "provenance": [],
      "authorship_tag": "ABX9TyNIW1HfA3oWi1SQOoGXLRRn",
      "include_colab_link": true
    },
    "kernelspec": {
      "display_name": "Python 3",
      "name": "python3"
    }
  },
  "cells": [
    {
      "cell_type": "markdown",
      "metadata": {
        "id": "view-in-github",
        "colab_type": "text"
      },
      "source": [
        "<a href=\"https://colab.research.google.com/github/Pkpallaw16/Python/blob/main/Function.ipynb\" target=\"_parent\"><img src=\"https://colab.research.google.com/assets/colab-badge.svg\" alt=\"Open In Colab\"/></a>"
      ]
    },
    {
      "cell_type": "code",
      "metadata": {
        "colab": {
          "base_uri": "https://localhost:8080/"
        },
        "id": "sooPsYILQBmZ",
        "outputId": "4b5b7f8e-314e-423b-c407-80507580b147"
      },
      "source": [
        "def absolute_value(num):\n",
        "    \"\"\"This function returns the absolute\n",
        "    value of the entered number\"\"\"\n",
        "\n",
        "    if num >= 0:\n",
        "        return num\n",
        "    else:\n",
        "        return -num\n",
        "\n",
        "\n",
        "print(absolute_value(2))\n",
        "\n",
        "absol=absolute_value(-4)\n",
        "print(absol)"
      ],
      "execution_count": null,
      "outputs": [
        {
          "output_type": "stream",
          "text": [
            "2\n",
            "4\n"
          ],
          "name": "stdout"
        }
      ]
    },
    {
      "cell_type": "code",
      "metadata": {
        "colab": {
          "base_uri": "https://localhost:8080/"
        },
        "id": "fCiMfb1o_kHS",
        "outputId": "1c5ddef4-6c35-40f7-eb1a-7f78606bbe72"
      },
      "source": [
        "def work_place():\n",
        "  company_name=\"Microsoft\"\n",
        "  return company_name\n",
        "print(\"I work for \"+work_place())  "
      ],
      "execution_count": null,
      "outputs": [
        {
          "output_type": "stream",
          "text": [
            "I work for Microsoft\n"
          ],
          "name": "stdout"
        }
      ]
    },
    {
      "cell_type": "code",
      "metadata": {
        "colab": {
          "base_uri": "https://localhost:8080/"
        },
        "id": "PiXEsf2TQGAk",
        "outputId": "de147012-2c24-40eb-9bcd-e9f5f9464dc0"
      },
      "source": [
        "# Function definition is here\n",
        "def printinfo( name, age ):\n",
        "   \"This prints a passed info into this function\"\n",
        "   print(\"Name: \", name)\n",
        "   print(\"Age \", age)\n",
        "   return\n",
        "\n",
        "# Now you can call printinfo function\n",
        "printinfo( age=50, name=\"miki\")"
      ],
      "execution_count": null,
      "outputs": [
        {
          "output_type": "stream",
          "text": [
            "Name:  miki\n",
            "Age  50\n"
          ],
          "name": "stdout"
        }
      ]
    },
    {
      "cell_type": "code",
      "metadata": {
        "colab": {
          "base_uri": "https://localhost:8080/"
        },
        "id": "ZR1NdLawQa8m",
        "outputId": "4783d396-a459-4657-c762-2ca7378a9ac5"
      },
      "source": [
        "#Default parametric functions \n",
        "\n",
        "def printinfo( name, age = 35 ):\n",
        "   \"This prints a passed info into this function\"\n",
        "   print(\"Name: \", name)\n",
        "   print(\"Age \", age)\n",
        "   return\n",
        "\n",
        "# Now you can call printinfo function\n",
        "printinfo( age=50, name=\"miki\" )\n",
        "printinfo(\"abc\",30)\n",
        "printinfo(20,\"xyz\")\n",
        "printinfo( name=\"miki\" )"
      ],
      "execution_count": null,
      "outputs": [
        {
          "output_type": "stream",
          "text": [
            "Name:  miki\n",
            "Age  50\n",
            "Name:  abc\n",
            "Age  30\n",
            "Name:  20\n",
            "Age  xyz\n",
            "Name:  miki\n",
            "Age  35\n"
          ],
          "name": "stdout"
        }
      ]
    },
    {
      "cell_type": "code",
      "metadata": {
        "colab": {
          "base_uri": "https://localhost:8080/"
        },
        "id": "oJgGgJpHK9Sb",
        "outputId": "7cb9fc1c-bf19-4bad-d798-27ffcd8c549b"
      },
      "source": [
        "#pass by reference\n",
        "def test(list):\n",
        "  count=5\n",
        "  for i in range(len(list)):\n",
        "    list[i]=count\n",
        "    count+=1\n",
        "  print(list)  \n",
        "list1=[2,5,7,8,9]\n",
        "print(list1)\n",
        "test(list1)\n",
        "print(list1)"
      ],
      "execution_count": null,
      "outputs": [
        {
          "output_type": "stream",
          "text": [
            "[2, 5, 7, 8, 9]\n",
            "[5, 6, 7, 8, 9]\n",
            "[5, 6, 7, 8, 9]\n"
          ],
          "name": "stdout"
        }
      ]
    },
    {
      "cell_type": "code",
      "metadata": {
        "colab": {
          "background_save": true,
          "base_uri": "https://localhost:8080/"
        },
        "id": "AU4ZGcMfwpc2",
        "outputId": "d9347df6-63f6-4731-fbdc-9a65a352a541"
      },
      "source": [
        "#*args is internally a Tuple, which is an iterable sequence similar to lists.\n",
        "def my_min(*args):\n",
        "  \n",
        "\n",
        "    result = args[0]\n",
        "    for num in args:\n",
        "        if num < result:\n",
        "            result = num\n",
        "    return result\n",
        "\n",
        "my_min(4, 5, 6, 7, 2)\n",
        "my_min(7,8,9)"
      ],
      "execution_count": null,
      "outputs": [
        {
          "output_type": "execute_result",
          "data": {
            "text/plain": [
              "2"
            ]
          },
          "metadata": {
            "tags": []
          },
          "execution_count": 0
        }
      ]
    },
    {
      "cell_type": "code",
      "metadata": {
        "id": "PhPdKF-byY4c"
      },
      "source": [
        "def myFun(*argv):  \n",
        "    for arg in argv:  \n",
        "        print (arg) \n",
        "    \n",
        "myFun(1, 2, 3, 4) "
      ],
      "execution_count": null,
      "outputs": []
    },
    {
      "cell_type": "code",
      "metadata": {
        "colab": {
          "base_uri": "https://localhost:8080/"
        },
        "id": "9HaSo_7fyx6-",
        "outputId": "a860ca68-13e2-42f3-aea9-b70e52672422"
      },
      "source": [
        "# Python program to illustrate  \n",
        "# *args with first extra argument \n",
        "def myFun(arg1, *argv): \n",
        "    print (\"First argument :\", arg1) \n",
        "    for arg in argv: \n",
        "        print(\"Next argument through *argv :\", arg) \n",
        "  \n",
        "myFun(1, 2, 3, 4) "
      ],
      "execution_count": null,
      "outputs": [
        {
          "output_type": "stream",
          "text": [
            "First argument : 1\n",
            "Next argument through *argv : 2\n",
            "Next argument through *argv : 3\n",
            "Next argument through *argv : 4\n"
          ],
          "name": "stdout"
        }
      ]
    },
    {
      "cell_type": "code",
      "metadata": {
        "colab": {
          "base_uri": "https://localhost:8080/"
        },
        "id": "krOUlWnLxvpY",
        "outputId": "c3b806f7-0bf2-4769-81d5-27f57270571b"
      },
      "source": [
        "# Python program to illustrate   \n",
        "# *kargs for variable number of keyword arguments \n",
        "  \n",
        "def myFun(**kwargs):  \n",
        "    for key, value in kwargs.items(): \n",
        "        print (\"%s == %s\" %(key, value)) \n",
        "  \n",
        "myFun(first =1, mid =2, last=3) "
      ],
      "execution_count": null,
      "outputs": [
        {
          "output_type": "stream",
          "text": [
            "first == 1\n",
            "mid == 2\n",
            "last == 3\n"
          ],
          "name": "stdout"
        }
      ]
    },
    {
      "cell_type": "code",
      "metadata": {
        "id": "_t7hz9vNzUGL",
        "colab": {
          "base_uri": "https://localhost:8080/"
        },
        "outputId": "daad2f68-4578-4a92-e8b7-dab6392db9d5"
      },
      "source": [
        "# Python program to illustrate  **kargs for  \n",
        "# variable number of keyword arguments with \n",
        "# one extra argument. \n",
        "  \n",
        "def myFun(arg1, **kwargs):  \n",
        "    for key, value in kwargs.items(): \n",
        "        print (\"%s == %s\" %(key, value)) \n",
        "   \n",
        "myFun(arg1=9,first =1, mid =2, last=3) \n",
        "myFun(arg1=9,a=4,b=8)"
      ],
      "execution_count": null,
      "outputs": [
        {
          "output_type": "stream",
          "text": [
            "first == 1\n",
            "mid == 2\n",
            "last == 3\n",
            "a == 4\n",
            "b == 8\n"
          ],
          "name": "stdout"
        }
      ]
    },
    {
      "cell_type": "code",
      "metadata": {
        "colab": {
          "base_uri": "https://localhost:8080/",
          "height": 197
        },
        "id": "L0nYr3q5IJlM",
        "outputId": "87245468-06c2-4242-8097-e82e12c54f8f"
      },
      "source": [
        "def foo():\n",
        "    y = \"local\"\n",
        "\n",
        "\n",
        "foo()\n",
        "print(y)"
      ],
      "execution_count": null,
      "outputs": [
        {
          "output_type": "error",
          "ename": "NameError",
          "evalue": "ignored",
          "traceback": [
            "\u001b[0;31m---------------------------------------------------------------------------\u001b[0m",
            "\u001b[0;31mNameError\u001b[0m                                 Traceback (most recent call last)",
            "\u001b[0;32m<ipython-input-1-60986766f2cf>\u001b[0m in \u001b[0;36m<module>\u001b[0;34m()\u001b[0m\n\u001b[1;32m      4\u001b[0m \u001b[0;34m\u001b[0m\u001b[0m\n\u001b[1;32m      5\u001b[0m \u001b[0mfoo\u001b[0m\u001b[0;34m(\u001b[0m\u001b[0;34m)\u001b[0m\u001b[0;34m\u001b[0m\u001b[0;34m\u001b[0m\u001b[0m\n\u001b[0;32m----> 6\u001b[0;31m \u001b[0mprint\u001b[0m\u001b[0;34m(\u001b[0m\u001b[0my\u001b[0m\u001b[0;34m)\u001b[0m\u001b[0;34m\u001b[0m\u001b[0;34m\u001b[0m\u001b[0m\n\u001b[0m",
            "\u001b[0;31mNameError\u001b[0m: name 'y' is not defined"
          ]
        }
      ]
    },
    {
      "cell_type": "code",
      "metadata": {
        "colab": {
          "base_uri": "https://localhost:8080/",
          "height": 248
        },
        "id": "dWVlrleeHIPl",
        "outputId": "59532447-5b36-4871-d5f6-42ff8b476f43"
      },
      "source": [
        "x = 10\n",
        "\n",
        "def foo():\n",
        "\n",
        "    print(\"x inside:\", x)\n",
        "    y=20\n",
        "    print(\"y outside:\", y)\n",
        "\n",
        "\n",
        "\n",
        "foo()\n",
        "print(\"x outside:\", x)\n",
        "print(\"y outside:\", y)"
      ],
      "execution_count": null,
      "outputs": [
        {
          "output_type": "stream",
          "text": [
            "x inside: 10\n",
            "y outside: 20\n",
            "x outside: 10\n"
          ],
          "name": "stdout"
        },
        {
          "output_type": "error",
          "ename": "NameError",
          "evalue": "ignored",
          "traceback": [
            "\u001b[0;31m---------------------------------------------------------------------------\u001b[0m",
            "\u001b[0;31mNameError\u001b[0m                                 Traceback (most recent call last)",
            "\u001b[0;32m<ipython-input-4-1835bcee9ab8>\u001b[0m in \u001b[0;36m<module>\u001b[0;34m()\u001b[0m\n\u001b[1;32m     11\u001b[0m \u001b[0mfoo\u001b[0m\u001b[0;34m(\u001b[0m\u001b[0;34m)\u001b[0m\u001b[0;34m\u001b[0m\u001b[0;34m\u001b[0m\u001b[0m\n\u001b[1;32m     12\u001b[0m \u001b[0mprint\u001b[0m\u001b[0;34m(\u001b[0m\u001b[0;34m\"x outside:\"\u001b[0m\u001b[0;34m,\u001b[0m \u001b[0mx\u001b[0m\u001b[0;34m)\u001b[0m\u001b[0;34m\u001b[0m\u001b[0;34m\u001b[0m\u001b[0m\n\u001b[0;32m---> 13\u001b[0;31m \u001b[0mprint\u001b[0m\u001b[0;34m(\u001b[0m\u001b[0;34m\"y outside:\"\u001b[0m\u001b[0;34m,\u001b[0m \u001b[0my\u001b[0m\u001b[0;34m)\u001b[0m\u001b[0;34m\u001b[0m\u001b[0;34m\u001b[0m\u001b[0m\n\u001b[0m",
            "\u001b[0;31mNameError\u001b[0m: name 'y' is not defined"
          ]
        }
      ]
    },
    {
      "cell_type": "code",
      "metadata": {
        "colab": {
          "base_uri": "https://localhost:8080/"
        },
        "id": "g2RABO9LE0QP",
        "outputId": "61e751cc-cd66-4387-b3e6-f2cb9c42f29f"
      },
      "source": [
        "x = 20\n",
        "def my_func():\n",
        "\tx = 10\n",
        "\tprint(\"Value inside function:\",x)\n",
        "\n",
        "\n",
        "my_func()\n",
        "print(\"Value outside function:\",x)"
      ],
      "execution_count": null,
      "outputs": [
        {
          "output_type": "stream",
          "text": [
            "Value inside function: 10\n",
            "Value outside function: 20\n"
          ],
          "name": "stdout"
        }
      ]
    },
    {
      "cell_type": "code",
      "metadata": {
        "colab": {
          "base_uri": "https://localhost:8080/",
          "height": 316
        },
        "id": "gRafaiqkH2pc",
        "outputId": "cf515857-afc4-40ba-c4af-b439c699e58c"
      },
      "source": [
        "x = 2\n",
        "\n",
        "def foo():\n",
        "    x = x * 2\n",
        "    print(x)\n",
        "\n",
        "foo()"
      ],
      "execution_count": null,
      "outputs": [
        {
          "output_type": "error",
          "ename": "UnboundLocalError",
          "evalue": "ignored",
          "traceback": [
            "\u001b[0;31m---------------------------------------------------------------------------\u001b[0m",
            "\u001b[0;31mUnboundLocalError\u001b[0m                         Traceback (most recent call last)",
            "\u001b[0;32m<ipython-input-8-d0556c48db20>\u001b[0m in \u001b[0;36m<module>\u001b[0;34m()\u001b[0m\n\u001b[1;32m      5\u001b[0m     \u001b[0mprint\u001b[0m\u001b[0;34m(\u001b[0m\u001b[0mx\u001b[0m\u001b[0;34m)\u001b[0m\u001b[0;34m\u001b[0m\u001b[0;34m\u001b[0m\u001b[0m\n\u001b[1;32m      6\u001b[0m \u001b[0;34m\u001b[0m\u001b[0m\n\u001b[0;32m----> 7\u001b[0;31m \u001b[0mfoo\u001b[0m\u001b[0;34m(\u001b[0m\u001b[0;34m)\u001b[0m\u001b[0;34m\u001b[0m\u001b[0;34m\u001b[0m\u001b[0m\n\u001b[0m",
            "\u001b[0;32m<ipython-input-8-d0556c48db20>\u001b[0m in \u001b[0;36mfoo\u001b[0;34m()\u001b[0m\n\u001b[1;32m      2\u001b[0m \u001b[0;34m\u001b[0m\u001b[0m\n\u001b[1;32m      3\u001b[0m \u001b[0;32mdef\u001b[0m \u001b[0mfoo\u001b[0m\u001b[0;34m(\u001b[0m\u001b[0;34m)\u001b[0m\u001b[0;34m:\u001b[0m\u001b[0;34m\u001b[0m\u001b[0;34m\u001b[0m\u001b[0m\n\u001b[0;32m----> 4\u001b[0;31m     \u001b[0mx\u001b[0m \u001b[0;34m=\u001b[0m \u001b[0mx\u001b[0m \u001b[0;34m*\u001b[0m \u001b[0;36m2\u001b[0m\u001b[0;34m\u001b[0m\u001b[0;34m\u001b[0m\u001b[0m\n\u001b[0m\u001b[1;32m      5\u001b[0m     \u001b[0mprint\u001b[0m\u001b[0;34m(\u001b[0m\u001b[0mx\u001b[0m\u001b[0;34m)\u001b[0m\u001b[0;34m\u001b[0m\u001b[0;34m\u001b[0m\u001b[0m\n\u001b[1;32m      6\u001b[0m \u001b[0;34m\u001b[0m\u001b[0m\n",
            "\u001b[0;31mUnboundLocalError\u001b[0m: local variable 'x' referenced before assignment"
          ]
        }
      ]
    },
    {
      "cell_type": "code",
      "metadata": {
        "colab": {
          "base_uri": "https://localhost:8080/"
        },
        "id": "if29MG1LI5fx",
        "outputId": "92b3ba7d-1f57-428f-d47c-b0cc776c381c"
      },
      "source": [
        "x = 5\n",
        "\n",
        "def foo():\n",
        "    global x\n",
        "    y = \"local\"\n",
        "    x = x * 2\n",
        "    print(x)\n",
        "    print(y)\n",
        "\n",
        "foo()\n",
        "print(x)"
      ],
      "execution_count": null,
      "outputs": [
        {
          "output_type": "stream",
          "text": [
            "10\n",
            "local\n",
            "10\n"
          ],
          "name": "stdout"
        }
      ]
    },
    {
      "cell_type": "code",
      "metadata": {
        "colab": {
          "base_uri": "https://localhost:8080/"
        },
        "id": "4FRhavUNUu7i",
        "outputId": "dc9da993-7cc1-4a48-a576-498e704184b4"
      },
      "source": [
        "data=[12,14,16,18,20,22]\n",
        "def second_largest_number(list1):\n",
        "    first_max=max(list1[0],list1[1])\n",
        "    second_max=min(list1[0],list1[1])\n",
        "\n",
        "    for i in range(2,len(list1)):\n",
        "        if list1[i] > first_max:\n",
        "           second_max= first_max\n",
        "           first_max=list1[i]\n",
        "        elif list1[i]> second_max:\n",
        "             second_max=list1[i]\n",
        "    return second_max\n",
        "\n",
        "print(second_largest_number(data))"
      ],
      "execution_count": null,
      "outputs": [
        {
          "output_type": "stream",
          "text": [
            "20\n"
          ],
          "name": "stdout"
        }
      ]
    }
  ]
}