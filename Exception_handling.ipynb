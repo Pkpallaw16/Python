{
  "nbformat": 4,
  "nbformat_minor": 0,
  "metadata": {
    "colab": {
      "name": "Exception handling.ipynb",
      "provenance": [],
      "collapsed_sections": [],
      "authorship_tag": "ABX9TyOCurNdDip3r9WmAFULpzkc",
      "include_colab_link": true
    },
    "kernelspec": {
      "display_name": "Python 3",
      "name": "python3"
    },
    "language_info": {
      "name": "python"
    }
  },
  "cells": [
    {
      "cell_type": "markdown",
      "metadata": {
        "id": "view-in-github",
        "colab_type": "text"
      },
      "source": [
        "<a href=\"https://colab.research.google.com/github/Pkpallaw16/Python/blob/main/Exception_handling.ipynb\" target=\"_parent\"><img src=\"https://colab.research.google.com/assets/colab-badge.svg\" alt=\"Open In Colab\"/></a>"
      ]
    },
    {
      "cell_type": "code",
      "metadata": {
        "colab": {
          "base_uri": "https://localhost:8080/"
        },
        "id": "Q451AB2b4ofX",
        "outputId": "ebbb1e6d-d22d-49d3-eaf2-bf0daa2dd09d"
      },
      "source": [
        "list=[9,4]\n",
        "try:\n",
        "  print(list[3])\n",
        "except IndexError as e:\n",
        "  print(\"error has occured:\",e)  \n",
        "\n",
        "\n"
      ],
      "execution_count": null,
      "outputs": [
        {
          "output_type": "stream",
          "text": [
            "error has occured: list index out of range\n"
          ],
          "name": "stdout"
        }
      ]
    },
    {
      "cell_type": "code",
      "metadata": {
        "colab": {
          "base_uri": "https://localhost:8080/"
        },
        "id": "H09WSTYMpuAy",
        "outputId": "b10e2bf0-b90a-4f04-ab2d-3cfae4006326"
      },
      "source": [
        "try:\n",
        "  a =int(input(\"enter a number\"))\n",
        "  b=int(input(\"enter a number\"))\n",
        "  c=a/b\n",
        "except ZeroDivisionError:\n",
        "    print(\"number is divided by zero\")\n",
        "    b=1\n",
        "    c=a/b\n",
        "except ValueError:\n",
        "    print(\"enter correct value\") \n",
        "    b=2\n",
        "    c=a/b \n",
        "    \n",
        "print(c)\n",
        "print(\"division is complete\")"
      ],
      "execution_count": null,
      "outputs": [
        {
          "output_type": "stream",
          "text": [
            "enter a number2\n",
            "enter a number0\n",
            "number is divided by zero\n",
            "2.0\n",
            "division is complete\n"
          ],
          "name": "stdout"
        }
      ]
    },
    {
      "cell_type": "code",
      "metadata": {
        "id": "qkZinz2SX8VZ",
        "colab": {
          "base_uri": "https://localhost:8080/",
          "height": 231
        },
        "outputId": "363a2f2c-10b7-4f8d-fc66-63e5ae3350d3"
      },
      "source": [
        "# initialize the amount variable \n",
        "marks = 10000\n",
        "  \n",
        "# perform division with 0 \n",
        "a = marks / 0\n",
        "print(a)\n",
        "print(marks)\n",
        "#In the above example raised the ZeroDivisionError as we are trying to divide a number by 0."
      ],
      "execution_count": null,
      "outputs": [
        {
          "output_type": "error",
          "ename": "ZeroDivisionError",
          "evalue": "ignored",
          "traceback": [
            "\u001b[0;31m---------------------------------------------------------------------------\u001b[0m",
            "\u001b[0;31mZeroDivisionError\u001b[0m                         Traceback (most recent call last)",
            "\u001b[0;32m<ipython-input-4-044e794d7723>\u001b[0m in \u001b[0;36m<module>\u001b[0;34m()\u001b[0m\n\u001b[1;32m      3\u001b[0m \u001b[0;34m\u001b[0m\u001b[0m\n\u001b[1;32m      4\u001b[0m \u001b[0;31m# perform division with 0\u001b[0m\u001b[0;34m\u001b[0m\u001b[0;34m\u001b[0m\u001b[0;34m\u001b[0m\u001b[0m\n\u001b[0;32m----> 5\u001b[0;31m \u001b[0ma\u001b[0m \u001b[0;34m=\u001b[0m \u001b[0mmarks\u001b[0m \u001b[0;34m/\u001b[0m \u001b[0;36m0\u001b[0m\u001b[0;34m\u001b[0m\u001b[0;34m\u001b[0m\u001b[0m\n\u001b[0m\u001b[1;32m      6\u001b[0m \u001b[0mprint\u001b[0m\u001b[0;34m(\u001b[0m\u001b[0ma\u001b[0m\u001b[0;34m)\u001b[0m\u001b[0;34m\u001b[0m\u001b[0;34m\u001b[0m\u001b[0m\n\u001b[1;32m      7\u001b[0m \u001b[0mprint\u001b[0m\u001b[0;34m(\u001b[0m\u001b[0mmarks\u001b[0m\u001b[0;34m)\u001b[0m\u001b[0;34m\u001b[0m\u001b[0;34m\u001b[0m\u001b[0m\n",
            "\u001b[0;31mZeroDivisionError\u001b[0m: division by zero"
          ]
        }
      ]
    },
    {
      "cell_type": "code",
      "metadata": {
        "colab": {
          "base_uri": "https://localhost:8080/"
        },
        "id": "Hb1dWllJZFxH",
        "outputId": "83c09369-fc6e-432c-f699-e8715fe8b6c1"
      },
      "source": [
        "# Python program to handle simple runtime error \n",
        "\n",
        "a = [1, 2, 3] \n",
        "try: \n",
        "\tprint(\"Second element = %d\" %(a[1]))\n",
        "\n",
        "\t# Throws error since there are only 3 elements in array \n",
        "\tprint(\"Fourth element = %d\" %(a[3]))\n",
        "  \n",
        " \n",
        "\n",
        "except IndexError: \n",
        "\tprint(\"An error occurred\")\n",
        " \n",
        "print(\"exception handle\")"
      ],
      "execution_count": null,
      "outputs": [
        {
          "output_type": "stream",
          "text": [
            "Second element = 2\n",
            "An error occurred\n",
            "exception handle\n"
          ],
          "name": "stdout"
        }
      ]
    },
    {
      "cell_type": "code",
      "metadata": {
        "colab": {
          "base_uri": "https://localhost:8080/"
        },
        "id": "uoop-OcxZSB0",
        "outputId": "9fbdbd0d-160d-4e8d-da33-e94ade3dd9b6"
      },
      "source": [
        "# import module sys to get the type of exception\n",
        "import sys\n",
        "\n",
        "randomList = ['a', 0, 2]\n",
        "\n",
        "for entry in randomList:\n",
        "    try:\n",
        "        print(\"The entry is\", entry)\n",
        "        r = 1/int(entry)\n",
        "        break\n",
        "    except:\n",
        "        print(\"Oops!\", \"error occurred.\")\n",
        "        print(\"Next entry.\")\n",
        "        print()\n",
        "print(\"The reciprocal of\", entry, \"is\", r)"
      ],
      "execution_count": null,
      "outputs": [
        {
          "output_type": "stream",
          "text": [
            "The entry is a\n",
            "Oops! error occurred.\n",
            "Next entry.\n",
            "\n",
            "The entry is 0\n",
            "Oops! error occurred.\n",
            "Next entry.\n",
            "\n",
            "The entry is 2\n",
            "The reciprocal of 2 is 0.5\n"
          ],
          "name": "stdout"
        }
      ]
    },
    {
      "cell_type": "code",
      "metadata": {
        "id": "rFyvC8qesTr2"
      },
      "source": [
        "try:\n",
        "   # do something\n",
        "   pass\n",
        "\n",
        "except ValueError:\n",
        "   # handle ValueError exception\n",
        "   pass\n",
        "\n",
        "except (TypeError, ZeroDivisionError):\n",
        "   # handle multiple exceptions\n",
        "   # TypeError and ZeroDivisionError\n",
        "   pass\n",
        "\n",
        "except:\n",
        "   # handle all other exceptions\n",
        "   pass"
      ],
      "execution_count": null,
      "outputs": []
    },
    {
      "cell_type": "code",
      "metadata": {
        "id": "yWyzdZKXND8B",
        "colab": {
          "base_uri": "https://localhost:8080/"
        },
        "outputId": "7ad2b578-5da1-4945-9efc-955973515652"
      },
      "source": [
        "\n",
        "\n",
        "try:\n",
        "    a =int(input(\"enter a number\"))\n",
        "    b=int(input(\"enter a number\"))\n",
        "    print(\"resource Open\")\n",
        "    print(a/b)\n",
        "\n",
        "except ValueError as e:\n",
        "    print(\"Invalid Input\")\n",
        "\n",
        "except ArithmeticError as e:\n",
        "    print(\"Something went Wrong...\",e)\n",
        "\n",
        "finally:\n",
        "    print(\"resource Closed\")"
      ],
      "execution_count": null,
      "outputs": [
        {
          "output_type": "stream",
          "text": [
            "enter a number5\n",
            "enter a number0\n",
            "resource Open\n",
            "Something went Wrong... division by zero\n",
            "resource Closed\n"
          ],
          "name": "stdout"
        }
      ]
    },
    {
      "cell_type": "code",
      "metadata": {
        "colab": {
          "base_uri": "https://localhost:8080/"
        },
        "id": "izS9hVbpzuxN",
        "outputId": "ee7212ac-f4f8-4f60-e74a-dffaf7ccc99d"
      },
      "source": [
        "try:\n",
        "    a =int(input(\"enter a number\"))\n",
        "    b=int(input(\"enter a number\"))\n",
        "    print(\"resource Open\")\n",
        "    print(a/b)\n",
        "\n",
        "except:\n",
        "    print(\"Hey, You cannot divide a Number by Zero\")"
      ],
      "execution_count": null,
      "outputs": [
        {
          "output_type": "stream",
          "text": [
            "enter a number4\n",
            "enter a number0\n",
            "resource Open\n",
            "Hey, You cannot divide a Number by Zero\n"
          ],
          "name": "stdout"
        }
      ]
    },
    {
      "cell_type": "code",
      "metadata": {
        "id": "7yBJwvmOeAgX",
        "colab": {
          "base_uri": "https://localhost:8080/"
        },
        "outputId": "aa4de1c9-52bb-406d-f846-b1629b0953cb"
      },
      "source": [
        "# Python program to demonstrate finally \n",
        "\t\n",
        "# No exception Exception raised in try block \n",
        "try: \n",
        "\tk = 5//0 # raises divide by zero exception. \n",
        "\tprint(k) \n",
        "\t\n",
        "# handles zerodivision exception\t \n",
        "except ZeroDivisionError:\t \n",
        "\tprint(\"Can't divide by zero\") \n",
        "\t\t\n",
        "finally: \n",
        "\t# this block is always executed \n",
        "\t# regardless of exception generation. \n",
        "\tprint('This is always executed') \n"
      ],
      "execution_count": null,
      "outputs": [
        {
          "output_type": "stream",
          "text": [
            "Can't divide by zero\n",
            "This is always executed\n"
          ],
          "name": "stdout"
        }
      ]
    },
    {
      "cell_type": "code",
      "metadata": {
        "colab": {
          "base_uri": "https://localhost:8080/"
        },
        "id": "vviZliEuba9y",
        "outputId": "dd669ec5-66e0-4371-d889-6fb0e6c26b9d"
      },
      "source": [
        "# Program to depict else clause with try-except \n",
        "\n",
        "# Function which returns a/b \n",
        "def AbyB(a , b): \n",
        "\ttry: \n",
        "\t\tc = ((a+b) / (a-b)) \n",
        "\texcept ZeroDivisionError as msg:\n",
        "     \n",
        "\t\tprint(\"a/b result in 0\",msg)\n",
        "\telse: \n",
        "\t\tprint(c) \n",
        "\n",
        "# Driver program to test above function \n",
        "AbyB(2.0, 3.0) \n",
        "AbyB(3.0, 3.0) \n"
      ],
      "execution_count": null,
      "outputs": [
        {
          "output_type": "stream",
          "text": [
            "-5.0\n",
            "a/b result in 0 float division by zero\n"
          ],
          "name": "stdout"
        }
      ]
    },
    {
      "cell_type": "code",
      "metadata": {
        "colab": {
          "base_uri": "https://localhost:8080/",
          "height": 231
        },
        "id": "A7JhQkMTvA_6",
        "outputId": "fc6961cd-ee2a-407e-8b00-67eb4a7be685"
      },
      "source": [
        "class TooYoungException(Exception):\n",
        "  def __init__(self,msg):\n",
        "    self.msg=msg\n",
        "class TooOldException(Exception):\n",
        "  def __init__(self,msg):\n",
        "    self.msg=msg   \n",
        "age=int(input(\"enter your age\"))\n",
        "if age>60:\n",
        "  raise TooOldException(\"your age already crossed\") \n",
        "elif age<18:\n",
        "  raise TooYoungException(\"Please wait some time\")  \n",
        "\n"
      ],
      "execution_count": null,
      "outputs": [
        {
          "output_type": "stream",
          "text": [
            "enter your age17\n"
          ],
          "name": "stdout"
        },
        {
          "output_type": "error",
          "ename": "TooYoungException",
          "evalue": "ignored",
          "traceback": [
            "\u001b[0;31m---------------------------------------------------------------------------\u001b[0m",
            "\u001b[0;31mTooYoungException\u001b[0m                         Traceback (most recent call last)",
            "\u001b[0;32m<ipython-input-13-9f77907f5e6a>\u001b[0m in \u001b[0;36m<module>\u001b[0;34m()\u001b[0m\n\u001b[1;32m      9\u001b[0m   \u001b[0;32mraise\u001b[0m \u001b[0mTooOldException\u001b[0m\u001b[0;34m(\u001b[0m\u001b[0;34m\"your age already crossed\"\u001b[0m\u001b[0;34m)\u001b[0m\u001b[0;34m\u001b[0m\u001b[0;34m\u001b[0m\u001b[0m\n\u001b[1;32m     10\u001b[0m \u001b[0;32melif\u001b[0m \u001b[0mage\u001b[0m\u001b[0;34m<\u001b[0m\u001b[0;36m18\u001b[0m\u001b[0;34m:\u001b[0m\u001b[0;34m\u001b[0m\u001b[0;34m\u001b[0m\u001b[0m\n\u001b[0;32m---> 11\u001b[0;31m   \u001b[0;32mraise\u001b[0m \u001b[0mTooYoungException\u001b[0m\u001b[0;34m(\u001b[0m\u001b[0;34m\"Please wait some time\"\u001b[0m\u001b[0;34m)\u001b[0m\u001b[0;34m\u001b[0m\u001b[0;34m\u001b[0m\u001b[0m\n\u001b[0m\u001b[1;32m     12\u001b[0m \u001b[0;34m\u001b[0m\u001b[0m\n",
            "\u001b[0;31mTooYoungException\u001b[0m: Please wait some time"
          ]
        }
      ]
    },
    {
      "cell_type": "code",
      "metadata": {
        "colab": {
          "base_uri": "https://localhost:8080/"
        },
        "id": "LvSlrr2pil40",
        "outputId": "7d9228e9-1325-45f2-b08b-e7d3da0382f8"
      },
      "source": [
        "# try for unsafe code \n",
        "try: \n",
        "\tamount = int(input(\"enter the amount\"))\n",
        "\tif amount < 2999: \n",
        "\t\t\n",
        "\t\t# raise the ValueError \n",
        "\t\traise ValueError(\"please add money in your account\") \n",
        "\telse: \n",
        "\t\tprint(\"You are eligible to purchase DSA Self Paced course\") \n",
        "\t\t\t\n",
        "# if false then raise the value error \n",
        "except ValueError as e: \n",
        "\t\tprint(e) \n"
      ],
      "execution_count": null,
      "outputs": [
        {
          "output_type": "stream",
          "text": [
            "enter the amount2500\n",
            "please add money in your account\n"
          ],
          "name": "stdout"
        }
      ]
    },
    {
      "cell_type": "code",
      "metadata": {
        "colab": {
          "base_uri": "https://localhost:8080/"
        },
        "id": "EZnqhs5KqHDR",
        "outputId": "03cfd2ff-c999-489e-f070-19da9dc84e27"
      },
      "source": [
        "# A python program to create user-defined exception \n",
        "\n",
        "# class MyError is derived from super class Exception \n",
        "class MyError(Exception): \n",
        "\n",
        "\t# Constructor or Initializer \n",
        "\tdef __init__(self, value): \n",
        "\t\tself.value = value \n",
        "\n",
        "\t# __str__ is to print() the value \n",
        "\tdef __str__(self): \n",
        "\t\treturn(str(self.value)) \n",
        "\n",
        "try: \n",
        "\traise(MyError(3*2)) \n",
        "\n",
        "# Value of Exception is stored in error \n",
        "except MyError as error: \n",
        "\tprint('A New Exception occured: ',error) \n"
      ],
      "execution_count": null,
      "outputs": [
        {
          "output_type": "stream",
          "text": [
            "A New Exception occured:  6\n"
          ],
          "name": "stdout"
        }
      ]
    },
    {
      "cell_type": "code",
      "metadata": {
        "colab": {
          "base_uri": "https://localhost:8080/",
          "height": 214
        },
        "id": "g1ibB_8RAlsg",
        "outputId": "2d4a5583-271e-4790-a1d9-943534765010"
      },
      "source": [
        "class NoMoneyException(Exception):\n",
        "    pass\n",
        "\n",
        "class OutOfBudget(Exception):\n",
        "    pass\n",
        "\n",
        "balance = int(input(\"Enter a balance: \"))\n",
        "if balance < 1000:\n",
        "    raise NoMoneyException\n",
        "elif balance > 10000:\n",
        "    raise OutOfBudget"
      ],
      "execution_count": null,
      "outputs": [
        {
          "output_type": "stream",
          "text": [
            "Enter a balance: 11000\n"
          ],
          "name": "stdout"
        },
        {
          "output_type": "error",
          "ename": "OutOfBudget",
          "evalue": "ignored",
          "traceback": [
            "\u001b[0;31m---------------------------------------------------------------------------\u001b[0m",
            "\u001b[0;31mOutOfBudget\u001b[0m                               Traceback (most recent call last)",
            "\u001b[0;32m<ipython-input-17-4f1a487aeee0>\u001b[0m in \u001b[0;36m<module>\u001b[0;34m()\u001b[0m\n\u001b[1;32m      9\u001b[0m     \u001b[0;32mraise\u001b[0m \u001b[0mNoMoneyException\u001b[0m\u001b[0;34m\u001b[0m\u001b[0;34m\u001b[0m\u001b[0m\n\u001b[1;32m     10\u001b[0m \u001b[0;32melif\u001b[0m \u001b[0mbalance\u001b[0m \u001b[0;34m>\u001b[0m \u001b[0;36m10000\u001b[0m\u001b[0;34m:\u001b[0m\u001b[0;34m\u001b[0m\u001b[0;34m\u001b[0m\u001b[0m\n\u001b[0;32m---> 11\u001b[0;31m     \u001b[0;32mraise\u001b[0m \u001b[0mOutOfBudget\u001b[0m\u001b[0;34m\u001b[0m\u001b[0;34m\u001b[0m\u001b[0m\n\u001b[0m",
            "\u001b[0;31mOutOfBudget\u001b[0m: "
          ]
        }
      ]
    },
    {
      "cell_type": "code",
      "metadata": {
        "id": "za89V7BcAlja"
      },
      "source": [
        ""
      ],
      "execution_count": null,
      "outputs": []
    },
    {
      "cell_type": "code",
      "metadata": {
        "id": "XplYEwOoq79h",
        "colab": {
          "base_uri": "https://localhost:8080/",
          "height": 129
        },
        "outputId": "ec516426-7ac6-4df3-f7db-ec235c6b5151"
      },
      "source": [
        "# class Error is derived from super class Exception \n",
        "class Error(Exception): \n",
        "\n",
        "\t# Error is derived class for Exception, but \n",
        "\t# Base class for exceptions in this module \n",
        "\tpass\n",
        "\n",
        "class MarriageAge(Error): \n",
        "\n",
        "\t# Raised when an operation attempts a state \n",
        "\t# transition that's not allowed. \n",
        "\tdef __init__(self, age, msg): \n",
        "\t\tself.age = age \n",
        "\n",
        "\t\t# Error message thrown is saved in msg \n",
        "\t\tself.msg = msg \n",
        "  def print_info(self):\n",
        "    print(self.age,self.msg)  \n",
        "try: \n",
        "  age =int(input(\"enter age\"))\n",
        "  if age<18 or age>60:\n",
        "    raise(MarriageAge(age,\"Not Allowed\"))\n",
        "  else:\n",
        "    Tr=MarriageAge(age,\"Allowed\")\n",
        "\n",
        "\n",
        "# Value of Exception is stored in error \n",
        "except MarriageAge as error: \n",
        "\tprint('Exception occured: ',error.msg) \n",
        "tr.print_info() \n",
        " \n"
      ],
      "execution_count": null,
      "outputs": [
        {
          "output_type": "error",
          "ename": "IndentationError",
          "evalue": "ignored",
          "traceback": [
            "\u001b[0;36m  File \u001b[0;32m\"<ipython-input-20-108910844ba0>\"\u001b[0;36m, line \u001b[0;32m17\u001b[0m\n\u001b[0;31m    def print_info(self):\u001b[0m\n\u001b[0m                         ^\u001b[0m\n\u001b[0;31mIndentationError\u001b[0m\u001b[0;31m:\u001b[0m unindent does not match any outer indentation level\n"
          ]
        }
      ]
    },
    {
      "cell_type": "code",
      "metadata": {
        "id": "-y95DWnTAaYL",
        "colab": {
          "base_uri": "https://localhost:8080/"
        },
        "outputId": "9190a3eb-0f1a-499a-f00e-cbbf5871b1f7"
      },
      "source": [
        "def cube(y):\n",
        "    return y*y*y\n",
        "  \n",
        "lambda_cube = lambda y: y*y*y\n",
        "  \n",
        "# using the normally\n",
        "# defined function\n",
        "print(cube(5))\n",
        "  \n",
        "# using the lamda function\n",
        "print(lambda_cube(5))\n",
        "lambda_sum=lambda a,b:a+b\n",
        "print(lambda_sum(4,5))"
      ],
      "execution_count": null,
      "outputs": [
        {
          "output_type": "stream",
          "text": [
            "125\n",
            "125\n",
            "9\n"
          ],
          "name": "stdout"
        }
      ]
    },
    {
      "cell_type": "code",
      "metadata": {
        "id": "QgAQ-nsSAxx4",
        "colab": {
          "base_uri": "https://localhost:8080/"
        },
        "outputId": "7074a34a-3c94-4a4c-d32b-e61818d37f03"
      },
      "source": [
        "# Python code to illustrate\n",
        "# filter() with lambda()\n",
        "li = [5, 7, 22, 97, 54, 62, 77, 23, 73, 61]\n",
        "\n",
        "final_list = list(filter(lambda x: (x%2 != 0) , li))\n",
        "print(final_list)\n"
      ],
      "execution_count": null,
      "outputs": [
        {
          "output_type": "stream",
          "text": [
            "[5, 7, 97, 77, 23, 73, 61]\n"
          ],
          "name": "stdout"
        }
      ]
    },
    {
      "cell_type": "code",
      "metadata": {
        "id": "faPhvQvDA6K-",
        "colab": {
          "base_uri": "https://localhost:8080/"
        },
        "outputId": "59c62dd2-2cc8-4dcc-b03e-f4a7259b3aba"
      },
      "source": [
        "# Python 3 code to people above 18 yrs\n",
        "ages = [13, 90, 17, 59, 21, 60, 5]\n",
        "\n",
        "adults = list(filter(lambda age: age>18, ages))\n",
        "\n",
        "print(adults)\n"
      ],
      "execution_count": null,
      "outputs": [
        {
          "output_type": "stream",
          "text": [
            "[90, 59, 21, 60]\n"
          ],
          "name": "stdout"
        }
      ]
    },
    {
      "cell_type": "code",
      "metadata": {
        "id": "gdhjbSSuBBiD",
        "colab": {
          "base_uri": "https://localhost:8080/"
        },
        "outputId": "a8440831-2b8c-4efd-9b0c-6ac5c36cdc65"
      },
      "source": [
        "# Python code to illustrate\n",
        "# map() with lambda()\n",
        "# to get double of a list.\n",
        "li = [5, 7, 22, 97, 54, 62, 77, 23, 73, 61]\n",
        "\n",
        "final_list = list(map(lambda x: x*2, li))\n",
        "print(final_list)\n"
      ],
      "execution_count": null,
      "outputs": [
        {
          "output_type": "stream",
          "text": [
            "[10, 14, 44, 194, 108, 124, 154, 46, 146, 122]\n"
          ],
          "name": "stdout"
        }
      ]
    },
    {
      "cell_type": "code",
      "metadata": {
        "id": "ivlVVS-gBMOl",
        "colab": {
          "base_uri": "https://localhost:8080/"
        },
        "outputId": "57dfe373-c262-44e7-9a39-e99013c77d1a"
      },
      "source": [
        "# Python program to demonstrate\n",
        "# use of lambda() function\n",
        "# with map() function\n",
        "animals = ['dog', 'cat', 'parrot', 'rabbit']\n",
        "\n",
        "# here we intend to change all animal names\n",
        "# to upper case and return the same\n",
        "uppered_animals = list(map(lambda animal: str.upper(animal), animals))\n",
        "\n",
        "print(uppered_animals)\n"
      ],
      "execution_count": null,
      "outputs": [
        {
          "output_type": "stream",
          "text": [
            "['DOG', 'CAT', 'PARROT', 'RABBIT']\n"
          ],
          "name": "stdout"
        }
      ]
    },
    {
      "cell_type": "code",
      "metadata": {
        "id": "mAD_hzhQBVWt",
        "colab": {
          "base_uri": "https://localhost:8080/"
        },
        "outputId": "75f3b59e-5e42-4e8d-a441-751a58674d02"
      },
      "source": [
        "# Python code to illustrate\n",
        "# reduce() with lambda()\n",
        "# to get sum of a list\n",
        "\n",
        "from functools import reduce\n",
        "li = [5, 8, 10, 20, 50, 100]\n",
        "sum = reduce((lambda x, y: x * y), li)\n",
        "print (sum)\n"
      ],
      "execution_count": null,
      "outputs": [
        {
          "output_type": "stream",
          "text": [
            "40000000\n"
          ],
          "name": "stdout"
        }
      ]
    },
    {
      "cell_type": "code",
      "metadata": {
        "id": "Uvdaq__3B_sY",
        "colab": {
          "base_uri": "https://localhost:8080/"
        },
        "outputId": "965e243d-f960-4cdb-b9d9-2720f5964dc6"
      },
      "source": [
        "# python code to demonstrate working of reduce()\n",
        "# with a lambda function\n",
        "\n",
        "# importing functools for reduce()\n",
        "import functools\n",
        "\n",
        "# initializing list\n",
        "lis = [ 1 , 3, 5, 6, 2, ]\n",
        "\n",
        "# using reduce to compute maximum element from list\n",
        "print (\"The maximum element of the list is : \",end=\"\")\n",
        "print (functools.reduce(lambda a,b : a if a > b else b,lis))\n"
      ],
      "execution_count": null,
      "outputs": [
        {
          "output_type": "stream",
          "text": [
            "The maximum element of the list is : 6\n"
          ],
          "name": "stdout"
        }
      ]
    }
  ]
}