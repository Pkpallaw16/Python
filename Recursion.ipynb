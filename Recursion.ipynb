{
  "nbformat": 4,
  "nbformat_minor": 0,
  "metadata": {
    "colab": {
      "name": "Recursion.ipynb",
      "provenance": [],
      "authorship_tag": "ABX9TyP41gfYacng69ydYty6Wa7E",
      "include_colab_link": true
    },
    "kernelspec": {
      "name": "python3",
      "display_name": "Python 3"
    }
  },
  "cells": [
    {
      "cell_type": "markdown",
      "metadata": {
        "id": "view-in-github",
        "colab_type": "text"
      },
      "source": [
        "<a href=\"https://colab.research.google.com/github/Pkpallaw16/Python/blob/main/Recursion.ipynb\" target=\"_parent\"><img src=\"https://colab.research.google.com/assets/colab-badge.svg\" alt=\"Open In Colab\"/></a>"
      ]
    },
    {
      "cell_type": "code",
      "metadata": {
        "colab": {
          "base_uri": "https://localhost:8080/"
        },
        "id": "GL1517vxlBXZ",
        "outputId": "cad09760-a7d1-49ca-8c49-f1641b2db496"
      },
      "source": [
        "def factorial(x):\n",
        "    \"\"\"This is a recursive function\n",
        "    to find the factorial of an integer\"\"\"\n",
        "\n",
        "    if x == 1:\n",
        "        return 1\n",
        "    else:\n",
        "        fac_n=x * factorial(x-1)\n",
        "        return fac_n\n",
        "\n",
        "\n",
        "num = 3\n",
        "print(\"The factorial of\", num, \"is\", factorial(num))"
      ],
      "execution_count": null,
      "outputs": [
        {
          "output_type": "stream",
          "text": [
            "The factorial of 3 is 6\n"
          ],
          "name": "stdout"
        }
      ]
    },
    {
      "cell_type": "code",
      "metadata": {
        "colab": {
          "base_uri": "https://localhost:8080/"
        },
        "id": "vQtFrQhilwI8",
        "outputId": "2686d5fc-2dbb-45d5-a3cf-5ff1664d0572"
      },
      "source": [
        "def sum_recursive(current_number, accumulated_sum):\n",
        "    # Base case\n",
        "    # Return the final state\n",
        "    if current_number == 11:\n",
        "        return accumulated_sum\n",
        "\n",
        "    # Recursive case\n",
        "    # Thread the state through the recursive call\n",
        "    else:\n",
        "        return sum_recursive(current_number + 1, accumulated_sum + current_number)\n",
        " \n",
        "# Pass the initial state\n",
        "sum_recursive(1, 0)"
      ],
      "execution_count": null,
      "outputs": [
        {
          "output_type": "execute_result",
          "data": {
            "text/plain": [
              "55"
            ]
          },
          "metadata": {
            "tags": []
          },
          "execution_count": 1
        }
      ]
    },
    {
      "cell_type": "code",
      "metadata": {
        "id": "pfumJBy8vFgs"
      },
      "source": [
        "#Here’s how you maintain the state by keeping it in global scope:\n",
        "# Global mutable state\n",
        "current_number = 1\n",
        "accumulated_sum = 0\n",
        "\n",
        "\n",
        "def sum_recursive():\n",
        "    global current_number\n",
        "    global accumulated_sum\n",
        "    # Base case\n",
        "    if current_number == 11:\n",
        "        return accumulated_sum\n",
        "    # Recursive case\n",
        "    else:\n",
        "        accumulated_sum = accumulated_sum + current_number\n",
        "        current_number = current_number + 1\n",
        "        return sum_recursive()\n",
        " \n",
        "sum_recursive()"
      ],
      "execution_count": null,
      "outputs": []
    },
    {
      "cell_type": "code",
      "metadata": {
        "id": "IFYRAIvrLBSd"
      },
      "source": [
        "def print_decreasing(n):\n",
        "    if n==0:\n",
        "        return\n",
        "    print(n)\n",
        "    print_decreasing(n-1)\n",
        "\n",
        "def print_increasing(n):\n",
        "    if n==0:\n",
        "        return\n",
        "    print_increasing(n-1)\n",
        "    print(n)\n",
        "    \n",
        "def print_decreasing_increasing(n):\n",
        "    if n==0:\n",
        "        return\n",
        "    print(n)\n",
        "    print_decreasing_increasing(n-1)\n",
        "    print(n)\n",
        "\n",
        "n=int(input(\"enter the number\"))\n",
        "print_decreasing(n)\n",
        "print_increasing(n)\n",
        "print(\"print_decreasing_increasing\")\n",
        "print_decreasing_increasing(n)"
      ],
      "execution_count": null,
      "outputs": []
    },
    {
      "cell_type": "code",
      "metadata": {
        "colab": {
          "base_uri": "https://localhost:8080/"
        },
        "id": "5iCVM5FDv2ns",
        "outputId": "cd50e231-74c6-4205-9d33-73a058fdc2f3"
      },
      "source": [
        "# Return a new list that is the result of\n",
        "# adding element to the head (i.e. front) of input_list\n",
        "def reverse_list(list, rev_list):\n",
        "  if list==[]:\n",
        "    return rev_list\n",
        "  rev_list.append(list.pop())\n",
        "  #element=list.pop()\n",
        "  return reverse_list(list,rev_list)\n",
        "reversed_list=reverse_list([12,34,3,4,5,1],[])\n",
        "print(reversed_list)"
      ],
      "execution_count": null,
      "outputs": [
        {
          "output_type": "stream",
          "text": [
            "[1, 5, 4, 3, 34, 12]\n"
          ],
          "name": "stdout"
        }
      ]
    },
    {
      "cell_type": "code",
      "metadata": {
        "colab": {
          "base_uri": "https://localhost:8080/"
        },
        "id": "68mPv_8E3q0k",
        "outputId": "a919dc3e-a0d7-42f3-bdd9-4b39df072833"
      },
      "source": [
        "def reverse_list(input_list):\n",
        "    # Base case\n",
        "    if input_list == []:\n",
        "        return []\n",
        "\n",
        "    # Recursive case\n",
        "    # Decompose the original problem into simpler instances of the same problem\n",
        "    # by making use of the fact that the input is a recursive data structure\n",
        "    # and can be deﬁned in terms of a smaller version of itself\n",
        "    else:\n",
        "        element = input_list.pop()\n",
        "        return [element] + reverse_list(input_list)\n",
        "print(reverse_list([12,34,3,4,5,1]))"
      ],
      "execution_count": null,
      "outputs": [
        {
          "output_type": "stream",
          "text": [
            "[1, 5, 4, 3, 34, 12]\n"
          ],
          "name": "stdout"
        }
      ]
    },
    {
      "cell_type": "code",
      "metadata": {
        "colab": {
          "base_uri": "https://localhost:8080/"
        },
        "id": "R5QNk67S2FKI",
        "outputId": "b5866c9f-f62c-4909-f710-fabac47e17aa"
      },
      "source": [
        "#Recursive data structures and recursive functions go together like bread and butter. \n",
        "#The recursive function’s structure can often be modeled after the definition of the recursive data structure it takes as an input. \n",
        "def list_sum_recursive(input_list):\n",
        "    # Base case\n",
        "    if input_list == []:\n",
        "        return 0\n",
        "    else:\n",
        "        head = input_list[0]\n",
        "        smaller_list = input_list[1:]\n",
        "        return head + list_sum_recursive(smaller_list)\n",
        "print(list_sum_recursive([1, 2, 3]))        "
      ],
      "execution_count": null,
      "outputs": [
        {
          "output_type": "stream",
          "text": [
            "6\n"
          ],
          "name": "stdout"
        }
      ]
    },
    {
      "cell_type": "code",
      "metadata": {
        "id": "3ibvrQi3Tzjz"
      },
      "source": [
        "def max_list(list,id):\n",
        "    if id==len(list)-1:\n",
        "        return list[id]\n",
        "    misa=max_list(list,id+1)\n",
        "    if list[id]>misa:\n",
        "        return list[id]\n",
        "    else:\n",
        "       return misa\n",
        "\n",
        "n=int(input(\"size of list\"))\n",
        "list=[]\n",
        "for i in range(n):\n",
        "    list.append(int(input()))\n",
        "print(max_list(list,0))"
      ],
      "execution_count": null,
      "outputs": []
    },
    {
      "cell_type": "code",
      "metadata": {
        "id": "S7rxM5GOXKGD",
        "colab": {
          "base_uri": "https://localhost:8080/"
        },
        "outputId": "f9e034ea-ac40-474c-f947-e182bae9cd51"
      },
      "source": [
        "#bc ->[--,-c,b-,bc]\n",
        "#abc ->[---,--c,-b-,-bc,a--,a-c,ab-,abc]\n",
        "def subsequence_string(str):\n",
        "    if len(str)==0:\n",
        "        sq=[]\n",
        "        sq.append(\"\")\n",
        "        return sq\n",
        "    c=str[0]      # a\n",
        "    rstr=str[1:]   #bc\n",
        "    rres=subsequence_string(rstr) #[--,-c,b-,bc]\n",
        "    subseq=[]\n",
        "    for st in rres:\n",
        "        subseq.append(\"\"+st)\n",
        "        subseq.append(c+st)\n",
        "    return subseq\n",
        "\n",
        "\n",
        "str=input(\"enter string \")\n",
        "print(subsequence_string(str))"
      ],
      "execution_count": null,
      "outputs": [
        {
          "output_type": "stream",
          "text": [
            "enter stringabc\n",
            "['', 'a', 'b', 'ab', 'c', 'ac', 'bc', 'abc']\n"
          ],
          "name": "stdout"
        }
      ]
    }
  ]
}