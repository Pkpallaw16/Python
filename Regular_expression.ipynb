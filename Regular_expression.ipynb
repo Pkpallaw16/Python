{
  "nbformat": 4,
  "nbformat_minor": 0,
  "metadata": {
    "colab": {
      "name": "Regular expression.ipynb",
      "provenance": [],
      "collapsed_sections": [],
      "authorship_tag": "ABX9TyMvyVZUSjb2jpdEpke33Rv4",
      "include_colab_link": true
    },
    "kernelspec": {
      "name": "python3",
      "display_name": "Python 3"
    },
    "language_info": {
      "name": "python"
    }
  },
  "cells": [
    {
      "cell_type": "markdown",
      "metadata": {
        "id": "view-in-github",
        "colab_type": "text"
      },
      "source": [
        "<a href=\"https://colab.research.google.com/github/Pkpallaw16/Python/blob/main/Regular_expression.ipynb\" target=\"_parent\"><img src=\"https://colab.research.google.com/assets/colab-badge.svg\" alt=\"Open In Colab\"/></a>"
      ]
    },
    {
      "cell_type": "code",
      "metadata": {
        "colab": {
          "base_uri": "https://localhost:8080/"
        },
        "id": "ELrE5wJn-cR4",
        "outputId": "cfde2d27-a6a8-4ebf-a67a-009a42f06307"
      },
      "source": [
        "# Program to extract numbers from a string\n",
        "\n",
        "import re\n",
        "\n",
        "string = '8 hello 125645566666 hi 89. Howdy 34'\n",
        "pattern = '\\d\\d*'  #[0-9]\n",
        "\n",
        "result = re.findall(pattern, string) \n",
        "print(result)\n",
        "\n"
      ],
      "execution_count": null,
      "outputs": [
        {
          "output_type": "stream",
          "text": [
            "['8', '125645566666', '89', '34']\n"
          ],
          "name": "stdout"
        }
      ]
    },
    {
      "cell_type": "code",
      "metadata": {
        "colab": {
          "base_uri": "https://localhost:8080/"
        },
        "id": "qbCGlh7f_HOG",
        "outputId": "167e4163-cc2a-4167-f7a5-6e7badc3878e"
      },
      "source": [
        "# Program to remove all whitespaces\n",
        "import re\n",
        "\n",
        "# multiline string\n",
        "string = 'abc 12 de 23 \\n f45 6'\n",
        "\n",
        "# matches all whitespace characters\n",
        "pattern = '\\s+'\n",
        "\n",
        "# empty string\n",
        "replace = ''\n",
        "\n",
        "new_string = re.sub(pattern, replace, string) \n",
        "print(new_string)\n"
      ],
      "execution_count": null,
      "outputs": [
        {
          "output_type": "stream",
          "text": [
            "abc12de23f456\n"
          ],
          "name": "stdout"
        }
      ]
    },
    {
      "cell_type": "code",
      "metadata": {
        "colab": {
          "base_uri": "https://localhost:8080/"
        },
        "id": "XhayblMi_co0",
        "outputId": "b8ff2297-c3ed-4545-da83-7a129b7d192d"
      },
      "source": [
        "import re\n",
        "\n",
        "# multiline string\n",
        "string = 'abc 12de 23 \\n f45 6'\n",
        "\n",
        "# matches all whitespace characters\n",
        "pattern = '\\s+'\n",
        "replace = ''\n",
        "\n",
        "new_string = re.sub(r'\\s+', replace, string, 1) \n",
        "print(new_string)\n",
        "\n",
        "# Output:\n",
        "# abc12de 23"
      ],
      "execution_count": null,
      "outputs": [
        {
          "output_type": "stream",
          "text": [
            "abc12de 23 \n",
            " f45 6\n"
          ],
          "name": "stdout"
        }
      ]
    },
    {
      "cell_type": "code",
      "metadata": {
        "colab": {
          "base_uri": "https://localhost:8080/"
        },
        "id": "9m6BFCRE_9KE",
        "outputId": "2b60ba3d-fecb-4c66-8cb0-3e0a77f71bda"
      },
      "source": [
        "import re\n",
        "\n",
        "string = '39801 356, 2102 1111'\n",
        "\n",
        "# Three digit number followed by space followed by two digit number\n",
        "pattern = '(\\d{3}) (\\d{2})'\n",
        "\n",
        "# match variable contains a Match object.\n",
        "match = re.findall(pattern, string) \n",
        "\n",
        "if match:\n",
        "  print(match.group())\n",
        "else:\n",
        "  print(\"pattern not found\")\n",
        "\n"
      ],
      "execution_count": null,
      "outputs": [
        {
          "output_type": "stream",
          "text": [
            "[('801', '35'), ('102', '11')]\n"
          ],
          "name": "stdout"
        }
      ]
    },
    {
      "cell_type": "markdown",
      "metadata": {
        "id": "tlk5WOW1Bnov"
      },
      "source": [
        "![app.JPG](data:image/jpeg;base64,/9j/4AAQSkZJRgABAQEAYABgAAD/4RDoRXhpZgAATU0AKgAAAAgABAE7AAIAAAAKAAAISodpAAQAAAABAAAIVJydAAEAAAAUAAAQzOocAAcAAAgMAAAAPgAAAAAc6gAAAAgAAAAAAAAAAAAAAAAAAAAAAAAAAAAAAAAAAAAAAAAAAAAAAAAAAAAAAAAAAAAAAAAAAAAAAAAAAAAAAAAAAAAAAAAAAAAAAAAAAAAAAAAAAAAAAAAAAAAAAAAAAAAAAAAAAAAAAAAAAAAAAAAAAAAAAAAAAAAAAAAAAAAAAAAAAAAAAAAAAAAAAAAAAAAAAAAAAAAAAAAAAAAAAAAAAAAAAAAAAAAAAAAAAAAAAAAAAAAAAAAAAAAAAAAAAAAAAAAAAAAAAAAAAAAAAAAAAAAAAAAAAAAAAAAAAAAAAAAAAAAAAAAAAAAAAAAAAAAAAAAAAAAAAAAAAAAAAAAAAAAAAAAAAAAAAAAAAAAAAAAAAAAAAAAAAAAAAAAAAAAAAAAAAAAAAAAAAAAAAAAAAAAAAAAAAAAAAAAAAAAAAAAAAAAAAAAAAAAAAAAAAAAAAAAAAAAAAAAAAAAAAAAAAAAAAAAAAAAAAAAAAAAAAAAAAAAAAAAAAAAAAAAAAAAAAAAAAAAAAAAAAAAAAAAAAAAAAAAAAAAAAAAAAAAAAAAAAAAAAAAAAAAAAAAAAAAAAAAAAAAAAAAAAAAAAAAAAAAAAAAAAAAAAAAAAAAAAAAAAAAAAAAAAAAAAAAAAAAAAAAAAAAAAAAAAAAAAAAAAAAAAAAAAAAAAAAAAAAAAAAAAAAAAAAAAAAAAAAAAAAAAAAAAAAAAAAAAAAAAAAAAAAAAAAAAAAAAAAAAAAAAAAAAAAAAAAAAAAAAAAAAAAAAAAAAAAAAAAAAAAAAAAAAAAAAAAAAAAAAAAAAAAAAAAAAAAAAAAAAAAAAAAAAAAAAAAAAAAAAAAAAAAAAAAAAAAAAAAAAAAAAAAAAAAAAAAAAAAAAAAAAAAAAAAAAAAAAAAAAAAAAAAAAAAAAAAAAAAAAAAAAAAAAAAAAAAAAAAAAAAAAAAAAAAAAAAAAAAAAAAAAAAAAAAAAAAAAAAAAAAAAAAAAAAAAAAAAAAAAAAAAAAAAAAAAAAAAAAAAAAAAAAAAAAAAAAAAAAAAAAAAAAAAAAAAAAAAAAAAAAAAAAAAAAAAAAAAAAAAAAAAAAAAAAAAAAAAAAAAAAAAAAAAAAAAAAAAAAAAAAAAAAAAAAAAAAAAAAAAAAAAAAAAAAAAAAAAAAAAAAAAAAAAAAAAAAAAAAAAAAAAAAAAAAAAAAAAAAAAAAAAAAAAAAAAAAAAAAAAAAAAAAAAAAAAAAAAAAAAAAAAAAAAAAAAAAAAAAAAAAAAAAAAAAAAAAAAAAAAAAAAAAAAAAAAAAAAAAAAAAAAAAAAAAAAAAAAAAAAAAAAAAAAAAAAAAAAAAAAAAAAAAAAAAAAAAAAAAAAAAAAAAAAAAAAAAAAAAAAAAAAAAAAAAAAAAAAAAAAAAAAAAAAAAAAAAAAAAAAAAAAAAAAAAAAAAAAAAAAAAAAAAAAAAAAAAAAAAAAAAAAAAAAAAAAAAAAAAAAAAAAAAAAAAAAAAAAAAAAAAAAAAAAAAAAAAAAAAAAAAAAAAAAAAAAAAAAAAAAAAAAAAAAAAAAAAAAAAAAAAAAAAAAAAAAAAAAAAAAAAAAAAAAAAAAAAAAAAAAAAAAAAAAAAAAAAAAAAAAAAAAAAAAAAAAAAAAAAAAAAAAAAAAAAAAAAAAAAAAAAAAAAAAAAAAAAAAAAAAAAAAAAAAAAAAAAAAAAAAAAAAAAAAAAAAAAAAAAAAAAAAAAAAAAAAAAAAAAAAAAAAAAAAAAAAAAAAAAAAAAAAAAAAAAAAAAAAAAAAAAAAAAAAAAAAAAAAAAAAAAAAAAAAAAAAAAAAAAAAAAAAAAAAAAAAAAAAAAAAAAAAAAAAAAAAAAAAAAAAAAAAAAAAAAAAAAAAAAAAAAAAAAAAAAAAAAAAAAAAAAAAAAAAAAAAAAAAAAAAAAAAAAAAAAAAAAAAAAAAAAAAAAAAAAAAAAAAAAAAAAAAAAAAAAAAAAAAAAAAAAAAAAAAAAAAAAAAAAAAAAAAAAAAAAAAAAAAAAAAAAAAAAAAAAAAAAAAAAAAAAAAAAAAAAAAAAAAAAAAAAAAAAAAAAAAAAAAAAAAAAAAAAAAAAAAAAAAAAAAAAAAAAAAAAAAAAAAAAAAAAAAAAAAAAAAAAAAAAAAAAAAAAAAAAAAAAAAAAAAAAAAAAAAAAAAAAAAAAAAAAAAAAAAAAAAAAAAAAAAAAAAAAAAAAAAAAAAAAAAAAAAAAAAAAAAAAAAAAAAAAAAAAAAAAAAAAAAAAAAAAAAAAAAAAAAAAAAAAAAAAAAAAAAAAAAAAAAAAAAAAAAAAAAAAAAAAAAAAAAAAAAAAAAAAAAAAAAAAAAAAAAAAAAAAAAAAAAAAAAAAAAAAAAAAAAAAAAAAAAAAAAAAAAAAAAAAAAAAAAAAAAAAAAAAAAAAAAAAAAAAAAAAAAAAAAAAAAAAAAAAAAAAAAAAAAAAAAAAAAAAAAAAAAAAAAAAAAAAAAAAAAAAAAAAAAAAAAAAAAAAAAAAAAAAAAAAAAAAAAAAAAAAAAAAAAAAAAAAAAAAAAAAAAAAAAAAAAAAAAAAAAAAAAAAAAAAAAAAAAAAAAAAAAAAAAAAAAAAAAAAAAAAAAAAAAAAAAAAAAAAAAAAAAAAAAAAAAAAAAAAAAAAAAAAAAAAAAAAAAAAAAAAAAAAAAAAAAAAAAAAAAAAAAAAAAAAAAAAAAAAAAAAAAAAAAAAAAAAAAAAAAAAAAAAAAAAAAAAAAFBBTExBVy1QQwAABZADAAIAAAAUAAAQopAEAAIAAAAUAAAQtpKRAAIAAAADOTYAAJKSAAIAAAADOTYAAOocAAcAAAgMAAAIlgAAAAAc6gAAAAgAAAAAAAAAAAAAAAAAAAAAAAAAAAAAAAAAAAAAAAAAAAAAAAAAAAAAAAAAAAAAAAAAAAAAAAAAAAAAAAAAAAAAAAAAAAAAAAAAAAAAAAAAAAAAAAAAAAAAAAAAAAAAAAAAAAAAAAAAAAAAAAAAAAAAAAAAAAAAAAAAAAAAAAAAAAAAAAAAAAAAAAAAAAAAAAAAAAAAAAAAAAAAAAAAAAAAAAAAAAAAAAAAAAAAAAAAAAAAAAAAAAAAAAAAAAAAAAAAAAAAAAAAAAAAAAAAAAAAAAAAAAAAAAAAAAAAAAAAAAAAAAAAAAAAAAAAAAAAAAAAAAAAAAAAAAAAAAAAAAAAAAAAAAAAAAAAAAAAAAAAAAAAAAAAAAAAAAAAAAAAAAAAAAAAAAAAAAAAAAAAAAAAAAAAAAAAAAAAAAAAAAAAAAAAAAAAAAAAAAAAAAAAAAAAAAAAAAAAAAAAAAAAAAAAAAAAAAAAAAAAAAAAAAAAAAAAAAAAAAAAAAAAAAAAAAAAAAAAAAAAAAAAAAAAAAAAAAAAAAAAAAAAAAAAAAAAAAAAAAAAAAAAAAAAAAAAAAAAAAAAAAAAAAAAAAAAAAAAAAAAAAAAAAAAAAAAAAAAAAAAAAAAAAAAAAAAAAAAAAAAAAAAAAAAAAAAAAAAAAAAAAAAAAAAAAAAAAAAAAAAAAAAAAAAAAAAAAAAAAAAAAAAAAAAAAAAAAAAAAAAAAAAAAAAAAAAAAAAAAAAAAAAAAAAAAAAAAAAAAAAAAAAAAAAAAAAAAAAAAAAAAAAAAAAAAAAAAAAAAAAAAAAAAAAAAAAAAAAAAAAAAAAAAAAAAAAAAAAAAAAAAAAAAAAAAAAAAAAAAAAAAAAAAAAAAAAAAAAAAAAAAAAAAAAAAAAAAAAAAAAAAAAAAAAAAAAAAAAAAAAAAAAAAAAAAAAAAAAAAAAAAAAAAAAAAAAAAAAAAAAAAAAAAAAAAAAAAAAAAAAAAAAAAAAAAAAAAAAAAAAAAAAAAAAAAAAAAAAAAAAAAAAAAAAAAAAAAAAAAAAAAAAAAAAAAAAAAAAAAAAAAAAAAAAAAAAAAAAAAAAAAAAAAAAAAAAAAAAAAAAAAAAAAAAAAAAAAAAAAAAAAAAAAAAAAAAAAAAAAAAAAAAAAAAAAAAAAAAAAAAAAAAAAAAAAAAAAAAAAAAAAAAAAAAAAAAAAAAAAAAAAAAAAAAAAAAAAAAAAAAAAAAAAAAAAAAAAAAAAAAAAAAAAAAAAAAAAAAAAAAAAAAAAAAAAAAAAAAAAAAAAAAAAAAAAAAAAAAAAAAAAAAAAAAAAAAAAAAAAAAAAAAAAAAAAAAAAAAAAAAAAAAAAAAAAAAAAAAAAAAAAAAAAAAAAAAAAAAAAAAAAAAAAAAAAAAAAAAAAAAAAAAAAAAAAAAAAAAAAAAAAAAAAAAAAAAAAAAAAAAAAAAAAAAAAAAAAAAAAAAAAAAAAAAAAAAAAAAAAAAAAAAAAAAAAAAAAAAAAAAAAAAAAAAAAAAAAAAAAAAAAAAAAAAAAAAAAAAAAAAAAAAAAAAAAAAAAAAAAAAAAAAAAAAAAAAAAAAAAAAAAAAAAAAAAAAAAAAAAAAAAAAAAAAAAAAAAAAAAAAAAAAAAAAAAAAAAAAAAAAAAAAAAAAAAAAAAAAAAAAAAAAAAAAAAAAAAAAAAAAAAAAAAAAAAAAAAAAAAAAAAAAAAAAAAAAAAAAAAAAAAAAAAAAAAAAAAAAAAAAAAAAAAAAAAAAAAAAAAAAAAAAAAAAAAAAAAAAAAAAAAAAAAAAAAAAAAAAAAAAAAAAAAAAAAAAAAAAAAAAAAAAAAAAAAAAAAAAAAAAAAAAAAAAAAAAAAAAAAAAAAAAAAAAAAAAAAAAAAAAAAAAAAAAAAAAAAAAAAAAAAAAAAAAAAAAAAAAAAAAAAAAAAAAAAAAAAAAAAAAAAAAAAAAAAAAAAAAAAAAAAAAAAAAAAAAAAAAAAAAAAAAAAAAAAAAAAAAAAAAAAAAAAAAAAAAAAAAAAAAAAAAAAAAAAAAAAAAAAAAAAAAAAAAAAAAAAAAAAAAAAAAAAAAAAAAAAAAAAAAAAAAAAAAAAAAAAAAAAAAAAAAAAAAAAAAAAAAAAAAAAAAAAAAAAAAAAAAAAAAAAAAAAAAAAAAAAAAAAAAAAAAAAAAAAAAAAAAAAAAAAAAAAAAAAAAAAAAAAAAAAAAAAAAAAAAAAAAAAAAAAAAAAAAAAAAAAAAAAAAAAAAAAAAAAAAAAAAAAAAAAAAAAAAAAAAAAAAAAAAAAAAAAAAAAAAAAAAAAAAAAAAAAAAAAAAAAAAAAAAAAAAAAAAAAAAAAAAAAAAAAAAAAAAAAAAAAAAAAAAAAAAAAAAAAAAAAAAAAAAAAAAAAAAAAAAAAAAAAAAAAAAAAAAAAAAAAAAAAAAAAAAAAAAAAAAAAAAAAAAAAAAAAAAAAAAAAAAAAAAAAAAAAAAAAAAAAAAAAAAAAAAAAAAAAAAAAAAAAAAAAAAAAAAAAAAAAAAAAAAAAAAAAAAAAAAAAAAAAAAAAAAAAAAAAAAAAAAAAAAAAAAAAAAAAAAAAAAAAAAAAAAAAAAAAAAAAAAAAAAAAAAAAAAAAAAAAAAAAAAAAAAAAAAAAAAAAAAAAAAAAAAAAAAAAAAAAAAAAAAAAAAAAAAAAAAAAAAAAAAAAAAAAAAAAAAAAAAAAAAAAAAAAAAAAAAAAAAAAAAAAAAAAAAAAAAAAAAADIwMjE6MDQ6MTUgMTE6MDU6MjcAMjAyMTowNDoxNSAxMTowNToyNwAAAFAAQQBMAEwAQQBXAC0AUABDAAAA/+ELHGh0dHA6Ly9ucy5hZG9iZS5jb20veGFwLzEuMC8APD94cGFja2V0IGJlZ2luPSfvu78nIGlkPSdXNU0wTXBDZWhpSHpyZVN6TlRjemtjOWQnPz4NCjx4OnhtcG1ldGEgeG1sbnM6eD0iYWRvYmU6bnM6bWV0YS8iPjxyZGY6UkRGIHhtbG5zOnJkZj0iaHR0cDovL3d3dy53My5vcmcvMTk5OS8wMi8yMi1yZGYtc3ludGF4LW5zIyI+PHJkZjpEZXNjcmlwdGlvbiByZGY6YWJvdXQ9InV1aWQ6ZmFmNWJkZDUtYmEzZC0xMWRhLWFkMzEtZDMzZDc1MTgyZjFiIiB4bWxuczpkYz0iaHR0cDovL3B1cmwub3JnL2RjL2VsZW1lbnRzLzEuMS8iLz48cmRmOkRlc2NyaXB0aW9uIHJkZjphYm91dD0idXVpZDpmYWY1YmRkNS1iYTNkLTExZGEtYWQzMS1kMzNkNzUxODJmMWIiIHhtbG5zOnhtcD0iaHR0cDovL25zLmFkb2JlLmNvbS94YXAvMS4wLyI+PHhtcDpDcmVhdGVEYXRlPjIwMjEtMDQtMTVUMTE6MDU6MjcuOTU1PC94bXA6Q3JlYXRlRGF0ZT48L3JkZjpEZXNjcmlwdGlvbj48cmRmOkRlc2NyaXB0aW9uIHJkZjphYm91dD0idXVpZDpmYWY1YmRkNS1iYTNkLTExZGEtYWQzMS1kMzNkNzUxODJmMWIiIHhtbG5zOmRjPSJodHRwOi8vcHVybC5vcmcvZGMvZWxlbWVudHMvMS4xLyI+PGRjOmNyZWF0b3I+PHJkZjpTZXEgeG1sbnM6cmRmPSJodHRwOi8vd3d3LnczLm9yZy8xOTk5LzAyLzIyLXJkZi1zeW50YXgtbnMjIj48cmRmOmxpPlBBTExBVy1QQzwvcmRmOmxpPjwvcmRmOlNlcT4NCgkJCTwvZGM6Y3JlYXRvcj48L3JkZjpEZXNjcmlwdGlvbj48L3JkZjpSREY+PC94OnhtcG1ldGE+DQogICAgICAgICAgICAgICAgICAgICAgICAgICAgICAgICAgICAgICAgICAgICAgICAgICAgICAgICAgICAgICAgICAgICAgICAgICAgICAgICAgICAgICAgICAgICAgICAgICAgCiAgICAgICAgICAgICAgICAgICAgICAgICAgICAgICAgICAgICAgICAgICAgICAgICAgICAgICAgICAgICAgICAgICAgICAgICAgICAgICAgICAgICAgICAgICAgICAgICAgICAKICAgICAgICAgICAgICAgICAgICAgICAgICAgICAgICAgICAgICAgICAgICAgICAgICAgICAgICAgICAgICAgICAgICAgICAgICAgICAgICAgICAgICAgICAgICAgICAgICAgIAogICAgICAgICAgICAgICAgICAgICAgICAgICAgICAgICAgICAgICAgICAgICAgICAgICAgICAgICAgICAgICAgICAgICAgICAgICAgICAgICAgICAgICAgICAgICAgICAgICAgCiAgICAgICAgICAgICAgICAgICAgICAgICAgICAgICAgICAgICAgICAgICAgICAgICAgICAgICAgICAgICAgICAgICAgICAgICAgICAgICAgICAgICAgICAgICAgICAgICAgICAKICAgICAgICAgICAgICAgICAgICAgICAgICAgICAgICAgICAgICAgICAgICAgICAgICAgICAgICAgICAgICAgICAgICAgICAgICAgICAgICAgICAgICAgICAgICAgICAgICAgIAogICAgICAgICAgICAgICAgICAgICAgICAgICAgICAgICAgICAgICAgICAgICAgICAgICAgICAgICAgICAgICAgICAgICAgICAgICAgICAgICAgICAgICAgICAgICAgICAgICAgCiAgICAgICAgICAgICAgICAgICAgICAgICAgICAgICAgICAgICAgICAgICAgICAgICAgICAgICAgICAgICAgICAgICAgICAgICAgICAgICAgICAgICAgICAgICAgICAgICAgICAKICAgICAgICAgICAgICAgICAgICAgICAgICAgICAgICAgICAgICAgICAgICAgICAgICAgICAgICAgICAgICAgICAgICAgICAgICAgICAgICAgICAgICAgICAgICAgICAgICAgIAogICAgICAgICAgICAgICAgICAgICAgICAgICAgICAgICAgICAgICAgICAgICAgICAgICAgICAgICAgICAgICAgICAgICAgICAgICAgICAgICAgICAgICAgICAgICAgICAgICAgCiAgICAgICAgICAgICAgICAgICAgICAgICAgICAgICAgICAgICAgICAgICAgICAgICAgICAgICAgICAgICAgICAgICAgICAgICAgICAgICAgICAgICAgICAgICAgICAgICAgICAKICAgICAgICAgICAgICAgICAgICAgICAgICAgICAgICAgICAgICAgICAgICAgICAgICAgICAgICAgICAgICAgICAgICAgICAgICAgICAgICAgICAgICAgICAgICAgICAgICAgIAogICAgICAgICAgICAgICAgICAgICAgICAgICAgICAgICAgICAgICAgICAgICAgICAgICAgICAgICAgICAgICAgICAgICAgICAgICAgICAgICAgICAgICAgICAgICAgICAgICAgCiAgICAgICAgICAgICAgICAgICAgICAgICAgICAgICAgICAgICAgICAgICAgICAgICAgICAgICAgICAgICAgICAgICAgICAgICAgICAgICAgICAgICAgICAgICAgICAgICAgICAKICAgICAgICAgICAgICAgICAgICAgICAgICAgICAgICAgICAgICAgICAgICAgICAgICAgICAgICAgICAgICAgICAgICAgICAgICAgICAgICAgICAgICAgICAgICAgICAgICAgIAogICAgICAgICAgICAgICAgICAgICAgICAgICAgICAgICAgICAgICAgICAgICAgICAgICAgICAgICAgICAgICAgICAgICAgICAgICAgICAgICAgICAgICAgICAgICAgICAgICAgCiAgICAgICAgICAgICAgICAgICAgICAgICAgICAgICAgICAgICAgICAgICAgICAgICAgICAgICAgICAgICAgICAgICAgICAgICAgICAgICAgICAgICAgICAgICAgICAgICAgICAKICAgICAgICAgICAgICAgICAgICAgICAgICAgICAgICAgICAgICAgICAgICAgICAgICAgICAgICAgICAgICAgICAgICAgICAgICAgICAgICAgICAgICAgICAgICAgICAgICAgIAogICAgICAgICAgICAgICAgICAgICAgICAgICAgICAgICAgICAgICAgICAgICAgICAgICAgICAgICAgICAgICAgICAgICAgICAgICAgICAgICAgICAgICAgICAgICAgICAgICAgCiAgICAgICAgICAgICAgICAgICAgICAgICAgICAgICAgICAgICAgICAgICAgICAgICAgICAgICAgICAgICAgICAgICAgICAgICAgICAgICAgICAgICAgICAgICAgICAgICAgICAKICAgICAgICAgICAgICAgICAgICAgICAgICAgIDw/eHBhY2tldCBlbmQ9J3cnPz7/2wBDAAcFBQYFBAcGBQYIBwcIChELCgkJChUPEAwRGBUaGRgVGBcbHichGx0lHRcYIi4iJSgpKywrGiAvMy8qMicqKyr/2wBDAQcICAoJChQLCxQqHBgcKioqKioqKioqKioqKioqKioqKioqKioqKioqKioqKioqKioqKioqKioqKioqKioqKir/wAARCADyAbADASIAAhEBAxEB/8QAHwAAAQUBAQEBAQEAAAAAAAAAAAECAwQFBgcICQoL/8QAtRAAAgEDAwIEAwUFBAQAAAF9AQIDAAQRBRIhMUEGE1FhByJxFDKBkaEII0KxwRVS0fAkM2JyggkKFhcYGRolJicoKSo0NTY3ODk6Q0RFRkdISUpTVFVWV1hZWmNkZWZnaGlqc3R1dnd4eXqDhIWGh4iJipKTlJWWl5iZmqKjpKWmp6ipqrKztLW2t7i5usLDxMXGx8jJytLT1NXW19jZ2uHi4+Tl5ufo6erx8vP09fb3+Pn6/8QAHwEAAwEBAQEBAQEBAQAAAAAAAAECAwQFBgcICQoL/8QAtREAAgECBAQDBAcFBAQAAQJ3AAECAxEEBSExBhJBUQdhcRMiMoEIFEKRobHBCSMzUvAVYnLRChYkNOEl8RcYGRomJygpKjU2Nzg5OkNERUZHSElKU1RVVldYWVpjZGVmZ2hpanN0dXZ3eHl6goOEhYaHiImKkpOUlZaXmJmaoqOkpaanqKmqsrO0tba3uLm6wsPExcbHyMnK0tPU1dbX2Nna4uPk5ebn6Onq8vP09fb3+Pn6/9oADAMBAAIRAxEAPwD6LqKdiAiqcb2xkduCf6VLUNx96H/f/wDZTTEN8of3pP8Av43+NHlD+9J/38b/ABp9FF2MZ5Q/vSf9/G/xo8of3pP+/jf40+ii7AZ5Q/vSf9/G/wAaPKH96T/v43+NPoouwGeUP70n/fxv8aPKH96T/v43+NPoouwGeUP70n/fxv8AGjyh/ek/7+N/jT6KLsBnlD+9J/38b/Gjyh/ek/7+N/jT6KLsBnlD+9J/38b/ABo8of3pP+/jf40+ii7AZ5Q/vSf9/G/xo8of3pP+/jf40+ii7AZ5Q/vSf9/G/wAaPKH96T/v43+NPoouwGeUP70n/fxv8aPKH96T/v43+NPoouwGeUP70n/fxv8AGjyh/ek/7+N/jT6KLsBnlD+9J/38b/Gjyh/ek/7+N/jT6KLsBnlD+9J/38b/ABo8of3pP+/jf40+ii7AZ5Q/vSf9/G/xo8of3pP+/jf40+ii7AZ5Q/vSf9/G/wAaPKH96T/v43+NPoouwGeUP70n/fxv8aPKH96T/v43+NPoouwGeUP70n/fxv8AGjyh/ek/7+N/jT6KLsBnlD+9J/38b/Gjyh/ek/7+N/jT6KLsBnlD+9J/38b/ABo8of3pP+/jf40+ii7AZ5Q/vSf9/G/xo8of3pP+/jf40+ii7AZ5Q/vSf9/G/wAaPKH96T/v43+NPoouwGeUP70n/fxv8aPKH96T/v43+NPoouwGeUP70n/fxv8AGjyh/ek/7+N/jT6KLsBnlD+9J/38b/Gjyh/ek/7+N/jT6KLsBnlD+9J/38b/ABo8of3pP+/jf40+ii7AZ5Q/vSf9/G/xo8of3pP+/jf40+ii7AlqG4+9D/v/APspqaobj70P+/8A+ymgQtFFQXhjWymM8rQxhDukRipX3BHehK7sMnorHsp7uSG4+3PJ9gEZ23M6/Z5cY5JAIx35whGOh60afPdyNKJnlk08IcXN1H5Evv0wSBzyVTAwRu61s6LV9dv6+/yIU07GxRWPpc97JcbY2lubDbxPdReXJn26Fh9VXjnc1adyStrKVJBCEgjtxWVWPs73Kg+YlorzixlvYZLOZtTv5nC6ZKRJcuVZp2KS5XOCCAPl6A8gAk1Z+3zvr2nanYmWG0u9Ua2DTavLIZsb1ZfsxBjUZUkYYEBQeORStZ287fl/mJSTV/K/5/5HdiVDKYg6mRVDFM8gHODj04P5Gn1ydvo1q3xE1GRpr4OtpbTqo1CcKSZJs/LvwV4Hy42jJ45NS2VuNa8QasdQurxXsLpIoLeC8lgVI/LVgxVGG/cS3LZHGOxpFPR/12udBBewXNxcwQybpLVxHMu0jaxUMB78MDx61PXAatayI3jPVIb68gnsmWW3WC4aNEdbWNtzKpAfOAMPuGB05Oe2F7BGLVLi4ijmuRiJHcKZGxkhQevHPFHT7hvQs0VwPju/+zao1vdX1xbLcWWLFotUWxSGbcwZ3JkTeOY+Bvxg/Lzzq3Nq1zrujaYNRvFsjp0zyiC6cGfa0IUmTO/+IncGBPrgkEWv9ev+QPR2/rp/mdTRXM3tqLnxHa6NPdXsNjFYNNH5V5LHJM4YKS0oYO20EcE87snOBVPQdVvLu+0E3d07pNBfIHLYFyElQRyEDgkoC2QO5I4oWv8AXr/kLrY7KivObG8fVtW0i1uNXuha3dzqgxDeOnnhJhsUOpBwAMjaRwMdCQbj3U9x4Je2luJLm2bVxp5uHYs0lt9pEZBbqeMoW6nqaN7ef+dhvT+vX/I7O3vbW7sxd2tzDNbMCRNHIGQgdTuHHY0jX9mlgb57uBbQJvNwZAIwv97d0x70l3Y213Z/ZriJXgGD5fRTg5AIHUcdOlZ3hAZ8G6WD0+zL/Kocnz8o7K1zZVg6hkIZSMgg5BFLWB4SPl2d/aRnNrZ380Ft6CMEHaPZSWUegXHat+r8yfIKKKKACiiigAooooAKKKKACiiigAooooAKKKKACiiigAooooAKKKKACiiigAooooAKKKKACiiigAooooAlqG4+9D/v/wDspqaobj70P+//AOymmIWiiikMKKpwS3gtrl7qBd6SP5KRn76D7vc8n/IrL0vXLi5kJuZLWaNbYzTfZ1INswx+7fLHnr6H5TxU8yRLlZpdzoKQgMpDDIPBB71i2Oq3j3Fh9uWDytRjLwiJSDEQNwViSd3y9wByOlTWOo3k+t3dpd28cEccayRANufBZhlj0525wOmetF9bMSmmrouDTrIYxZ242hAP3S8BDlO38J6enaoo9E0qG9kvItMs0upW3STrbqHc5zktjJOalie7OoXCyxoLVVQwuPvMedwPPbjt3qzVeZRUutJ06+uoLm9sLW5ntzuhlmhV2iOc5UkZHIB4pl7omlajcxXGoaZZ3c8P+rlnt1dk5zwSMjnmr1FAyB7K1kS4SS2hZbr/AF6tGCJeNvzf3uABz2GKWSztppYJZbeJ5LckwuyAmIkYJU9uOOKmooAw7vR9S/tS6u9J1O3tvtiIky3FmZiNoIBQiRccHoQ3P5Vf07SrXTbOzt4Iw32OAW8UsgBcJgZGffaM444HpV2ijYCrf6XYarAINUsba9iVtwjuYVkUH1wwPPJpL7StO1O1S21KwtbuBCGWK4hWRVIGAQCMDirdFAGHe+FdOvtQs5ZrW1a0t45leze2Vo5TIyMWI6ZBTPQ5JrRm0uxn0ltMe2jFk0fleQg2Kq9gMY247YxjtVuijpYCCzt3tbOOCW5mumQYM0+3e312gD9KR7NRp5tLNzZLs2RtbqoMX+6CCv5girFFD1DYr2NlBp1jHa2qkRxjA3EksTySSeSSSSSepJqxRRQAUUUUAFFFFABRRRQAUUUUAFFFFABRRRQAUUUUAFFFFABRRRQAUUUUAFFFFABRRRQAUUUUAFFFFABRRRQBLUNx96H/AH//AGU1NUNx96H/AH//AGU0xC0UUUhkV1C1xaTQpI0TSIyh16qSMZFY9no9z5sP2uO1gihtTbEW7ljMDjrlRgDBIHPJPPru0VLim9f6/q4mrtMw7HSr1Lmw+2tb+Tp0bJEYmJaUldoZgQAvy9gTyavR2Uia9Pekr5ckCRgZO7Klif51eop26kqCSsFFFFMsKKKKACiiigAooooAKKKKACiiigAooooAKKKKACiiigAooooAKKKKACiiigAooooAKKKKACiiigAooooAKKKKACiiigAooooAKKKKACiiigAooooAKKKKAJahuPvQ/wC//wCympqhuPvQ/wC//wCymmIWiiikMKKKKACiiigAooooAKKKKACiiigAooooAKKKKACiiigAooooAKKKKACiiigAooooAKKKKACiiigAooooAKKKKACiiigAooooAKKKKACiiigAooooAKKKKACiiigAooooAKKKKAJahuPvQ/7/AP7KamqG4+9D/v8A/sppiFqOaQwwvII3k2jOxBlj9KkqOZZHhdYZBHIRhXK7tp9cd6FvqMgg1K2u4ZWtGMzxDLwAbZFOOAVbBUnHG7FFtqVteLILZy0sYy8DKUlX0yjYIz2zjNNh01bffKkrzXjIVFzcfOR+AwAMgZC7QcfjSQaYsDmd5pLm72kLPcHdt+ijCqOmdoGcDOTzWzVLW3y/rt9z8iFzaXH2mpWt6xjicrMoy8EqlJEHqVPOPfoe1WZHEcbO2cKCTiqdtpiRTLcXM0t3cr0lmI+T/dUYVfTIGSOpNW5kMkEiL1ZSBn6VlV5Vf2ZUL/aOetPGtldzQKtjfxpMYcSSRoFVZv8AVOfmzhiCMYyCOQBg1dfXjDqkVpdaXfW8U0xgiu38oxO+CRwrlwDtOCVHb1FZUfha9RYQZbf93Hpyn5m627ln7dweP1xVWDwfe/2vb3Vza6U01vfm5bU8s91cRlmwhymUwrAffYYUAADoac1vP8NP+CSm+W77fjqa0fiO9fxVc6UNCvTDDHE3nh4MAO7rvOZc7MJkADdwcjpmzLr2dTlsrDTbzUGt2VLiW3MQSFiAdpLupJwQSFBwCPWmS2OpW/iltRsYrWe3uoIoJxNO0bxbHc7lARg2RIeCV6DnniOKx1bS9WvZNNhs7q0vpxcP9ouWheFtqqwGI2DjCgjJXnI+iRct3b+tP8yk/iuTTtW11Ly0vLq0sJoy8sEabLWIwoxLZILclzhQzAdumeqVgyhlOQRkGuevvD91daf4ngjkhDauCICzHC/uEj+bjjlT0zxWpKmpRzWCWf2X7MpIvPN3b9u3jy8cZ3YzntS6fcN+RS1nxNFo8k0a6fe37W1v9puBaCP9zHzgne65ztbhcn5enTLrjxJHbvYwjT76a7voGmhtolQthdu4M27YpG8clscYByQDzPi1rKfxHMt9qtjpPk2yLsvmk23ykk4CJLH5gByNp3j5iMDJ3dFp9teX99o+s3MK2pXTnjmtzkNG8hibAGOg2MOeelEdd/63B7/15E13r32VraBNMvbm9niMxs4TF5kSDAJYs4TqQOGOT0zg4faa/ZX01jHbeY/22GWaNimNojKqysDyGBcDGOxqHUbDUI9aTVtHS2nmNubaWC6maJSu7crBlRjkHIxjnPUY5z4fDupaSumXGmG0vLq2+0/aEuJGhSQzuJHZWCuRhwMAg8HrQvP+t/8AgC6ll/GNr51vBbWF9dXFzJcRRQxImWaB9r8s4UDuCSMgepAM0nia3/4RttVt4JGfzPs62spCP55k8sRN1AO/gkZHcZFc0mm6xo/iHRIovsVxesdSndGd443WSVGxu2sVI3A9G6Y75rWl8P38fhd1/dz6mL4akY4mwjSCUSeUpbHGBsDHHqcUdFf+tf8AK435f1v/AMA3NuqjTY086za+JHmS+U4iUZ5ITcSeOMbh65HSq2nXt/qGn3qB7ZLy3neBZxEzRORjDbNwPfBG7qDzRfS3+qaGj6GDBJOQG+1h7eRE53YBQlW7AkY788VJZGTS9HYXVlHbxWy/JFZO9ySo9tgYnPYAk1k3+8dyvsj9F1M6rp5lljENxDI0FxEDkRyKcMAe47g9wQa0Kx/DllPbWdzc3iGKe/ununiOMxBsBVOO4VVz75rYrYzCiiikMKKKKACiiigAooooAKKKKACiiigAooooAKKKKACiiigAooooAKKKKACiiigAooooAKKKKACiiigCWobj70P+/wD+ympqhuPvQ/7/AP7KaYhaKKKQyNJ4ZVdo5UdY2KuVYHaR1B9CKitdRsr/AHfYby3udmN3kyq+3Prg0qWtrbQTKEVYpWZ5QxyGLfezn1rKVHh8UILqSJ5Gs3EbRLsESBh95STntznHHQdai7TX9dCW2jTttTsLyZorS9t55FGWSKVWIHuAanWaJ5niSRGkjALoGBK56ZHbNY2nm70m7sdJmlt7mF4WCNHGY3TYBywLNkHPXjmtaO1hiupriNMSzBRI2T823OP50020KLb3JqKKKosKKKKACiiigAooooAKKKKACiiigAooooAKKKKACiiigAooooAKKKKACiiigAooooAKKKKACiiigAooooAKKKKACiiigAooooAKKKKACiiigAooooAKKKKAJahuPvQ/7/8A7KamqG4+9D/v/wDsppiFooqOaQwwvII3k2jOxBlj9KW4x0kaSxtHKqujAhlYZBHoRUFtp1lZK62dnb24k++IolXd9cDmmwalbXcMrWjGZ4hl4ANsinHAKtgqTjjdii21K2vFkFs5aWMZeBlKSr6ZRsEZ7ZxmqdOWraJvF2Y6106ysSxsbO3ti/3jDEqbvrgVZqpaala3rGOJysyjLwSqUkQepU849+h7VZkcRxs7ZwoJOKUouGjVhxt9kdRXN2njWyu5oFWxv40mMOJJI0Cqs3+qc/NnDEEYxkEcgDBq6+vGHVIrS60u+t4ppjBFdv5Rid8EjhXLgHacEqO3qKLBdGvRXPx+I71/FVzpQ0K9MMMcTeeHgwA7uu85lzswmQAN3ByOmbMuvZ1OWysNNvNQa3ZUuJbcxBIWIB2ku6knBBIUHAI9aQ3oa9Fco/iuTTtW11Ly0vLq0sJoy8sEabLWIwoxLZILclzhQzAdumeqVgyhlOQRkGjpcHoLRWJrPiaLR5Jo10+9v2trf7TcC0Ef7mPnBO91zna3C5Py9OmXXHiSO3exhGn3013fQNNDbRKhbC7dwZt2xSN45LY4wDkgE3A2aKyLvXvsrW0CaZe3N7PEZjZwmLzIkGASxZwnUgcMcnpnBw+01+yvprGO28x/tsMs0bFMbRGVVlYHkMC4GMdjQBqUVzz+MbXzreC2sL66uLmS4iihiRMs0D7X5ZwoHcEkZA9SAZpPE1v/AMI22q28EjP5n2dbWUhH88yeWIm6gHfwSMjuMigdjboqgz6nBpILJb3d/wAA+WDFFknrgliAB7knHvSaDfy6poFlfXCoss8QdwgIUE+mc1PMublC2lzQooqOczC3f7MEM207BISFz2zjnFUIkorJ0+9vm1S806+a3lkgiSVZ4ImRfm3DaVLNyNuevIPal0bUri5ku7HUljW+snCyGJSqSowykigkkAjIwScFSMnqVF8yuNqzsatFFFMQUUUUAFFFFABRRRQAUUUUAFFFFABRRRQAUUUUAFFFFABRRRQAUUUUAFFFFABRRRQAUUUUAS1Dcfeh/wB//wBlNTVDcfeh/wB//wBlNMQtRzLI8LrDII5CMK5XdtPrjvUlFLYZSh01bffKkrzXjIVFzcfOR+AwAMgZC7QcfjSQaYsDmd5pLm72kLPcHdt+ijCqOmdoGcDOTzViO7t5rma3huIpJ4MedErgtHkZG4dRkcjNPjmilZxFIjmNtrhWB2n0Poea09pLv/X+XlsTypFS20xIpluLmaW7uV6SzEfJ/uqMKvpkDJHUmrcyGSCRF6spAz9Khg1CzupnhtbuCaWP76RyhmXnHIB4p0V9aTXUltDdQyTx/fiSQFk+o6is5S9pu9xxajsc1H4WvUWEGW3/AHcenKfmbrbuWft3B4/XFVYPB97/AGvb3Vza6U01vfm5bU8s91cRlmwhymUwrAffYYUAADp2S3ELXDQLLGZkUM0YYblB6Ejril86Lz/J8xPN27/L3DdtzjOPSnzXd/O/9fcJRSVvl/X3mRLY6lb+KW1GxitZ7e6gignE07RvFsdzuUBGDZEh4JXoOeeI4rHVtL1a9k02GzurS+nFw/2i5aF4W2qrAYjYOMKCMlecj6b1FLYp6nO33h+6utP8TwRyQhtXBEBZjhf3CR/Nxxyp6Z4rUlTUo5rBLP7L9mUkXnm7t+3bx5eOM7sZz2q280UckcbyIryEhFLAFsDJwO9Q3GpWNpOkN1eW8Mr/AHY5JVVm7cAnmldIG+5xPi1rKfxHMt9qtjpPk2yLsvmk23ykk4CJLH5gByNp3j5iMDJ3dFp9teX99o+s3MK2pXTnjmtzkNG8hibAGOg2MOeelad1qdjYuqXt7b27MMqs0qoSPbJqaSeKFVaaVIwzBVLMBknoB7mnFpf16/5iurmTqNhqEetJq2jpbTzG3NtLBdTNEpXduVgyoxyDkYxznqMc58Ph3UtJXTLjTDaXl1bfaftCXEjQpIZ3EjsrBXIw4GAQeD1rpJru3t5YY7ieKKSdtkSO4UyNjOFB6nAJwKmoWi0/r+rj6nn6abrGj+IdEii+xXF6x1Kd0Z3jjdZJUbG7axUjcD0bpjvmtaXw/fx+F3X93PqYvhqRjibCNIJRJ5SlscYGwMcepxXVUUdv663G9d/6/q5BaXSX1mlxEk0ayDhZ4mjcfVWAIqpoljNpPh20s5tss1vCEPlnhiB2Jx+taVFJxTdwT0sVdMa9fS7ZtWSJL1owZ0h+4r45A5PTp1p199r+wzf2d5P2rafK88kIG9TgE4qxRRJcya2EtDI0O1vbC3eO+t4BuzJJPHctNJM56lgY1/TpgACotDhkudV1HW5YZYFvBHDBHMhR/Kj3YZlPKks7nB5xjODwNyiiK5VYbdwooopiCiiigAooooAKKKKACiiigAooooAKKKKACiiigAooooAKKKKACiiigAooooAKKKKACiiigCWobj70P+//AOympqhuPvQ/7/8A7KaYhajnd47eR4l3uqEqvqccCpKKlq6sUtzE8HIg8HaZKp3PcW63E0hHMkjjc7H3LE1omC3s4bqVIyBIWllCkksduDj3wB0qPTtLi0szrayy/Z5XLpbsQUhJJLbOMgEknBJA7YHFXqcvevYS03OU0hWhn0czeUUktHFkI/vRjAbDn+L5QORgZzxyDRZFRZeG/K2/aDM+7H+6/mZ/Hr710Vvp1laTPLa2dvBJJ9944lUt35IHNLHY2kN09zDawxzyfflWMBm+p6mo5Xp/XUxVNpW/rp/kZdnaQ2njC5FvGE8yzWRzkksxkbJJPJrWFtCLw3QT98YxGXyfug5xj6mn+VGJjMI180rtL7fmI64z6U+nFWSXa/5v/M0Stcia5gW6S2aaMTyKXSIsNzKMAkDqQMjn3FS1B9it/wC0Ptxjzc+V5IkJPCZzgDoOfzwPSp6oohltYZriGeRN0kBJjbJ+XIwf0rM8QQl9KvXikt0j8oi6DJ87gDON/wDCcHurda2aqy6XYXF0LmextpZxgiV4VLDHTkjNRKN1ZCa0Mu4juIUOr2M9vCEslVoLmMtgDLYLBhg845BrTRItUsLWW5hIDeXOqEnKMMMPyNLPptjdTrPdWVvNKuNskkSswx0wSKtVSWrJUbGZ4kgguPDV+t0/lxrA0glzgxMo3K4PYqQCD7VPpE891oljcXa7J5beN5VxjDFQSPzpNS0yPVIY4biaVbcOGlhQgLOB/C/GdueoBGehyCQbtNdf6/r/AIBb6BRRRQAUUUUAFFFFABRRRQAUUUUAFFFFABRRRQAUUUUAFFFFABRRRQAUUUUAFFFFABRRRQAUUUUAFFFFABRRRQAUUUUAFFFFAEtQ3H3of9//ANlNTVDcfeh/3/8A2U0xC0UUUhhRRRQAUUUUAFFFFABRRRQAUUUUAFFFFABRRRQAUUUUAFFFFABRRRQAUUUUAFFFFABRRRQAUUUUAFFFFABRRRQAUUUUAFFFFABRRRQAUUUUAFFFFABRRRQAUUUUAFFFFABRRRQBLUNx96H/AH//AGU1NUNx96H/AH//AGU0xC0UVBeGNbKYzytDGEO6RGKlfcEd6Eruwyeiseynu5Ibj7c8n2ARnbczr9nlxjkkAjHfnCEY6HrRp893I0omeWTTwhxc3UfkS+/TBIHPJVMDBG7rWzotX12/r7/IhTTsbFFY+lz3slxtjaW5sNvE91F5cmfboWH1VeOdzVp3JK2spUkEISCO3FZVY+zvcqD5iWivOLGW9hks5m1O/mcLpkpEly5VmnYpLlc4IIA+XoDyACTVn7fO+vadqdiZYbS71RrYNNq8shmxvVl+zEGNRlSRhgQFB45FK1nbzt+X+YlJNX8r/n/kd2JUMpiDqZFUMUzyAc4OPTg/kafXJ2+jWrfETUZGmvg62ltOqjUJwpJkmz8u/BXgfLjaMnjk1LZW41rxBqx1C6vFewukigt4LyWBUj8tWDFUYb9xLctkcY7GkU9H/Xa50EF7Bc3FzBDJuktXEcy7SNrFQwHvwwPHrU9cBq1rIjeM9UhvryCeyZZbdYLho0R1tY23MqkB84Aw+4YHTk57YXsEYtUuLiKOa5GIkdwpkbGSFB68c8UdPuG9CzRXA+O7/wCzao1vdX1xbLcWWLFotUWxSGbcwZ3JkTeOY+Bvxg/Lzzq3Nq1zrujaYNRvFsjp0zyiC6cGfa0IUmTO/wDiJ3BgT64JBFr/AF6/5A9Hb+un+Z1NFcze2oufEdro091ew2MVg00flXksckzhgpLShg7bQRwTzuyc4FU9B1W8u77QTd3Tuk0F8gctgXISVBHIQOCSgLZA7kjiha/16/5C62OyorzmxvH1bVtItbjV7oWt3c6oMQ3jp54SYbFDqQcADI2kcDHQkHStY9U1bwubexvmn+zajNErSXbwtdQRuyhDOgLgjj5hkts5+8TR0G1b+vX/ACO0qr/adgbGW8F9bfZYSwkn81diFThstnAweD6Vy9zej/hXt79ijvbV1l+zXCXV208sGZFSQ+YXYnCkkEN+XSuuhgit7dIIY1jijUIiKMBVAwAB6YoEPVg6hkIZSMgg5BFLWB4SPl2d/aRnNrZ380Ft6CMEHaPZSWUegXHat+jzDyCiiigAooooAKKKKACiiigAooooAKKKKACiiigAooooAKKKKACiiigAooooAKKKKACiiigAooooAKKKKAJahuPvQ/7/AP7KamqG4+9D/v8A/sppiFoopCQqkscADJJ7Uhi0VlaDqF1q9j/aMoijtLrD2kaqd4j7M7ZwSww2ABjOOetW7eS8LXX2qJAFlIg2H76YGCeeucjtQ9NwLVIQGUhhkHgg96wdJ1m8vLyNJ2tXVo2eaOFSHtGBGFcljk9R0XoadaaxeSPYz3KwfZNQdkiVFIeI4JXLZw2QOwGCe9TzJkKotzUGnWQxiztxtCAful4CHKdv4T09O1RR6JpUN7JeRaZZpdStuknW3UO5znJbGSc1BZ6jeza/cWd1BHDCsIkiAbc5G4rlj05xnA/Orge7/tNkMafY/JBD/wARkycjr0xjtTUr2a6/1+g7obdaTp19dQXN7YWtzPbndDLNCrtEc5ypIyOQDxTL3RNK1G5iuNQ0yzu54f8AVyz26uyc54JGRzzV6imUQPZWsiXCSW0LLdf69WjBEvG35v73AA57DFLJZ200sEstvE8luSYXZATESMEqe3HHFMne7W9tVt40a3Yt57N1Ubflxz6/Ws/WdRvLBi0FxZL8v7m2kRnluG7quGGOw4DetS5WE5WVxl3o+pf2pdXek6nb232xESZbizMxG0EAoRIuOD0Ibn8qv6dpVrptnZ28EYb7HALeKWQAuEwMjPvtGcccD0qhfaxLDq0dob2x08NAsh+1ruLMWI2j519PetO8e7SOL7FGkjmVBIH7Jn5iORyBTT7C5k7+Ql/pdhqsAg1Sxtr2JW3CO5hWRQfXDA88mkvtK07U7VLbUrC1u4EIZYriFZFUgYBAIwOKg1y8vNO09r6zSOWO2zJcQshLyRgfNsIPDAcjIOcY4zkXoZo7i3jmgYPHIodGHRgRkGmUY974V06+1CzlmtbVrS3jmV7N7ZWjlMjIxYjpkFM9Dkmr1xomlXdhFY3emWc9pDjyreW3Ro48DAwpGBgccVeooAqrplimlnTY7OCOyZDGbdIwse09RtHGOTUcOnPBpJso9Qu87SqXDFGljHbBK4OBxlgSe+TzV6ijcCvY2UGnWMdraqRHGMDcSSxPJJJ5JJJJJ6kmrFFFABRRRQAUUUUAFFFFABRRRQAUUUUAFFFFABRRRQAUUUUAFFFFABRRRQAUUUUAFFFFABRRRQAUUUUAFFFFAEtQ3H3of9//ANlNTVDcfeh/3/8A2U0xC0yaJZ4JIn+7IpU49CMU+ipaurMexi+FjNb6LDpd5DLHc6dGtu7NGQkoUYV0bGGBABwORnBwa15kMsLorlCykBl6rkdRT6Kcve3BabGDp2kXcFxY/aEtYo7OFoi8LlmuARj5gVGBn5sZbmltNHvY5LC3uGg+yae7PGyMS8vBCZXGFwD6nJFbtFTyohQSViitlINfkviV8prZYQMndkMT+XNXqKKaVlb+u5Vimz351lI0ijGniAs8jffaTcNqjngAbicjuMd6uUUUxhWXqkGo3kNxZxQWbW8ybBJLK25QRydm0g46j5h2rUopSXMrMTMq8ttQaxNhbRWs0LQiIy3ErBhxgkqFIb16ir9pB9lsoLcMXEMapuPU4GM1NRT6t9xKKRl+IJ549Kkt7GCSa7u1aCDbGWRGYY3ORwqjqSTzjAySBVvTrNNO0u1so2LJbQpEpPUhQBn9Ks0UFBRRRQAUUUUAFFFFABRRRQAUUUUAFFFFABRRRQAUUUUAFFFFABRRRQAUUUUAFFFFABRRRQAUUUUAFFFFABRRRQAUUUUAFFFFAEtQ3H3of9//ANlNTVFcDhG7K2T9MEf1piCio/Ph/wCeqf8AfQo+0Q/89U/76FFmMkoqP7RD/wA9U/76FH2iH/nqn/fQoswJKKj+0Q/89U/76FH2iH/nqn/fQoswJKKj+0Q/89U/76FH2iH/AJ6p/wB9CizAkoqP7RD/AM9U/wC+hR9oh/56p/30KLMCSio/tEP/AD1T/voUfaIf+eqf99CizAkoqP7RD/z1T/voUfaIf+eqf99CizAkoqP7RD/z1T/voUfaIf8Anqn/AH0KLMCSio/tEP8Az1T/AL6FH2iH/nqn/fQoswJKKj+0Q/8APVP++hR9oh/56p/30KLMCSio/tEP/PVP++hR9oh/56p/30KLMCSio/tEP/PVP++hR9oh/wCeqf8AfQoswJKKj+0Q/wDPVP8AvoUfaIf+eqf99CizAkoqP7RD/wA9U/76FH2iH/nqn/fQoswJKKj+0Q/89U/76FH2iH/nqn/fQoswJKKj+0Q/89U/76FH2iH/AJ6p/wB9CizAkoqP7RD/AM9U/wC+hR9oh/56p/30KLMCSio/tEP/AD1T/voUfaIf+eqf99CizAkoqP7RD/z1T/voUfaIf+eqf99CizAkoqP7RD/z1T/voUfaIf8Anqn/AH0KLMCSio/tEP8Az1T/AL6FH2iH/nqn/fQoswJKKj+0Q/8APVP++hR9oh/56p/30KLMCSio/tEP/PVP++hR9oh/56p/30KLMCSio/tEP/PVP++hR9oh/wCeqf8AfQoswJKKj+0Q/wDPVP8AvoUfaIf+eqf99CizAkoqP7RD/wA9U/76FH2iH/nqn/fQoswLNFFFAgooooAKKKKACiiigAooooAKKKKACiiigAooooAKKKKACiiigAooooAKKKKACiiigAooooAKKKKACiiigAooooAKKKKACiiigAooooAKKKKACiiigAooooAKKKKACiiigAooooAKKKKAP//Z)"
      ]
    },
    {
      "cell_type": "code",
      "metadata": {
        "id": "9qraqPJ_0dSi",
        "colab": {
          "base_uri": "https://localhost:8080/"
        },
        "outputId": "c9cfba02-3490-49af-a57c-e4675fec0df7"
      },
      "source": [
        "# Module Regular Expression is imported using __import__().\n",
        "import re\n",
        "\n",
        "# compile() creates regular expression character class [a-e],\n",
        "# which is equivalent to [abcde].\n",
        "# class [abcde] will match with string with 'a', 'b', 'c', 'd', 'e'.\n",
        "p = re.compile('[a-e]')\n",
        "\n",
        "# findall() searches for the Regular Expression and return a list upon finding\n",
        "print(p.findall(\"Aye, said Mr. Gibenson Stark\"))\n"
      ],
      "execution_count": null,
      "outputs": [
        {
          "output_type": "stream",
          "text": [
            "['e', 'a', 'd', 'b', 'e', 'a']\n"
          ],
          "name": "stdout"
        }
      ]
    },
    {
      "cell_type": "code",
      "metadata": {
        "id": "ReXw36c11J-r",
        "colab": {
          "base_uri": "https://localhost:8080/"
        },
        "outputId": "41f040ea-8435-4a93-a3c5-7b0bd031c8b3"
      },
      "source": [
        "import re\n",
        "\n",
        "# \\d is equivalent to [0-9].\n",
        "p = re.compile('\\d')\n",
        "print(p.findall(\"I went to him at 11 A.M. on 4th July 1886\"))\n",
        "\n",
        "# \\d+ will match a group on [0-9], group of one or greater size\n",
        "p = re.compile('\\d+') #[0-9]+\n",
        "print(p.findall(\"I went to him at 11 A.M. on 4th July 1886\"))\n"
      ],
      "execution_count": null,
      "outputs": [
        {
          "output_type": "stream",
          "text": [
            "['1', '1', '4', '1', '8', '8', '6']\n",
            "['11', '4', '1886']\n"
          ],
          "name": "stdout"
        }
      ]
    },
    {
      "cell_type": "code",
      "metadata": {
        "id": "ynr92fh71UJT",
        "colab": {
          "base_uri": "https://localhost:8080/"
        },
        "outputId": "4701f199-0bf6-484f-9d4c-ad177862da54"
      },
      "source": [
        "import re\n",
        "\n",
        "# \\w is equivalent to [a-zA-Z0-9_].\n",
        "p = re.compile('\\w')\n",
        "print(p.findall(\"He said * in some_lang.\"))\n",
        "\n",
        "# \\w+ matches to group of alphanumeric character.\n",
        "p = re.compile('\\w+')\n",
        "print(p.findall(\"I went to him at 11 A.M., he said *** in some_language.\"))\n",
        "\n",
        "# \\W matches to non alphanumeric characters.\n",
        "p = re.compile('\\W')\n",
        "print(p.findall(\"he said *** in some_language @ $ % ^ &.\"))\n"
      ],
      "execution_count": null,
      "outputs": [
        {
          "output_type": "stream",
          "text": [
            "['H', 'e', 's', 'a', 'i', 'd', 'i', 'n', 's', 'o', 'm', 'e', '_', 'l', 'a', 'n', 'g']\n",
            "['I', 'went', 'to', 'him', 'at', '11', 'A', 'M', 'he', 'said', 'in', 'some_language']\n",
            "[' ', ' ', '*', '*', '*', ' ', ' ', ' ', '@', ' ', '$', ' ', '%', ' ', '^', ' ', '&', '.']\n"
          ],
          "name": "stdout"
        }
      ]
    },
    {
      "cell_type": "code",
      "metadata": {
        "id": "E83Mrxta1dej",
        "colab": {
          "base_uri": "https://localhost:8080/"
        },
        "outputId": "5a0c862a-3990-40f8-8af9-d08872957914"
      },
      "source": [
        "import re\n",
        "\n",
        "# '*' replaces the no. of occurrence of a character.\n",
        "p = re.compile('ab*') #abbbbbbbbb # abbbbbbt\n",
        "print(p.findall(\"ababbbbbt\"))\n"
      ],
      "execution_count": null,
      "outputs": [
        {
          "output_type": "stream",
          "text": [
            "['ab', 'abbbbb']\n"
          ],
          "name": "stdout"
        }
      ]
    },
    {
      "cell_type": "code",
      "metadata": {
        "id": "0Zz7xggT1u4N",
        "colab": {
          "base_uri": "https://localhost:8080/"
        },
        "outputId": "42f04d03-e096-4aee-bfc2-732fa9031d33"
      },
      "source": [
        "import re\n",
        "\n",
        "# '\\W+' denotes Non-Alphanumeric Characters or group of characters\n",
        "# Upon finding ',' or whitespace ' ', the split(), splits the string from that point\n",
        "print(re.split('\\W+', 'Words, words , Words'))\n",
        "print(re.split('\\W+', \"Word's words Words\"))\n",
        "\n",
        "# Here ':', ' ' ,',' are not AlphaNumeric thus, the point where splitting occurs\n",
        "print(re.split('\\W+', 'On 12th Jan 2016, at 11:02 AM'))\n",
        "\n",
        "# '\\d+' denotes Numeric Characters or group of characters\n",
        "# Splitting occurs at '12', '2016', '11', '02' only #[0-9]\n",
        "print(re.split('\\d+', 'On 12th Jan 2016, at 11:02 AM'))\n"
      ],
      "execution_count": null,
      "outputs": [
        {
          "output_type": "stream",
          "text": [
            "['Words', 'words', 'Words']\n",
            "['Word', 's', 'words', 'Words']\n",
            "['On', '12th', 'Jan', '2016', 'at', '11', '02', 'AM']\n",
            "['On ', 'th Jan ', ', at ', ':', ' AM']\n"
          ],
          "name": "stdout"
        }
      ]
    },
    {
      "cell_type": "code",
      "metadata": {
        "id": "AjiSdiI616s9",
        "colab": {
          "base_uri": "https://localhost:8080/"
        },
        "outputId": "acf50aa2-7723-4c75-8f26-3583e9b6d640"
      },
      "source": [
        "import re\n",
        "\n",
        "# Splitting will occurs only once, at '12', returned list will have length 2\n",
        "print(re.split('\\d+', 'On 12th Jan 2016, at 11:02 AM', 1))\n",
        "\n",
        "# 'Boy' and 'boy' will be treated same when flags = re.IGNORECASE\n",
        "print(re.split('[a-f]+', 'Aey, Boy oh boy, come here', flags = re.IGNORECASE))\n",
        "print(re.split('[a-f]+', 'Aey, Boy oh boy, come here'))\n"
      ],
      "execution_count": null,
      "outputs": [
        {
          "output_type": "stream",
          "text": [
            "['On ', 'th Jan 2016, at 11:02 AM']\n",
            "['', 'y, ', 'oy oh ', 'oy, ', 'om', ' h', 'r', '']\n",
            "['A', 'y, Boy oh ', 'oy, ', 'om', ' h', 'r', '']\n"
          ],
          "name": "stdout"
        }
      ]
    },
    {
      "cell_type": "code",
      "metadata": {
        "id": "i6mlrzYS2GoW",
        "colab": {
          "base_uri": "https://localhost:8080/"
        },
        "outputId": "faac53bd-c8f1-493e-c710-d607dd8bafdb"
      },
      "source": [
        "import re\n",
        "\n",
        "# Regular Expression pattern 'ub' matches the string at \"Subject\" and \"Uber\".\n",
        "# As the CASE has been ignored, using Flag, 'ub' should match twice with the string\n",
        "# Upon matching, 'ub' is replaced by '~*' in \"Subject\", and in \"Uber\", 'Ub' is replaced.\n",
        "print(re.sub('ub', '~*' , 'Subject has Uber booked already', flags = re.IGNORECASE))\n",
        "\n",
        "# Consider the Case Sensitivity, 'Ub' in \"Uber\", will not be reaplced.\n",
        "print(re.sub('ub', '~*' , 'Subject has Uber booked already'))\n",
        "\n",
        "# As count has been given value 1, the maximum times replacement occurs is 1\n",
        "print(re.sub('ub', '~*' , 'Subject has Uber booked already', count=1, flags = re.IGNORECASE))\n",
        "\n",
        "# 'r' before the patter denotes RE, \\s is for start and end of a String.\n",
        "print(re.sub(r'\\sAND\\s', ' & ', 'Baked Beans And Spam', flags=re.IGNORECASE))\n"
      ],
      "execution_count": null,
      "outputs": [
        {
          "output_type": "stream",
          "text": [
            "S~*ject has ~*er booked already\n",
            "S~*ject has Uber booked already\n",
            "S~*ject has Uber booked already\n",
            "Baked Beans & Spam\n"
          ],
          "name": "stdout"
        }
      ]
    },
    {
      "cell_type": "code",
      "metadata": {
        "id": "VJDj3bk32k1o",
        "colab": {
          "base_uri": "https://localhost:8080/"
        },
        "outputId": "9924b4c4-8fe7-4c9c-f719-f063fb04b549"
      },
      "source": [
        "import re\n",
        "print(re.subn('ub', '~*' , 'Subject has Uber booked already'))\n",
        "t = re.subn('ub', '~*' , 'Subject has Uber booked already', flags = re.IGNORECASE)\n",
        "print(t)\n",
        "print(len(t))\n",
        "\n",
        "# This will give same output as sub() would have\n",
        "print(t[0])\n"
      ],
      "execution_count": null,
      "outputs": [
        {
          "output_type": "stream",
          "text": [
            "('S~*ject has Uber booked already', 1)\n",
            "('S~*ject has ~*er booked already', 2)\n",
            "2\n",
            "S~*ject has ~*er booked already\n"
          ],
          "name": "stdout"
        }
      ]
    },
    {
      "cell_type": "code",
      "metadata": {
        "id": "v5tXLQAZ3AgS",
        "colab": {
          "base_uri": "https://localhost:8080/"
        },
        "outputId": "23867abe-245b-4521-f6e6-99bae45064af"
      },
      "source": [
        "import re\n",
        "\n",
        "# escape() returns a string with BackSlash '\\', before every Non-Alphanumeric Character\n",
        "# In 1st case only ' ', is not alphanumeric\n",
        "# In 2nd case, ' ', caret '^', '-', '[]', '\\' are not alphanumeric\n",
        "print(re.escape(\"This is Awseome even 1 AM\"))\n",
        "print(re.escape(\"I Asked what is this [a-9], he said \\t ^WoW\"))\n"
      ],
      "execution_count": null,
      "outputs": [
        {
          "output_type": "stream",
          "text": [
            "This\\ is\\ Awseome\\ even\\ 1\\ AM\n",
            "I\\ Asked\\ what\\ is\\ this\\ \\[a\\-9\\],\\ he\\ said\\ \\\t\\ \\^WoW\n"
          ],
          "name": "stdout"
        }
      ]
    },
    {
      "cell_type": "code",
      "metadata": {
        "id": "Or3HzIB9EU7A",
        "colab": {
          "base_uri": "https://localhost:8080/"
        },
        "outputId": "000b9020-9e0d-4db5-9318-216d1f098253"
      },
      "source": [
        "# A Python program to demonstrate working of re.match().\n",
        "import re\n",
        "\n",
        "# Lets use a regular expression to match a date string\n",
        "# in the form of Month name followed by day number\n",
        "regex = r\"([a-zA-Z]+) (\\d+)\"\n",
        "\n",
        "match = re.search(regex, \"I was born on June 24 and july 25\")\n",
        "\n",
        "if match != None:\n",
        "\n",
        "\t# We reach here when the expression \"([a-zA-Z]+) (\\d+)\"\n",
        "\t# matches the date string.\n",
        "\n",
        "\t# This will print [14, 21), since it matches at index 14\n",
        "\t# and ends at 21.\n",
        "\tprint (\"Match at index %s, %s\" % (match.start(), match.end()))\n",
        "\n",
        "\t# We us group() method to get all the matches and\n",
        "\t# captured groups. The groups contain the matched values.\n",
        "\t# In particular:\n",
        "\t# match.group(0) always returns the fully matched string\n",
        "\t# match.group(1) match.group(2), ... return the capture\n",
        "\t# groups in order from left to right in the input string\n",
        "\t# match.group() is equivalent to match.group(0)\n",
        "\n",
        "\t# So this will print \"June 24\"\n",
        "\tprint (\"Full match: %s\" % (match.group(0)))\n",
        "\n",
        "\t# So this will print \"June\"\n",
        "\tprint (\"Month: %s\" % (match.group(1)))\n",
        "\n",
        "\t# So this will print \"24\"\n",
        "\tprint (\"Day: %s\" % (match.group(2)))\n",
        "\n",
        "else:\n",
        "\tprint (\"The regex pattern does not match.\")\n"
      ],
      "execution_count": null,
      "outputs": [
        {
          "output_type": "stream",
          "text": [
            "Match at index 14, 21\n",
            "Full match: June 24\n",
            "Month: June\n",
            "Day: 24\n"
          ],
          "name": "stdout"
        }
      ]
    },
    {
      "cell_type": "code",
      "metadata": {
        "id": "-TVVB8sqEj0W",
        "colab": {
          "base_uri": "https://localhost:8080/"
        },
        "outputId": "6d39ff47-03c4-41a4-98d6-639741eb2561"
      },
      "source": [
        "# A Python program to demonstrate working\n",
        "# of re.match().\n",
        "import re\n",
        "\n",
        "# a sample function that uses regular expressions\n",
        "# to find month and day of a date.\n",
        "def findMonthAndDate(string):\n",
        "\t\n",
        "\tregex = r\"([a-zA-Z]+) (\\d+)\"\n",
        "\tmatch = re.match(regex, string)\n",
        "\t\n",
        "\tif match == None:\n",
        "\t\tprint (\"Not a valid date\")\n",
        "\t\treturn\n",
        "\n",
        "\tprint (\"Given Data: %s\" % (match.group()))\n",
        "\tprint (\"Month: %s\" % (match.group(1)))\n",
        "\tprint (\"Day: %s\" % (match.group(2)))\n",
        "\n",
        "\t\n",
        "# Driver Code\n",
        "findMonthAndDate(\"Jun 24 is bday \")\n",
        "print(\"\")\n",
        "findMonthAndDate(\"I was born on June 24 and july 25\")\n"
      ],
      "execution_count": null,
      "outputs": [
        {
          "output_type": "stream",
          "text": [
            "Given Data: Jun 24\n",
            "Month: Jun\n",
            "Day: 24\n",
            "\n",
            "Not a valid date\n"
          ],
          "name": "stdout"
        }
      ]
    },
    {
      "cell_type": "code",
      "metadata": {
        "id": "G1brBb-eE0Ko",
        "colab": {
          "base_uri": "https://localhost:8080/"
        },
        "outputId": "def7afd7-e859-4aa0-b230-da753b9b9f58"
      },
      "source": [
        "# A Python program to demonstrate working of\n",
        "# findall()\n",
        "import re\n",
        "\n",
        "# A sample text string where regular expression\n",
        "# is searched.\n",
        "string = \"\"\"Hello my Number is 123456789 and\n",
        "\t\t\tmy friend's number is 987654321 and 9993033\"\"\"\n",
        "\n",
        "# A sample regular expression to find digits.\n",
        "regex = '\\d+'\t\t\t\n",
        "\n",
        "match = re.findall(regex, string)\n",
        "print(match)\n",
        "\n",
        "\n"
      ],
      "execution_count": null,
      "outputs": [
        {
          "output_type": "stream",
          "text": [
            "['123456789', '987654321', '9993033']\n"
          ],
          "name": "stdout"
        }
      ]
    },
    {
      "cell_type": "code",
      "metadata": {
        "id": "41UyG9-pFqI8"
      },
      "source": [
        "# Without Using VERBOSE\n",
        "regex_email = re.compile(r'^([a-z0-9_\\.-]+)@([0-9a-z\\.-]+)\\.([a-z\\.]{2, 6})$',\n",
        "\t\t\tre.IGNORECASE)\n",
        "\n",
        "# Using VERBOSE\n",
        "regex_email = re.compile(r\"\"\"\n",
        "\t\t\t^([a-z0-9_\\.-]+)\t\t\t # local Part\n",
        "\t\t\t@\t\t\t\t\t\t\t # single @ sign\n",
        "\t\t\t([0-9a-z\\.-]+)\t\t\t # Domain name\n",
        "\t\t\t\\.\t\t\t\t\t\t # single Dot .\n",
        "\t\t\t([a-z]{2,6})$\t\t\t\t # Top level Domain\n",
        "\t\t\t\"\"\",re.VERBOSE | re.IGNORECASE)\n"
      ],
      "execution_count": null,
      "outputs": []
    },
    {
      "cell_type": "code",
      "metadata": {
        "id": "QrkSaaxb4ghw",
        "colab": {
          "base_uri": "https://localhost:8080/"
        },
        "outputId": "fc34f305-ee99-4d0f-f9d3-067093d504ce"
      },
      "source": [
        "# Python program to validate name using IGNORECASE in RegEx\n",
        "\n",
        "# Importing re package\n",
        "import re\n",
        "\n",
        "def validating_name(name):\n",
        "\n",
        "\t# RegexObject = re.compile( Regular expression, flag )\n",
        "\t# Compiles a regular expression pattern into a regular expression object\n",
        "\tregex_name = re.compile(r'^(Mr\\.|Mrs\\.|Ms\\.) ([a-z]+)( [a-z]+)*( [a-z]+)*$', # Mr. ram mohan rai venkat #pallaw kumar # Mr. mohan\n",
        "\t\t\tre.IGNORECASE)\n",
        "\n",
        "\t# RegexObject is matched with the desired\n",
        "\t# string using search function\n",
        "\t# In case a match is found, search() returns\n",
        "\t# MatchObject Instance\n",
        "\t# If match is not found, it return None\n",
        "\tres = regex_name.search(name)\n",
        "\n",
        "\t# If match is found, the string is valid\n",
        "\tif res: print(\"Valid\")\n",
        "\t\t\n",
        "\t# If match is not found, string is invalid\n",
        "\telse: print(\"Invalid\")\n",
        "\n",
        "# Driver Code\n",
        "validating_name('Mr. Albus Severus Potter')\n",
        "validating_name('Lily and Mr. Harry Potter')\n",
        "validating_name('Mr. Cedric')\n",
        "validating_name('Mr. sirius black')\n"
      ],
      "execution_count": null,
      "outputs": [
        {
          "output_type": "stream",
          "text": [
            "Valid\n",
            "Invalid\n",
            "Valid\n",
            "Valid\n"
          ],
          "name": "stdout"
        }
      ]
    },
    {
      "cell_type": "code",
      "metadata": {
        "id": "thT84elUGeqH",
        "colab": {
          "base_uri": "https://localhost:8080/"
        },
        "outputId": "6a834e23-f59d-482b-abeb-d9b0cb39d8b1"
      },
      "source": [
        "# Python3 program to show the Implementation of VERBOSE in RegEX\n",
        "import re\n",
        "\n",
        "def validate_email(email):\n",
        "\n",
        "\t# RegexObject = re.compile( Regular expression, flag )\n",
        "\t# Compiles a regular expression pattern into  #expectopatronum@gmail.com #avadakedavra@yahoo.com@ #Crucio@.com\n",
        "\t# a regular expression object\n",
        "\tregex_email=re.compile(r\"\"\"    \n",
        "\t\t\t\t\t\t^([a-z0-9_\\.-]+)\t\t\t\t # local Part #pkpallaw16@gmail.com\n",
        "\t\t\t\t\t\t@\t\t\t\t\t\t\t # single @ sign\n",
        "\t\t\t\t\t\t\t([0-9a-z\\.-]+)\t\t\t\t # Domain name\n",
        "\t\t\t\t\t\t\\.\t\t\t\t\t\t\t # single Dot .\n",
        "\t\t\t\t\t\t\t([a-z]{2,6})$\t\t\t\t # Top level Domain\t\n",
        "\t\t\t\t\t\t\"\"\",re.VERBOSE | re.IGNORECASE)\n",
        "\n",
        "\t# RegexObject is matched with the desired\n",
        "\t# string using fullmatch function\n",
        "\t# In case a match is found, search()\n",
        "\t# returns a MatchObject Instance\n",
        "\tres=regex_email.fullmatch(email)\n",
        "\n",
        "\t#If match is found, the string is valid\n",
        "\tif res:\n",
        "\t\tprint(\"{} is Valid. Details are as follow:\".format(email))\n",
        "\t\t\n",
        "\t\t#prints first part/personal detail of Email Id\n",
        "\t\tprint(\"Local:{}\".format(res.group(1)))\n",
        "\t\t\n",
        "\t\t#prints Domain Name of Email Id\n",
        "\t\tprint(\"Domain:{}\".format(res.group(2)))\n",
        "\t\t\n",
        "\t\t#prints Top Level Domain Name of Email Id\n",
        "\t\tprint(\"Top Level domain:{}\".format(res.group(3)))\n",
        "\t\tprint()\n",
        "\t\t\n",
        "\telse:\n",
        "\t\t#If match is not found,string is invalid\n",
        "\t\tprint(\"{} is Invalid\".format(email))\n",
        "\n",
        "# Driver Code\n",
        "validate_email(\"expectopatronum@gmail.com\")\n",
        "validate_email(\"avadakedavra@yahoo.com@\")\n",
        "validate_email(\"Crucio@a.com\")\n"
      ],
      "execution_count": null,
      "outputs": [
        {
          "output_type": "stream",
          "text": [
            "expectopatronum@gmail.com is Valid. Details are as follow:\n",
            "Local:expectopatronum\n",
            "Domain:gmail\n",
            "Top Level domain:com\n",
            "\n",
            "avadakedavra@yahoo.com@ is Invalid\n",
            "Crucio@a.com is Valid. Details are as follow:\n",
            "Local:Crucio\n",
            "Domain:a\n",
            "Top Level domain:com\n",
            "\n"
          ],
          "name": "stdout"
        }
      ]
    },
    {
      "cell_type": "code",
      "metadata": {
        "id": "oA5PyZCbGxCT"
      },
      "source": [
        "# Password validation in Python\n",
        "# using naive method\n",
        "\n",
        "# Function to validate the password\n",
        "def password_check(passwd):  #Geek12@\n",
        "\t\n",
        "\tSpecialSym =['$', '@', '#', '%']\n",
        "\tval = True\n",
        "\t\n",
        "\tif len(passwd) < 6:\n",
        "\t\tprint('length should be at least 6')\n",
        "\t\tval = False\n",
        "\t\t\n",
        "\tif len(passwd) > 20:\n",
        "\t\tprint('length should be not be greater than 8')\n",
        "\t\tval = False\n",
        "\t\t\n",
        "\tif not any(char.isdigit() for char in passwd):\n",
        "\t\tprint('Password should have at least one numeral')\n",
        "\t\tval = False\n",
        "\t\t\n",
        "\tif not any(char.isupper() for char in passwd):\n",
        "\t\tprint('Password should have at least one uppercase letter')\n",
        "\t\tval = False\n",
        "\t\t\n",
        "\tif not any(char.islower() for char in passwd):\n",
        "\t\tprint('Password should have at least one lowercase letter')\n",
        "\t\tval = False\n",
        "\t\t\n",
        "\tif not any(char in SpecialSym for char in passwd): #Geek12@\n",
        "\t\tprint('Password should have at least one of the symbols $@#')\n",
        "\t\tval = False\n",
        "\tif val:\n",
        "\t\treturn val\n",
        "\n",
        "# Main method\n",
        "def main():\n",
        "\tpasswd = 'Geek12@'\n",
        "\t\n",
        "\tif (password_check(passwd)):\n",
        "\t\tprint(\"Password is valid\")\n",
        "\telse:\n",
        "\t\tprint(\"Invalid Password !!\")\n",
        "\t\t\n",
        "# Driver Code\t\t\n",
        "if __name__ == '__main__':\n",
        "\tmain()\n"
      ],
      "execution_count": null,
      "outputs": []
    },
    {
      "cell_type": "code",
      "metadata": {
        "id": "tD3MlCGzG2qa",
        "colab": {
          "base_uri": "https://localhost:8080/"
        },
        "outputId": "75a34f9a-7769-4d94-a757-a62947dd30df"
      },
      "source": [
        "# importing re library\n",
        "import re\n",
        "\n",
        "def main():\n",
        "\tpasswd = 'Geek12@'\n",
        "\treg = \"^(?=.*[a-z])(?=.*[A-Z])(?=.*\\d)(?=.*[@$!%*#?&])[A-Za-z\\d@$!#%*?&]{6,20}$\"\n",
        "\t\n",
        "\t# compiling regex\n",
        "\tpat = re.compile(reg)\n",
        "\t\n",
        "\t# searching regex\t\t\t\t\n",
        "\tmat = re.search(pat, passwd)\n",
        "\t\n",
        "\t# validating conditions\n",
        "\tif mat:\n",
        "\t\tprint(\"Password is valid.\")\n",
        "\telse:\n",
        "\t\tprint(\"Password invalid !!\")\n",
        "\n",
        "# Driver Code\t\n",
        "if __name__ == '__main__':\n",
        "\tmain()\n"
      ],
      "execution_count": null,
      "outputs": [
        {
          "output_type": "stream",
          "text": [
            "Password is valid.\n"
          ],
          "name": "stdout"
        }
      ]
    },
    {
      "cell_type": "code",
      "metadata": {
        "id": "q9tIMHwmC8mU"
      },
      "source": [
        "import re\n",
        "\n",
        "string = '\\n and \\r are escape sequences.'\n",
        "\n",
        "result = re.findall(r'[\\n\\r]', string) \n",
        "print(result)\n",
        "\n",
        "# Output: ['\\n', '\\r']"
      ],
      "execution_count": null,
      "outputs": []
    },
    {
      "cell_type": "markdown",
      "metadata": {
        "id": "1yTIzkGT6RfL"
      },
      "source": [
        "backslashes are not handled in any special way in a string literal prefixed with 'r'. So r\"\\n\" is a two-character string containing '\\' and 'n', while \"\\n\" is a one-character string containing a newline. Usually patterns will be expressed in Python code using this raw string notation."
      ]
    }
  ]
}