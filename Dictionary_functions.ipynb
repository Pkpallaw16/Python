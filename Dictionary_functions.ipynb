{
  "nbformat": 4,
  "nbformat_minor": 0,
  "metadata": {
    "colab": {
      "name": "Dictionary_functions.ipynb",
      "provenance": [],
      "authorship_tag": "ABX9TyPMjomi+ljDeZAHGURxUuv/",
      "include_colab_link": true
    },
    "kernelspec": {
      "name": "python3",
      "display_name": "Python 3"
    }
  },
  "cells": [
    {
      "cell_type": "markdown",
      "metadata": {
        "id": "view-in-github",
        "colab_type": "text"
      },
      "source": [
        "<a href=\"https://colab.research.google.com/github/Pkpallaw16/Python/blob/main/Dictionary_functions.ipynb\" target=\"_parent\"><img src=\"https://colab.research.google.com/assets/colab-badge.svg\" alt=\"Open In Colab\"/></a>"
      ]
    },
    {
      "cell_type": "code",
      "metadata": {
        "id": "uNnnfP2M2kdK",
        "colab": {
          "base_uri": "https://localhost:8080/"
        },
        "outputId": "5191d1f7-e54c-4388-f93c-4d10282e6bb7"
      },
      "source": [
        "my_dictionary = {} #init empty dictionary\n",
        "\n",
        "#init dictionary with some key-value pair\n",
        "another = {\n",
        "            #key    : value,\n",
        "            'man'   : 'Bob',\n",
        "            'woman' : 'Alice',\n",
        "            'other' : 'Trudy'\n",
        "        }\n",
        "\n",
        "#print initial dictionaries\n",
        "print(my_dictionary)\n",
        "print(another)\n",
        "\n"
      ],
      "execution_count": null,
      "outputs": [
        {
          "output_type": "stream",
          "text": [
            "{}\n",
            "{'man': 'Bob', 'woman': 'Alice', 'other': 'Trudy'}\n"
          ],
          "name": "stdout"
        }
      ]
    },
    {
      "cell_type": "code",
      "metadata": {
        "colab": {
          "base_uri": "https://localhost:8080/"
        },
        "id": "aDvdjoe-4NXq",
        "outputId": "3db732cf-1cd6-4361-98e6-d37a80613d10"
      },
      "source": [
        "#update values\n",
        "another = {\n",
        "            #key    : value,\n",
        "            'man'   : 'Bob',\n",
        "            'woman' : 'Alice',\n",
        "            'other' : 'Trudy'\n",
        "        }\n",
        "another['day']='Thursday'\n",
        "another['color']='Blue'\n",
        "print(another)\n",
        "another['day']='sunday'\n",
        "print(another)"
      ],
      "execution_count": null,
      "outputs": [
        {
          "output_type": "stream",
          "text": [
            "{'man': 'Bob', 'woman': 'Alice', 'other': 'Trudy', 'day': 'Thursday', 'color': 'Blue'}\n",
            "{'man': 'Bob', 'woman': 'Alice', 'other': 'Trudy', 'day': 'sunday', 'color': 'Blue'}\n"
          ],
          "name": "stdout"
        }
      ]
    },
    {
      "cell_type": "code",
      "metadata": {
        "id": "NotYAQF23EHW",
        "colab": {
          "base_uri": "https://localhost:8080/"
        },
        "outputId": "6d1a7d3d-e6b3-41f1-ed7c-ae02c93fc764"
      },
      "source": [
        "dictionary = {\n",
        "    'name'  : 'Alex',\n",
        "    'age'   : 23,\n",
        "    'sex'   : 'male'\n",
        "    }\n",
        "\n",
        "#method1\n",
        "print('Method1')\n",
        "\n",
        "#fetch all the keys of that dictionary\n",
        "key_list = dictionary.keys() #store the key list in key_list\n",
        "\n",
        "#print to see the keys\n",
        "print('list of keys')\n",
        "print(key_list)\n",
        "\n",
        "#pick key from the key_list\n",
        "for key in key_list:\n",
        "    #print the specific value for the key\n",
        "    print('key = '+key+' value = '+str(dictionary[key]))\n",
        "\n",
        "#method2\n",
        "print('\\nMethod2')\n",
        "\n",
        "#pick key from directly from the dictionary\n",
        "for key in dictionary:\n",
        "    #print the specific value for the key\n",
        "    print('key = '+key+' value = '+str(dictionary[key]))"
      ],
      "execution_count": null,
      "outputs": [
        {
          "output_type": "stream",
          "text": [
            "Method1\n",
            "list of keys\n",
            "dict_keys(['name', 'age', 'sex'])\n",
            "key = name value = Alex\n",
            "key = age value = 23\n",
            "key = sex value = male\n",
            "\n",
            "Method2\n",
            "key = name value = Alex\n",
            "key = age value = 23\n",
            "key = sex value = male\n"
          ],
          "name": "stdout"
        }
      ]
    },
    {
      "cell_type": "code",
      "metadata": {
        "id": "YgNL4fSA7B-1"
      },
      "source": [
        "'''\n",
        " \n",
        "print(\"I am in Multiple line comment line 1\")\n",
        " \n",
        "print (\"I am in Multiple line comment line 2\")\n",
        " \n",
        "'''"
      ],
      "execution_count": null,
      "outputs": []
    },
    {
      "cell_type": "code",
      "metadata": {
        "colab": {
          "base_uri": "https://localhost:8080/",
          "height": 265
        },
        "id": "MMk3Xkh83Ujk",
        "outputId": "1295489e-55b8-43a3-fa7f-b7eddf340463"
      },
      "source": [
        "dictionary = {\n",
        "    'name'  : 'Alex',\n",
        "    'age'   : 23,\n",
        "    'sex'   : 'male'\n",
        "    }\n",
        "\n",
        "#print initial dictionary\n",
        "print(dictionary)\n",
        "\n",
        "#delete a single element\n",
        "del dictionary['name']\n",
        "print('After deleting name')\n",
        "print(dictionary)\n",
        "\n",
        "#delete all elements from the list\n",
        "dictionary.clear()\n",
        "print(dictionary) #this will show an empty dictionary\n",
        "\n",
        "#delete the entire variable\n",
        "del dictionary\n",
        "print(dictionary) #this will produce error"
      ],
      "execution_count": null,
      "outputs": [
        {
          "output_type": "stream",
          "text": [
            "{'name': 'Alex', 'age': 23, 'sex': 'male'}\n",
            "After deleting name\n",
            "{'age': 23, 'sex': 'male'}\n",
            "{}\n"
          ],
          "name": "stdout"
        },
        {
          "output_type": "error",
          "ename": "NameError",
          "evalue": "ignored",
          "traceback": [
            "\u001b[0;31m---------------------------------------------------------------------------\u001b[0m",
            "\u001b[0;31mNameError\u001b[0m                                 Traceback (most recent call last)",
            "\u001b[0;32m<ipython-input-8-42d37542dda8>\u001b[0m in \u001b[0;36m<module>\u001b[0;34m()\u001b[0m\n\u001b[1;32m     19\u001b[0m \u001b[0;31m#delete the entire variable\u001b[0m\u001b[0;34m\u001b[0m\u001b[0;34m\u001b[0m\u001b[0;34m\u001b[0m\u001b[0m\n\u001b[1;32m     20\u001b[0m \u001b[0;32mdel\u001b[0m \u001b[0mdictionary\u001b[0m\u001b[0;34m\u001b[0m\u001b[0;34m\u001b[0m\u001b[0m\n\u001b[0;32m---> 21\u001b[0;31m \u001b[0mprint\u001b[0m\u001b[0;34m(\u001b[0m\u001b[0mdictionary\u001b[0m\u001b[0;34m)\u001b[0m \u001b[0;31m#this will produce error\u001b[0m\u001b[0;34m\u001b[0m\u001b[0;34m\u001b[0m\u001b[0m\n\u001b[0m",
            "\u001b[0;31mNameError\u001b[0m: name 'dictionary' is not defined"
          ]
        }
      ]
    }
  ]
}