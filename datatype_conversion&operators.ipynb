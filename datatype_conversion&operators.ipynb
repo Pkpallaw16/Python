{
  "nbformat": 4,
  "nbformat_minor": 0,
  "metadata": {
    "colab": {
      "name": "datatype_conversion&operators.ipynb",
      "provenance": [],
      "authorship_tag": "ABX9TyM9opYKU+eedG6jtq9n+Xt2",
      "include_colab_link": true
    },
    "kernelspec": {
      "name": "python3",
      "display_name": "Python 3"
    }
  },
  "cells": [
    {
      "cell_type": "markdown",
      "metadata": {
        "id": "view-in-github",
        "colab_type": "text"
      },
      "source": [
        "<a href=\"https://colab.research.google.com/github/Pkpallaw16/Python/blob/main/datatype_conversion%26operators.ipynb\" target=\"_parent\"><img src=\"https://colab.research.google.com/assets/colab-badge.svg\" alt=\"Open In Colab\"/></a>"
      ]
    },
    {
      "cell_type": "code",
      "metadata": {
        "colab": {
          "base_uri": "https://localhost:8080/"
        },
        "id": "wLuYB8M2emof",
        "outputId": "539bfce5-54e5-4945-9df0-fd15731ccc3d"
      },
      "source": [
        "bin_a=bin(80)\n",
        "print(bin_a)\n",
        "print(type(bin_a))\n",
        "print(int(bin_a, 2))\n",
        "\n",
        "hex_a = hex(80)\n",
        "print(hex_a)\n",
        "print(int(hex_a, 16))\n",
        "\n",
        "a = 79\n",
        "\n",
        "# Base 8(octal)\n",
        "oct_a = oct(a)\n",
        "print(oct_a)\n",
        "print(int(oct_a, 8))"
      ],
      "execution_count": null,
      "outputs": [
        {
          "output_type": "stream",
          "text": [
            "0b1010000\n",
            "<class 'str'>\n",
            "80\n",
            "0x50\n",
            "80\n",
            "0o117\n",
            "79\n"
          ],
          "name": "stdout"
        }
      ]
    },
    {
      "cell_type": "code",
      "metadata": {
        "colab": {
          "base_uri": "https://localhost:8080/"
        },
        "id": "hVWuIcC0bxVu",
        "outputId": "122e2455-6c89-4841-a4f9-b95cbe4ec6ea"
      },
      "source": [
        "\n",
        "\n",
        "num_int = 123\n",
        "num_flo = 1.23\n",
        "\n",
        "num_new = num_int + num_flo\n",
        "\n",
        "print(\"datatype of num_int:\",type(num_int))\n",
        "print(\"datatype of num_flo:\",type(num_flo))\n",
        "\n",
        "print(\"Value of num_new:\",num_new)\n",
        "print(\"datatype of num_new:\",type(num_new))"
      ],
      "execution_count": null,
      "outputs": [
        {
          "output_type": "stream",
          "text": [
            "0b1010000\n",
            "<class 'str'>\n",
            "80\n",
            "0x50\n",
            "80\n",
            "0o117\n",
            "79\n",
            "datatype of num_int: <class 'int'>\n",
            "datatype of num_flo: <class 'float'>\n",
            "Value of num_new: 124.23\n",
            "datatype of num_new: <class 'float'>\n"
          ],
          "name": "stdout"
        }
      ]
    },
    {
      "cell_type": "code",
      "metadata": {
        "colab": {
          "base_uri": "https://localhost:8080/"
        },
        "id": "7vZy8A1PIfYq",
        "outputId": "03fb31c2-59d3-41af-b291-3d38b324df39"
      },
      "source": [
        "a=12\n",
        "b=23.45\n",
        "print(float(a)+b)"
      ],
      "execution_count": null,
      "outputs": [
        {
          "output_type": "stream",
          "text": [
            "35.45\n"
          ],
          "name": "stdout"
        }
      ]
    },
    {
      "cell_type": "code",
      "metadata": {
        "id": "vujIdd_UdJED",
        "colab": {
          "base_uri": "https://localhost:8080/"
        },
        "outputId": "98c034df-0938-4e87-dc34-644277960093"
      },
      "source": [
        "num_int = 123\n",
        "num_str = \"456.78\"\n",
        "\n",
        "print(\"Data type of num_int:\",type(num_int))\n",
        "print(\"Data type of num_str:\",type(num_str))\n",
        "\n",
        "\n",
        "print(num_int+float(num_str))"
      ],
      "execution_count": null,
      "outputs": [
        {
          "output_type": "stream",
          "text": [
            "Data type of num_int: <class 'int'>\n",
            "Data type of num_str: <class 'str'>\n",
            "579.78\n"
          ],
          "name": "stdout"
        }
      ]
    },
    {
      "cell_type": "code",
      "metadata": {
        "id": "l3Ai_n6BdwqK",
        "colab": {
          "base_uri": "https://localhost:8080/"
        },
        "outputId": "91c8259f-1afa-45fd-cc90-d63aebbbd598"
      },
      "source": [
        "#create two variables\n",
        "a=10\n",
        "b=20\n",
        " \n",
        "# addition (+) operator\n",
        "print(a+b) \n",
        " \n",
        "# subtraction (-) operator\n",
        "print(a-b) \n",
        " \n",
        "# multiplication (*) operator\n",
        "print(a*b)\n",
        " \n",
        "# division (/) operator\n",
        "print(b/a)\n",
        " \n",
        "# modulus (%) operator\n",
        "print(a%b) # prints the remainder of a/b\n",
        " \n",
        "# exponent (**) operator\n",
        "print(a**b) #prints a^b"
      ],
      "execution_count": null,
      "outputs": [
        {
          "output_type": "stream",
          "text": [
            "30\n",
            "-10\n",
            "200\n",
            "2.0\n",
            "10\n",
            "100000000000000000000\n"
          ],
          "name": "stdout"
        }
      ]
    },
    {
      "cell_type": "code",
      "metadata": {
        "colab": {
          "base_uri": "https://localhost:8080/"
        },
        "id": "QbaAEz0EXTSZ",
        "outputId": "5a4f38a1-6f53-4e78-94ee-bf1c4350b90d"
      },
      "source": [
        "# create two variables\n",
        "a=100\n",
        "b=100\n",
        " \n",
        "# (==) operator, checks if two operands are equal or not\n",
        "d=a==b\n",
        "print(d)\n",
        " \n",
        "# (!=) operator, checks if two operands are not equal\n",
        "print(a!=b)\n",
        " \n",
        "# (>) operator, checks left operand is greater than right operand or not\n",
        "print(a>b)\n",
        " \n",
        "# (<) operator, checks left operand is less than right operand or not\n",
        "print(a<b)\n",
        "#(>=) operator, checks left operand is greater than or equal to right operand or not\n",
        "print(a>=b)\n",
        " \n",
        "# (<=) operator, checks left operand is less than or equal to right operand or not\n",
        "print(a<=b)"
      ],
      "execution_count": null,
      "outputs": [
        {
          "output_type": "stream",
          "text": [
            "True\n",
            "False\n",
            "False\n",
            "False\n",
            "True\n",
            "True\n"
          ],
          "name": "stdout"
        }
      ]
    },
    {
      "cell_type": "code",
      "metadata": {
        "colab": {
          "base_uri": "https://localhost:8080/"
        },
        "id": "UYcEG54hUl29",
        "outputId": "aa0c47c6-40d1-425d-8122-eb10102ac73e"
      },
      "source": [
        "a=100\n",
        "b=20\n",
        "a+=b\n",
        "a=a+b\n",
        "a-=b\n",
        "a*=2\n",
        "\n",
        "print(a)"
      ],
      "execution_count": null,
      "outputs": [
        {
          "output_type": "stream",
          "text": [
            "240\n"
          ],
          "name": "stdout"
        }
      ]
    },
    {
      "cell_type": "code",
      "metadata": {
        "colab": {
          "base_uri": "https://localhost:8080/"
        },
        "id": "qDh1AtsxAvIs",
        "outputId": "37ca149f-792b-4256-bc06-4e82655e4fe9"
      },
      "source": [
        "a = 60            # 60 = 0011 1100 \n",
        "b = 13            # 13 = 0000 1101 \n",
        "c = 0\n",
        "\n",
        "c = a & b;        # 12 = 0000 1100\n",
        "print(\"Line 1 - Value of c is \", c)\n",
        "\n",
        "c = a | b;        # 61 = 0011 1101 \n",
        "print (\"Line 2 - Value of c is \", c)\n",
        "\n",
        "c = a ^ b;        # 49 = 0011 0001\n",
        "print(\"Line 3 - Value of c is \", c)\n",
        "\n",
        "c = ~a;           # -61 = 1100 0011\n",
        "print(\"Line 4 - Value of c is \", c)\n",
        "\n",
        "c = a << 2;       # 240 = 1111 0000\n",
        "print(\"Line 5 - Value of c is \", c)\n",
        "\n",
        "c = a >> 2;       # 15 = 0000 1111\n",
        "print(\"Line 6 - Value of c is \", c)"
      ],
      "execution_count": null,
      "outputs": [
        {
          "output_type": "stream",
          "text": [
            "Line 1 - Value of c is  12\n",
            "Line 2 - Value of c is  61\n",
            "Line 3 - Value of c is  49\n",
            "Line 4 - Value of c is  -61\n",
            "Line 5 - Value of c is  240\n",
            "Line 6 - Value of c is  15\n"
          ],
          "name": "stdout"
        }
      ]
    },
    {
      "cell_type": "code",
      "metadata": {
        "colab": {
          "base_uri": "https://localhost:8080/"
        },
        "id": "iw3BNXdDXeMm",
        "outputId": "004a12af-260f-48d9-b497-c3db7d0c642f"
      },
      "source": [
        "#create two variables\n",
        "a=10 # binary 1010\n",
        "b=7  # binary 0111\n",
        " \n",
        "# Binary AND (&) operator, done binary AND operation\n",
        "print(a&b)\n",
        " \n",
        "# Binary OR (|) operator, done binary OR operation\n",
        "print(a|b)\n",
        " \n",
        "# Binary XOR (^) operator, done binary XOR operation\n",
        "print(a^b)\n",
        " \n",
        "# Binary ONEs Compliment (~) operator, done binary One's Compliment operation\n",
        "print(~a)\n",
        " \n",
        "# Binary Left Shift (<<) operator, done binary Left Shift operation\n",
        "print(a<<1) \n",
        "# Binary Right Shift (>>) operator, done binary Right Shift operation\n",
        "print(a>>1)"
      ],
      "execution_count": null,
      "outputs": [
        {
          "output_type": "stream",
          "text": [
            "2\n",
            "15\n",
            "13\n",
            "-11\n",
            "20\n",
            "5\n"
          ],
          "name": "stdout"
        }
      ]
    },
    {
      "cell_type": "code",
      "metadata": {
        "colab": {
          "base_uri": "https://localhost:8080/"
        },
        "id": "fUlUd9LuXxAh",
        "outputId": "9dd8a9c6-e71c-4042-fd75-21ebcf4b6f64"
      },
      "source": [
        "#take user input as int\n",
        "a=int(input())\n",
        " \n",
        "# logical AND operation\n",
        " \n",
        "if a%4==0 and a%3==0:\n",
        "    print(\"divided by both 4 and 3\")\n",
        "\n",
        "# logical OR operation\n",
        "if a%4==0 or a%3==0:\n",
        "    print(\"either divided by 4 or 3\")\n",
        "\n",
        "# logical NOT operation\n",
        "if not(a%4==0 or a%3==0):\n",
        "  \n",
        "    print(\"neither divided by 4 nor 3\")"
      ],
      "execution_count": null,
      "outputs": [
        {
          "output_type": "stream",
          "text": [
            "8\n",
            "either divided by 4 or 3\n"
          ],
          "name": "stdout"
        }
      ]
    },
    {
      "cell_type": "markdown",
      "metadata": {
        "id": "yZVFRHX1TNqi"
      },
      "source": [
        ""
      ]
    },
    {
      "cell_type": "code",
      "metadata": {
        "id": "RYDykFpHaW7P",
        "colab": {
          "base_uri": "https://localhost:8080/"
        },
        "outputId": "cae1c180-a1f7-4c93-ff9e-5a3e1593fc41"
      },
      "source": [
        "#We can test if a substring exists within a string or not, using the keyword in.\n",
        "#membership operator\n",
        "print('a' in 'program')\n",
        "print( 'at' not in 'battle')\n",
        "\n",
        "\n",
        "# Python program to illustrate \n",
        "# Finding common member in list  \n",
        "# using 'in' operator \n",
        "list1=[1,2,3,4,5] \n",
        "list2=[6,7,8,9] \n",
        "for item in list1: \n",
        "    if item in list2: \n",
        "        print(\"overlapping\")       \n",
        "else: \n",
        "    print(\"not overlapping\") "
      ],
      "execution_count": null,
      "outputs": [
        {
          "output_type": "stream",
          "text": [
            "True\n",
            "False\n",
            "not overlapping\n"
          ],
          "name": "stdout"
        }
      ]
    },
    {
      "cell_type": "code",
      "metadata": {
        "colab": {
          "base_uri": "https://localhost:8080/"
        },
        "id": "5N1DkLYIiWLh",
        "outputId": "307e23e2-c8cb-41d5-c878-cde341523cf9"
      },
      "source": [
        "str=\"pallaw\"\n",
        "if 'e' not in str:\n",
        "  print(\"yes\")"
      ],
      "execution_count": null,
      "outputs": [
        {
          "output_type": "stream",
          "text": [
            "yes\n"
          ],
          "name": "stdout"
        }
      ]
    },
    {
      "cell_type": "code",
      "metadata": {
        "id": "ohnR3v7OBQjm",
        "colab": {
          "base_uri": "https://localhost:8080/"
        },
        "outputId": "c337e11b-b096-4ffd-dc7f-ccf8519042bd"
      },
      "source": [
        "#Identity operator\n",
        "a = 20\n",
        "b = 20\n",
        "print(id(a))\n",
        "print(id(b))\n",
        "\n",
        "if ( a is b ):\n",
        "   print(\"Line 1 - a and b have same identity\")\n",
        "else:\n",
        "   print(\"Line 1 - a and b do not have same identity\")\n",
        "\n",
        "if ( id(a) == id(b) ):\n",
        "   print(\"Line 2 - a and b have same identity\")\n",
        "else:\n",
        "   print(\"Line 2 - a and b do not have same identity\")\n"
      ],
      "execution_count": null,
      "outputs": [
        {
          "output_type": "stream",
          "text": [
            "10915104\n",
            "10915104\n",
            "Line 1 - a and b have same identity\n",
            "Line 2 - a and b have same identity\n"
          ],
          "name": "stdout"
        }
      ]
    }
  ]
}