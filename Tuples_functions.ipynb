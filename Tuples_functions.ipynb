{
  "nbformat": 4,
  "nbformat_minor": 0,
  "metadata": {
    "colab": {
      "name": "Tuples_functions.ipynb",
      "provenance": [],
      "authorship_tag": "ABX9TyMj7MRIjGzGz4oIIHo/abrp",
      "include_colab_link": true
    },
    "kernelspec": {
      "name": "python3",
      "display_name": "Python 3"
    }
  },
  "cells": [
    {
      "cell_type": "markdown",
      "metadata": {
        "id": "view-in-github",
        "colab_type": "text"
      },
      "source": [
        "<a href=\"https://colab.research.google.com/github/Pkpallaw16/Python/blob/main/Tuples_functions.ipynb\" target=\"_parent\"><img src=\"https://colab.research.google.com/assets/colab-badge.svg\" alt=\"Open In Colab\"/></a>"
      ]
    },
    {
      "cell_type": "code",
      "metadata": {
        "colab": {
          "base_uri": "https://localhost:8080/"
        },
        "id": "nYEPs2yBrJMN",
        "outputId": "4c7d2b84-e2d0-414f-e3e5-7a50b0737168"
      },
      "source": [
        "\n",
        "\n",
        "SampleTuple = (\"Element1\", \"Element2\", \"Element3\")\n",
        "#Here are some more examples of tuple definitions:\n",
        "\n",
        "#an empty tuple\n",
        "emptyTup=()\n",
        " \n",
        "#tuple of integers\n",
        "intTup=(1,2,3,4,5)\n",
        "#Tuples with multiple datatypes\n",
        "multiTuple = (\"This is a string\", 1, True)\n",
        "print(multiTuple)\n",
        "print(intTup)"
      ],
      "execution_count": null,
      "outputs": [
        {
          "output_type": "stream",
          "text": [
            "('This is a string', 1, True)\n",
            "(1, 2, 3, 4, 5)\n"
          ],
          "name": "stdout"
        }
      ]
    },
    {
      "cell_type": "code",
      "metadata": {
        "colab": {
          "base_uri": "https://localhost:8080/"
        },
        "id": "2SomPMoMsFaQ",
        "outputId": "6d2fd015-8ac2-46ab-a284-a8a11e754645"
      },
      "source": [
        "#tuple of string\n",
        "strTup=('This','is','a','tuple')\n",
        "#strTup[1]='my'\n",
        "#accessing first element\n",
        "print(strTup[0])\n",
        " \n",
        "#accessing second element\n",
        "print(strTup[1])\n",
        " \n",
        "#accessing fourth element\n",
        "print(strTup[3])\n",
        "\n",
        "#tuple of string\n",
        "strTup=('This','is','a','tuple')\n",
        " \n",
        "#accessing first element from the right\n",
        "print(strTup[-1])\n",
        " \n",
        "#accessing second element from the right\n",
        "print(strTup[-2])\n",
        " \n",
        "#accessing second element from the right\n",
        "print(strTup[-4])"
      ],
      "execution_count": null,
      "outputs": [
        {
          "output_type": "stream",
          "text": [
            "This\n",
            "is\n",
            "tuple\n",
            "tuple\n",
            "a\n",
            "This\n"
          ],
          "name": "stdout"
        }
      ]
    },
    {
      "cell_type": "code",
      "metadata": {
        "colab": {
          "base_uri": "https://localhost:8080/",
          "height": 214
        },
        "id": "a274Irx0sytr",
        "outputId": "8655e432-6238-4904-ea89-4677dc687e29"
      },
      "source": [
        "#tuple 1\n",
        "tup1=(1,2,3)\n",
        " \n",
        "#tuple 2\n",
        "tup2=(4,5)\n",
        " \n",
        "#tuple 3\n",
        "tup3=tup1+tup2\n",
        " \n",
        "print(tup3)\n",
        " \n",
        "#to delete tuple 1\n",
        "del tup1\n",
        "#this will show a traceback as tup1 is deleted. So it is not defined now\n",
        "print(tup1)"
      ],
      "execution_count": null,
      "outputs": [
        {
          "output_type": "stream",
          "text": [
            "(1, 2, 3, 4, 5)\n"
          ],
          "name": "stdout"
        },
        {
          "output_type": "error",
          "ename": "NameError",
          "evalue": "ignored",
          "traceback": [
            "\u001b[0;31m---------------------------------------------------------------------------\u001b[0m",
            "\u001b[0;31mNameError\u001b[0m                                 Traceback (most recent call last)",
            "\u001b[0;32m<ipython-input-9-c541715aa5a4>\u001b[0m in \u001b[0;36m<module>\u001b[0;34m()\u001b[0m\n\u001b[1;32m     13\u001b[0m \u001b[0;32mdel\u001b[0m \u001b[0mtup1\u001b[0m\u001b[0;34m\u001b[0m\u001b[0;34m\u001b[0m\u001b[0m\n\u001b[1;32m     14\u001b[0m \u001b[0;31m#this will show a traceback as tup1 is deleted. So it is not defined now\u001b[0m\u001b[0;34m\u001b[0m\u001b[0;34m\u001b[0m\u001b[0;34m\u001b[0m\u001b[0m\n\u001b[0;32m---> 15\u001b[0;31m \u001b[0mprint\u001b[0m\u001b[0;34m(\u001b[0m\u001b[0mtup1\u001b[0m\u001b[0;34m)\u001b[0m\u001b[0;34m\u001b[0m\u001b[0;34m\u001b[0m\u001b[0m\n\u001b[0m",
            "\u001b[0;31mNameError\u001b[0m: name 'tup1' is not defined"
          ]
        }
      ]
    },
    {
      "cell_type": "code",
      "metadata": {
        "colab": {
          "base_uri": "https://localhost:8080/"
        },
        "id": "R_-ECyEptHAO",
        "outputId": "96ee39f9-d35b-403a-9550-78b65e6a84fd"
      },
      "source": [
        "#a string tuple\n",
        "tup=('this','is','a','tuple')\n",
        " \n",
        "#len(tuple) gives total length of a tuple\n",
        "print(len(tup))\n",
        " \n",
        "#max(tuple) gives maximum element of a tuple\n",
        "print(max(tup))\n",
        " \n",
        "#min(tuple) gives minimum element of a tuple\n",
        "print(min(tup))\n",
        " \n",
        "#count(x) gives number of occurances of x in the tuple\n",
        "print(tup.count('is'))\n",
        " \n",
        "#index(x) gives index of first occurances of x in the tuple\n",
        "print(tup.index('a'))"
      ],
      "execution_count": null,
      "outputs": [
        {
          "output_type": "stream",
          "text": [
            "4\n",
            "tuple\n",
            "a\n",
            "1\n",
            "2\n"
          ],
          "name": "stdout"
        }
      ]
    }
  ]
}