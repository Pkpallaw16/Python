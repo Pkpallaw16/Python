{
  "nbformat": 4,
  "nbformat_minor": 0,
  "metadata": {
    "colab": {
      "name": "List_functions.ipynb",
      "provenance": [],
      "authorship_tag": "ABX9TyPldmUUlI4aqxoaWB1pTV8Q",
      "include_colab_link": true
    },
    "kernelspec": {
      "name": "python3",
      "display_name": "Python 3"
    }
  },
  "cells": [
    {
      "cell_type": "markdown",
      "metadata": {
        "id": "view-in-github",
        "colab_type": "text"
      },
      "source": [
        "<a href=\"https://colab.research.google.com/github/Pkpallaw16/Python/blob/main/List_functions.ipynb\" target=\"_parent\"><img src=\"https://colab.research.google.com/assets/colab-badge.svg\" alt=\"Open In Colab\"/></a>"
      ]
    },
    {
      "cell_type": "code",
      "metadata": {
        "colab": {
          "base_uri": "https://localhost:8080/"
        },
        "id": "LqkJCd_3odkj",
        "outputId": "01859792-67df-4d17-bca4-5ec1357169f6"
      },
      "source": [
        "#an empty list\n",
        "empty_list=[]\n",
        "\n",
        "#a list of strings\n",
        "str_list=['this', 'is', 'a', 'list']\n",
        "\n",
        "# a list of integers\n",
        "int_list=[1,2,3,4,5]\n",
        "\n",
        "#a list of mixed type of items\n",
        "mixed_list=['this', 1, 'is', 2, 'a', 3, 'mixed',4, 'list',5]\n",
        "\n",
        "# to print the lists\n",
        "print(empty_list)\n",
        "print(str_list)\n",
        "print(int_list)\n",
        "print(mixed_list)"
      ],
      "execution_count": null,
      "outputs": [
        {
          "output_type": "stream",
          "text": [
            "[]\n",
            "['this', 'is', 'a', 'list']\n",
            "[1, 2, 3, 4, 5]\n",
            "['this', 1, 'is', 2, 'a', 3, 'mixed', 4, 'list', 5]\n"
          ],
          "name": "stdout"
        }
      ]
    },
    {
      "cell_type": "code",
      "metadata": {
        "colab": {
          "base_uri": "https://localhost:8080/"
        },
        "id": "1SUtYMe7on85",
        "outputId": "a5a2a2fd-3fba-4757-cc00-f0d3c3b5a9e5"
      },
      "source": [
        "#a list of strings\n",
        "str_list=['this', 'is', 'a', 'list']\n",
        "\n",
        "#to access first item\n",
        "print(str_list[0])\n",
        "#to access second item\n",
        "print(str_list[1])\n",
        "#to access 4th element\n",
        "print(str_list[3])"
      ],
      "execution_count": null,
      "outputs": [
        {
          "output_type": "stream",
          "text": [
            "this\n",
            "is\n",
            "list\n"
          ],
          "name": "stdout"
        }
      ]
    },
    {
      "cell_type": "code",
      "metadata": {
        "id": "I2jbDTjBo02D",
        "colab": {
          "base_uri": "https://localhost:8080/"
        },
        "outputId": "31aa37af-cd38-4d2e-e4c5-104ad092999d"
      },
      "source": [
        "#a list of strings\n",
        "str_list=['this', 'is', 'a', 'list']\n",
        "\n",
        "print(\"before updating the list: \")\n",
        "print(str_list)\n",
        "str_list[3]='updated list'\n",
        "print(\"after updating the list: \")\n",
        "print(str_list)\n"
      ],
      "execution_count": null,
      "outputs": [
        {
          "output_type": "stream",
          "text": [
            "before updating the list: \n",
            "['this', 'is', 'a', 'list']\n",
            "after updating the list: \n",
            "['this', 'is', 'a', 'updated list']\n"
          ],
          "name": "stdout"
        }
      ]
    },
    {
      "cell_type": "code",
      "metadata": {
        "colab": {
          "base_uri": "https://localhost:8080/"
        },
        "id": "qw5uBQAMo23P",
        "outputId": "62bb371e-cb48-4623-e099-d9d834cc72c5"
      },
      "source": [
        "#Deleting an item in a list\n",
        "#To delete an item in a list, there are several methods. Look at the following example to explore it further.\n",
        "\n",
        "#a list of strings\n",
        "str_list=['this', 'is', 'a', 'list']\n",
        "\n",
        "#to remove a specific element, like 'is'\n",
        "str_list.remove('is')\n",
        "print(str_list)\n",
        "\n",
        "#to remove an item of a specific index like 2\n",
        "del str_list[2]\n",
        "print(str_list)\n",
        "\n",
        "#there are yet another way to remove an item of a specific index\n",
        "str_list.pop(0)\n",
        "print(str_list)"
      ],
      "execution_count": null,
      "outputs": [
        {
          "output_type": "stream",
          "text": [
            "['this', 'a', 'list']\n",
            "['this', 'a']\n",
            "['a']\n"
          ],
          "name": "stdout"
        }
      ]
    },
    {
      "cell_type": "code",
      "metadata": {
        "colab": {
          "base_uri": "https://localhost:8080/"
        },
        "id": "PkQyAkcrpjdg",
        "outputId": "e3023403-c3d7-416d-c8f1-b0e3c6644a19"
      },
      "source": [
        "list=[]\n",
        "list.append(1)\n",
        "list.append(\"abhishek\")\n",
        "print(list)\n",
        "\n",
        "\n",
        "#a list of strings\n",
        "str_list=['this', 'is', 'a', 'list']\n",
        "\n",
        "# add an element to the end of the list\n",
        "str_list.append('appended')\n",
        "print(str_list)\n",
        "\n",
        "#insert an item at the defined index\n",
        "str_list[3]=\"updated\"\n",
        "print(str_list)\n",
        "str_list.insert(3,'inserted')\n",
        "print(str_list)\n",
        "\n",
        "#to get the index of the first matched item\n",
        "print(str_list.index('inserted'))\n",
        "\n",
        "#to count number of a specific element in a list\n",
        "print(str_list.count('is'))\n",
        "\n",
        "#to reverse the order of a list\n",
        "str_list.reverse()\n",
        "print(str_list)\n",
        "list_num=[4,5,1,90,67,45,37]\n",
        "#to sort the list in ascending order\n",
        "str_list.sort()\n",
        "list_num.sort()\n",
        "print(list_num)\n",
        "print(str_list)"
      ],
      "execution_count": null,
      "outputs": [
        {
          "output_type": "stream",
          "text": [
            "[1, 'abhishek']\n",
            "['this', 'is', 'a', 'list', 'appended']\n",
            "['this', 'is', 'a', 'updated', 'appended']\n",
            "['this', 'is', 'a', 'inserted', 'updated', 'appended']\n",
            "3\n",
            "1\n",
            "['appended', 'updated', 'inserted', 'a', 'is', 'this']\n",
            "[1, 4, 5, 37, 45, 67, 90]\n",
            "['a', 'appended', 'inserted', 'is', 'this', 'updated']\n"
          ],
          "name": "stdout"
        }
      ]
    },
    {
      "cell_type": "code",
      "metadata": {
        "id": "U3CjDQkrqoDC"
      },
      "source": [
        ""
      ],
      "execution_count": null,
      "outputs": []
    }
  ]
}