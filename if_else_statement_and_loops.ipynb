{
  "nbformat": 4,
  "nbformat_minor": 0,
  "metadata": {
    "colab": {
      "name": "if-else_statement_and loops.ipynb",
      "provenance": [],
      "collapsed_sections": [],
      "authorship_tag": "ABX9TyPKZMx5hJXKr9F/wfMOkmb/",
      "include_colab_link": true
    },
    "kernelspec": {
      "name": "python3",
      "display_name": "Python 3"
    }
  },
  "cells": [
    {
      "cell_type": "markdown",
      "metadata": {
        "id": "view-in-github",
        "colab_type": "text"
      },
      "source": [
        "<a href=\"https://colab.research.google.com/github/Pkpallaw16/Python/blob/main/if_else_statement_and_loops.ipynb\" target=\"_parent\"><img src=\"https://colab.research.google.com/assets/colab-badge.svg\" alt=\"Open In Colab\"/></a>"
      ]
    },
    {
      "cell_type": "code",
      "metadata": {
        "id": "2LMf-k2_J9wO",
        "colab": {
          "base_uri": "https://localhost:8080/"
        },
        "outputId": "955e76ed-4dd1-4b7a-be42-dff541a87e94"
      },
      "source": [
        "# If the number is positive, we print an appropriate message\n",
        "\n",
        "num = -3\n",
        "if num > 0:\n",
        "    print(num, \"is a positive number.\")\n",
        "print(\"This is always printed.\")\n",
        "\n",
        "num = -1\n",
        "if num > 0:\n",
        "    print(num, \"is a positive number.\")\n",
        "print(\"This is also always printed.\")"
      ],
      "execution_count": null,
      "outputs": [
        {
          "output_type": "stream",
          "text": [
            "This is always printed.\n",
            "This is also always printed.\n"
          ],
          "name": "stdout"
        }
      ]
    },
    {
      "cell_type": "code",
      "metadata": {
        "id": "Z8SoK4QvLnN8",
        "colab": {
          "base_uri": "https://localhost:8080/"
        },
        "outputId": "21516522-5f6b-4525-a272-d60911f6411b"
      },
      "source": [
        "num = 3\n",
        "\n",
        "# Try these two variations as well. \n",
        "# num = -5\n",
        "# num = 0\n",
        "\n",
        "if num >= 0:\n",
        "    print(\"Positive or Zero\")\n",
        "else:\n",
        "    print(\"Negative number\")\n",
        "c=10\n",
        "if c>12:\n",
        "  print(\"yes\")    "
      ],
      "execution_count": null,
      "outputs": [
        {
          "output_type": "stream",
          "text": [
            "Positive or Zero\n"
          ],
          "name": "stdout"
        }
      ]
    },
    {
      "cell_type": "code",
      "metadata": {
        "colab": {
          "base_uri": "https://localhost:8080/"
        },
        "id": "uzHqBKJILom2",
        "outputId": "25149b86-4efe-479a-f5ad-b4e96e4a8e4d"
      },
      "source": [
        "num = -4\n",
        "\n",
        "# Try these two variations as well:\n",
        "# num = 0\n",
        "# num = -4.5\n",
        "\n",
        "if num > 0:\n",
        "    print(\"Positive number\")\n",
        "elif num == 0:\n",
        "    print(\"Zero\")\n",
        "else:\n",
        "    print(\"Negative number\")\n",
        "c=10\n",
        "if c<12:\n",
        "  print(\"yes\")     "
      ],
      "execution_count": null,
      "outputs": [
        {
          "output_type": "stream",
          "text": [
            "Negative number\n",
            "yes\n"
          ],
          "name": "stdout"
        }
      ]
    },
    {
      "cell_type": "code",
      "metadata": {
        "colab": {
          "base_uri": "https://localhost:8080/"
        },
        "id": "_mQ7_dRdVi8A",
        "outputId": "1f8a2433-ab59-4c95-bc9d-20b4e948e362"
      },
      "source": [
        "print(range(10))\n",
        "\n",
        "print(list(range(10)))\n",
        "\n",
        "print(list(range(2, 8)))\n",
        "\n",
        "print(list(range(4, 20, 4)))\n",
        "#We've converted the range to a Python list, as range() returns a generator-like object that only prints the output on demand."
      ],
      "execution_count": null,
      "outputs": [
        {
          "output_type": "stream",
          "text": [
            "range(0, 10)\n",
            "[0, 1, 2, 3, 4, 5, 6, 7, 8, 9]\n",
            "[2, 3, 4, 5, 6, 7]\n",
            "[4, 8, 12, 16]\n"
          ],
          "name": "stdout"
        }
      ]
    },
    {
      "cell_type": "code",
      "metadata": {
        "id": "ExKtO98YTUgj",
        "colab": {
          "base_uri": "https://localhost:8080/"
        },
        "outputId": "4a41eccc-8440-4b72-edee-3490f268c06d"
      },
      "source": [
        "start = 2\n",
        "stop = -14\n",
        "step = -2\n",
        "\n",
        "print(list(range(start, stop, step)))\n",
        "\n",
        "# value constraint not met\n",
        "print(list(range(start, 14, step)))"
      ],
      "execution_count": null,
      "outputs": [
        {
          "output_type": "stream",
          "text": [
            "[2, 0, -2, -4, -6, -8, -10, -12]\n",
            "[]\n"
          ],
          "name": "stdout"
        }
      ]
    },
    {
      "cell_type": "code",
      "metadata": {
        "id": "sxl7d5Y1Yl7h",
        "colab": {
          "base_uri": "https://localhost:8080/"
        },
        "outputId": "dea5bf37-e86c-4ecc-b44c-c5acd4766ec1"
      },
      "source": [
        "#or loops iterates over a iterable object fruits which is a list. Lists, sets, dictionary \n",
        "#these are few iterable objects while an integer object is not an iterable object.\n",
        "words= [\"Apple\", \"Banana\", \"Car\", \"Dolphin\" ]\n",
        "for op in words:\n",
        "    print (op)\n",
        "\n",
        "#Iterating by index of sequences\n",
        "# Program to iterate through a list using indexing\n",
        "\n",
        "genre = ['pop', 'rock', 'jazz']\n",
        "\n",
        "# iterate over the list using index\n",
        "for i in range(len(genre)):# [0,1,2]\n",
        "\tprint(\"I like\", genre[i])    "
      ],
      "execution_count": null,
      "outputs": [
        {
          "output_type": "stream",
          "text": [
            "Apple\n",
            "Banana\n",
            "Car\n",
            "Dolphin\n"
          ],
          "name": "stdout"
        }
      ]
    },
    {
      "cell_type": "code",
      "metadata": {
        "id": "m668rl_RYaTf",
        "colab": {
          "base_uri": "https://localhost:8080/"
        },
        "outputId": "cd166920-7db3-4d28-c602-ea71c61d0a9d"
      },
      "source": [
        "word=\"python\"\n",
        "for letter in word:\n",
        "    print (letter)"
      ],
      "execution_count": null,
      "outputs": [
        {
          "output_type": "stream",
          "text": [
            "p\n",
            "y\n",
            "t\n",
            "h\n",
            "o\n",
            "n\n"
          ],
          "name": "stdout"
        }
      ]
    },
    {
      "cell_type": "code",
      "metadata": {
        "colab": {
          "base_uri": "https://localhost:8080/"
        },
        "id": "sENxHHVSvW09",
        "outputId": "b2a5b503-20d8-454a-e44b-0212b13bb2a7"
      },
      "source": [
        "# Iterating over a tuple (immutable)\n",
        "print(\"\\nTuple Iteration\")\n",
        "t = (\"geeks\", \"for\", \"geeks\")\n",
        "for i in t:\n",
        "    print(i)"
      ],
      "execution_count": null,
      "outputs": [
        {
          "output_type": "stream",
          "text": [
            "\n",
            "Tuple Iteration\n",
            "geeks\n",
            "for\n",
            "geeks\n"
          ],
          "name": "stdout"
        }
      ]
    },
    {
      "cell_type": "code",
      "metadata": {
        "colab": {
          "base_uri": "https://localhost:8080/"
        },
        "id": "iJzzBXCGvgjC",
        "outputId": "0e748454-bba0-43ea-a2e0-d2ca8f300a1d"
      },
      "source": [
        "print(\"\\nDictionary Iteration\")   \n",
        "d = dict() \n",
        "d['xyz'] = 123\n",
        "d['abc'] = 345\n",
        "for i in d :\n",
        "    print(\"{}  {}\".format(i, d[i]))"
      ],
      "execution_count": null,
      "outputs": [
        {
          "output_type": "stream",
          "text": [
            "\n",
            "Dictionary Iteration\n",
            "xyz  123\n",
            "abc  345\n"
          ],
          "name": "stdout"
        }
      ]
    },
    {
      "cell_type": "code",
      "metadata": {
        "colab": {
          "base_uri": "https://localhost:8080/"
        },
        "id": "Y4gc86nMZU4p",
        "outputId": "45f79948-1b77-494c-c4dc-e6957492619e"
      },
      "source": [
        "for x in range(3):\n",
        "    print(\"Printing:\", x)"
      ],
      "execution_count": null,
      "outputs": [
        {
          "output_type": "stream",
          "text": [
            "Printing: 0\n",
            "Printing: 1\n",
            "Printing: 2\n"
          ],
          "name": "stdout"
        }
      ]
    },
    {
      "cell_type": "code",
      "metadata": {
        "colab": {
          "base_uri": "https://localhost:8080/"
        },
        "id": "RrneUcW_ZntX",
        "outputId": "218e1b3d-b4d9-4aac-dc23-9daaa73d058a"
      },
      "source": [
        "for n in range(1, 10, 3):\n",
        "    print(\"Printing with step:\", n)"
      ],
      "execution_count": null,
      "outputs": [
        {
          "output_type": "stream",
          "text": [
            "Printing with step: 1\n",
            "Printing with step: 4\n",
            "Printing with step: 7\n"
          ],
          "name": "stdout"
        }
      ]
    },
    {
      "cell_type": "code",
      "metadata": {
        "colab": {
          "base_uri": "https://localhost:8080/"
        },
        "id": "ID-BZ2o8Wd8w",
        "outputId": "50afddb7-9bcd-4280-a180-b8988723f8f9"
      },
      "source": [
        "#Iterating by index of sequences\n",
        "# Program to iterate through a list using indexing\n",
        "\n",
        "genre = ['pop', 'rock', 'jazz']\n",
        "\n",
        "# iterate over the list using index\n",
        "for i in range(len(genre)):# [0,1,2]\n",
        "\tprint(\"I like\", genre[i])"
      ],
      "execution_count": null,
      "outputs": [
        {
          "output_type": "stream",
          "text": [
            "I like pop\n",
            "I like rock\n",
            "I like jazz\n"
          ],
          "name": "stdout"
        }
      ]
    },
    {
      "cell_type": "code",
      "metadata": {
        "colab": {
          "base_uri": "https://localhost:8080/"
        },
        "id": "lRrHg-gfa8oW",
        "outputId": "62c93681-fc04-48a2-9b17-cc3aaa95b417"
      },
      "source": [
        "nums = [1, 2, 3, 4, 5, 6]\n",
        " \n",
        "n = 2\n",
        " \n",
        "found = False\n",
        "for num in nums:\n",
        "    if n == num:\n",
        "        found = True\n",
        "        break\n",
        " \n",
        "print(f'List contains {n}: {found}')"
      ],
      "execution_count": null,
      "outputs": [
        {
          "output_type": "stream",
          "text": [
            "List contains 2: True\n"
          ],
          "name": "stdout"
        }
      ]
    },
    {
      "cell_type": "code",
      "metadata": {
        "colab": {
          "base_uri": "https://localhost:8080/"
        },
        "id": "tTpi-6lcbi2b",
        "outputId": "182347af-53c8-4846-c0d5-1064e3f3254f"
      },
      "source": [
        "nums = [1, 2, -3, 4, -5, 6]\n",
        " \n",
        "sum_positives = 0\n",
        " \n",
        "for num in nums:\n",
        "    if num < 0:\n",
        "        continue\n",
        "    sum_positives += num\n",
        " \n",
        "print(f'Sum of Positive Numbers: {sum_positives}')"
      ],
      "execution_count": null,
      "outputs": [
        {
          "output_type": "stream",
          "text": [
            "Sum of Positive Numbers: 13\n"
          ],
          "name": "stdout"
        }
      ]
    },
    {
      "cell_type": "code",
      "metadata": {
        "colab": {
          "base_uri": "https://localhost:8080/"
        },
        "id": "C-hKaWCyxppW",
        "outputId": "ddfe8333-a2f4-47df-8bc7-370a7b999721"
      },
      "source": [
        "# Python program to illustrate \n",
        "# nested for loops in Python\n",
        "#from __future__ import print_function\n",
        "for i in range(1, 5):\n",
        "\tfor j in range(i):\n",
        "\t\tprint(i, end=' ')\n",
        "\tprint()\n"
      ],
      "execution_count": null,
      "outputs": [
        {
          "output_type": "stream",
          "text": [
            "1 \n",
            "2 2 \n",
            "3 3 3 \n",
            "4 4 4 4 \n"
          ],
          "name": "stdout"
        }
      ]
    },
    {
      "cell_type": "code",
      "metadata": {
        "colab": {
          "base_uri": "https://localhost:8080/"
        },
        "id": "TJ1pAlPvybRA",
        "outputId": "185a90ea-7313-440d-88f2-d41ed531460b"
      },
      "source": [
        "# An empty loop\n",
        "for letter in 'pallaw':\n",
        "\tpass\n",
        "print('Last Letter :', letter)"
      ],
      "execution_count": null,
      "outputs": [
        {
          "output_type": "stream",
          "text": [
            "Last Letter : w\n"
          ],
          "name": "stdout"
        }
      ]
    },
    {
      "cell_type": "code",
      "metadata": {
        "colab": {
          "base_uri": "https://localhost:8080/"
        },
        "id": "e7T4eFyGb7d7",
        "outputId": "bba58842-f580-42bd-c293-284147df4fb6"
      },
      "source": [
        "\n",
        "str = 'anaconda'\n",
        "for i in str: \n",
        "\tif i == 'a' or i == 'd': \n",
        "\t\tcontinue\n",
        "\tprint('Current Letter :', i) \n",
        "\t"
      ],
      "execution_count": null,
      "outputs": [
        {
          "output_type": "stream",
          "text": [
            "Current Letter : n\n",
            "Current Letter : c\n",
            "Current Letter : o\n",
            "Current Letter : n\n"
          ],
          "name": "stdout"
        }
      ]
    },
    {
      "cell_type": "code",
      "metadata": {
        "colab": {
          "base_uri": "https://localhost:8080/"
        },
        "id": "Cc4s-I_Fdct6",
        "outputId": "d5004796-0412-49f9-9bf1-680871b18f7f"
      },
      "source": [
        "cnt=1 #this is the initial variable\n",
        "while cnt < 5 :\n",
        "        #inside of while loop\n",
        "        print (cnt,\"This is inside of while loop\")\n",
        "        cnt+=1\n",
        "if cnt>=5:\n",
        "  print(\"yes\")        "
      ],
      "execution_count": null,
      "outputs": [
        {
          "output_type": "stream",
          "text": [
            "1 This is inside of while loop\n",
            "2 This is inside of while loop\n",
            "3 This is inside of while loop\n",
            "4 This is inside of while loop\n",
            "yes\n"
          ],
          "name": "stdout"
        }
      ]
    },
    {
      "cell_type": "code",
      "metadata": {
        "colab": {
          "base_uri": "https://localhost:8080/"
        },
        "id": "-jCH51a21KTl",
        "outputId": "b9c07067-e489-4b1d-89bd-d878ed109ad8"
      },
      "source": [
        "# Python program to illustrate \n",
        "# while loop \n",
        "\n",
        "# checks if list still \n",
        "# contains any element \n",
        "a = [1, 2, 3, 4] \n",
        "while a:\n",
        "  print(a.pop())\n",
        "  print(a) \n",
        "\t\n",
        " \n"
      ],
      "execution_count": null,
      "outputs": [
        {
          "output_type": "stream",
          "text": [
            "4\n",
            "[1, 2, 3]\n",
            "3\n",
            "[1, 2]\n",
            "2\n",
            "[1]\n",
            "1\n",
            "[]\n"
          ],
          "name": "stdout"
        }
      ]
    },
    {
      "cell_type": "code",
      "metadata": {
        "id": "qNANMKrTdyNS",
        "colab": {
          "base_uri": "https://localhost:8080/"
        },
        "outputId": "7372c39f-9c57-4a11-eda4-e3fb837b9231"
      },
      "source": [
        "word=\"anaconda\"\n",
        "pos=0 #initial position is zero\n",
        "while pos < len(word) :\n",
        "    print (word[pos])\n",
        "    #increment the position after printing the letter of that position\n",
        "    pos+=1"
      ],
      "execution_count": null,
      "outputs": [
        {
          "output_type": "stream",
          "text": [
            "a\n",
            "n\n",
            "a\n",
            "c\n",
            "o\n",
            "n\n",
            "d\n",
            "a\n"
          ],
          "name": "stdout"
        }
      ]
    },
    {
      "cell_type": "code",
      "metadata": {
        "colab": {
          "base_uri": "https://localhost:8080/"
        },
        "id": "95EW7BJf10Hh",
        "outputId": "71be24f4-7d2c-4487-aec8-0957ec6109a5"
      },
      "source": [
        "# Prints all letters except 'e' and 's' \n",
        "i = 0\n",
        "a = 'anaconda'\n",
        "\n",
        "while i < len(a): \n",
        "\tif a[i] == 'a' or a[i] == 'd': \n",
        "\t\ti += 1\n",
        "\t\tcontinue\n",
        "\tprint('Current Letter :', a[i]) \n",
        "\ti += 1\n"
      ],
      "execution_count": null,
      "outputs": [
        {
          "output_type": "stream",
          "text": [
            "Current Letter : n\n",
            "Current Letter : c\n",
            "Current Letter : o\n",
            "Current Letter : n\n"
          ],
          "name": "stdout"
        }
      ]
    },
    {
      "cell_type": "code",
      "metadata": {
        "colab": {
          "base_uri": "https://localhost:8080/"
        },
        "id": "VUYmelXL2Eju",
        "outputId": "b8a2894d-03bd-4dfd-c944-656145768f93"
      },
      "source": [
        "\n",
        "i = 0\n",
        "a = 'anaconda'\n",
        "\n",
        "while i < len(a): \n",
        "\tif a[i] == 'c' or a[i] == 'd': \n",
        "\t\ti += 1\n",
        "\t\tbreak\n",
        "\tprint('Current Letter :', a[i]) \n",
        "\ti += 1\n"
      ],
      "execution_count": null,
      "outputs": [
        {
          "output_type": "stream",
          "text": [
            "Current Letter : a\n",
            "Current Letter : n\n",
            "Current Letter : a\n"
          ],
          "name": "stdout"
        }
      ]
    },
    {
      "cell_type": "code",
      "metadata": {
        "colab": {
          "base_uri": "https://localhost:8080/"
        },
        "id": "MwBpfyjF2jOm",
        "outputId": "a988f5bb-583b-4adf-9abc-b4c42c05465c"
      },
      "source": [
        "#Pass Statement: We use pass statement to write empty loops. Pass is also used for empty control statements, functions and classes.\n",
        "# An empty loop  \n",
        "a = 'anaconda'\n",
        "i = 0\n",
        "  \n",
        "while i < len(a): \n",
        "    i += 1\n",
        "    pass\n",
        "print('Value of i :', i)"
      ],
      "execution_count": null,
      "outputs": [
        {
          "output_type": "stream",
          "text": [
            "Value of i : 8\n"
          ],
          "name": "stdout"
        }
      ]
    },
    {
      "cell_type": "code",
      "metadata": {
        "colab": {
          "base_uri": "https://localhost:8080/"
        },
        "id": "KH8-ICVaOiKG",
        "outputId": "96a8b086-6a7c-470f-97b9-c12f85621d1f"
      },
      "source": [
        "str = 'anaconda'\n",
        "\n",
        "for i in str: \n",
        "\tif i == 'a' or i == 'd': \n",
        "\t\tcontinue\n",
        "\tprint('Current Letter :', i)"
      ],
      "execution_count": null,
      "outputs": [
        {
          "output_type": "stream",
          "text": [
            "Current Letter : n\n",
            "Current Letter : c\n",
            "Current Letter : o\n",
            "Current Letter : n\n"
          ],
          "name": "stdout"
        }
      ]
    }
  ]
}